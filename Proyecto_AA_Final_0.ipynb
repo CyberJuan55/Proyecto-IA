{
  "nbformat": 4,
  "nbformat_minor": 0,
  "metadata": {
    "colab": {
      "name": " Proyecto AA prueba RandomForest LogistalRegression ",
      "provenance": [],
      "collapsed_sections": []
    },
    "kernelspec": {
      "display_name": "Python 3",
      "name": "python3"
    },
    "language_info": {
      "name": "python"
    }
  },
  "cells": [
    {
      "cell_type": "code",
      "metadata": {
        "id": "GeaBo8GXBlVL"
      },
      "source": [
        "import pandas as pd \n",
        "import seaborn as sns\n",
        "import matplotlib.pyplot as plt\n",
        "from sklearn.pipeline import Pipeline\n",
        "from sklearn.pipeline import make_pipeline\n",
        "from sklearn.preprocessing import OneHotEncoder, OrdinalEncoder\n",
        "from sklearn.preprocessing import StandardScaler\n",
        "from sklearn.compose import ColumnTransformer\n",
        "from sklearn.svm import LinearSVC\n",
        "from sklearn.multiclass import OneVsRestClassifier\n",
        "from sklearn.model_selection import GridSearchCV\n",
        "from sklearn.linear_model import LogisticRegression\n",
        "from sklearn.tree import DecisionTreeClassifier \n",
        "import numpy as np\n",
        "from sklearn.metrics import accuracy_score, confusion_matrix\n",
        "\n",
        "urlTrain  = 'https://raw.githubusercontent.com/CyberJuan55/Proyecto-IA/master/DataSet/SpotifyFeatures_train.csv'\n",
        "urlFull = 'https://raw.githubusercontent.com/CyberJuan55/Proyecto-IA/master/DataSet/SpotifyFeatures.csv'\n",
        "# el train que nos dieron los profes\n",
        "#df_train_original= pd.read_csv('/content/SpotifyFeatures_train.csv')\n",
        "df_train_original = pd.read_csv(urlTrain)\n",
        "df_train = df_train_original.copy()\n",
        "# el dataset nuestro\n",
        "df_full_original = pd.read_csv(urlFull)\n",
        "df_full = df_full_original.copy()\n"
      ],
      "execution_count": 49,
      "outputs": []
    },
    {
      "cell_type": "code",
      "metadata": {
        "id": "NXi_UGYr3nk-"
      },
      "source": [
        ""
      ],
      "execution_count": null,
      "outputs": []
    },
    {
      "cell_type": "markdown",
      "metadata": {
        "id": "PoEJIv4hqDe1"
      },
      "source": [
        "### Preprocesado de datos"
      ]
    },
    {
      "cell_type": "code",
      "metadata": {
        "id": "7o6tPneUaeji"
      },
      "source": [
        "# Funcion para el preprocesamiento de datos\n",
        "\n",
        "\n",
        "def preprocesado(df):\n",
        "\n",
        "    \n",
        "\n",
        "    if df.duplicated().sum() == 0:\n",
        "        print('no hay datos duplicados')\n",
        "    else:\n",
        "        df.drop_duplicates\n",
        "\n",
        "\n",
        "    if 'Unnamed: 0' in df.columns:\n",
        "        df = df.drop(['Unnamed: 0'], axis=1)\n",
        "    else:\n",
        "        print('no esta')  \n",
        "    df = df.drop_duplicates(subset=['track_name','artist_name'],keep=False)\n",
        "    df = df.drop(['time_signature','track_id','artist_name','track_name','speechiness'], axis=1)\n",
        "    df['genre']= df['genre'].replace([\"Children’s Music\"],\"Children's Music\")\n",
        "    indexNamesChildren = df[ df['genre'] == \"Children's Music\" ].index\n",
        "    df.drop(indexNamesChildren , inplace=True)\n",
        "    \n",
        "    cols_with_missing = [col for col in df.columns if df[col].isnull().any()] \n",
        "    faltanDatos = True\n",
        "    if len(cols_with_missing)==0:\n",
        "        faltanDatos= False\n",
        "        print('no faltan valores') \n",
        "    if faltanDatos == True:\n",
        "        print(cols_with_missing)\n",
        "        df.dropna(axis=0, inplace=True)\n",
        "\n",
        "    X = df.drop(columns=['genre'])\n",
        "    y = df['genre']\n",
        "    \n",
        "\n",
        "    return X,y \n"
      ],
      "execution_count": 50,
      "outputs": []
    },
    {
      "cell_type": "code",
      "metadata": {
        "id": "Bz1kZMM683DZ",
        "colab": {
          "base_uri": "https://localhost:8080/"
        },
        "outputId": "9eea8fe7-5232-41a6-bd01-74c7c70af5c0"
      },
      "source": [
        "df_train,y = preprocesado(df_train)"
      ],
      "execution_count": 51,
      "outputs": [
        {
          "output_type": "stream",
          "name": "stdout",
          "text": [
            "no hay datos duplicados\n",
            "no faltan valores\n"
          ]
        }
      ]
    },
    {
      "cell_type": "code",
      "metadata": {
        "id": "AAJqpQSt3vT8",
        "outputId": "6bcc50a4-39b6-431c-d1e8-df2021911637",
        "colab": {
          "base_uri": "https://localhost:8080/",
          "height": 1000
        }
      },
      "source": [
        "df_train.hist(bins=100, figsize=(25,15))"
      ],
      "execution_count": 52,
      "outputs": [
        {
          "output_type": "execute_result",
          "data": {
            "text/plain": [
              "array([[<matplotlib.axes._subplots.AxesSubplot object at 0x7fad6c62f210>,\n",
              "        <matplotlib.axes._subplots.AxesSubplot object at 0x7fad6c642610>,\n",
              "        <matplotlib.axes._subplots.AxesSubplot object at 0x7fad7e6a9f10>],\n",
              "       [<matplotlib.axes._subplots.AxesSubplot object at 0x7fad7deb2550>,\n",
              "        <matplotlib.axes._subplots.AxesSubplot object at 0x7fad7df12b50>,\n",
              "        <matplotlib.axes._subplots.AxesSubplot object at 0x7fad7e3f6190>],\n",
              "       [<matplotlib.axes._subplots.AxesSubplot object at 0x7fad7e925810>,\n",
              "        <matplotlib.axes._subplots.AxesSubplot object at 0x7fad7f845d50>,\n",
              "        <matplotlib.axes._subplots.AxesSubplot object at 0x7fad7f845d90>],\n",
              "       [<matplotlib.axes._subplots.AxesSubplot object at 0x7fad7e1cb4d0>,\n",
              "        <matplotlib.axes._subplots.AxesSubplot object at 0x7fad7e362b10>,\n",
              "        <matplotlib.axes._subplots.AxesSubplot object at 0x7fad7ee48610>]],\n",
              "      dtype=object)"
            ]
          },
          "metadata": {},
          "execution_count": 52
        },
        {
          "output_type": "display_data",
          "data": {
            "image/png": "[encoded data removed]",
            "text/plain": [
              "<Figure size 1800x1080 with 12 Axes>"
            ]
          },
          "metadata": {
            "needs_background": "light"
          }
        }
      ]
    },
    {
      "cell_type": "code",
      "metadata": {
        "id": "EHMElHKWg04A"
      },
      "source": [
        "from sklearn.model_selection import train_test_split, GridSearchCV, cross_val_score, cross_val_predict\n",
        "X_train_full, X_valid_full, y_train, y_valid = train_test_split(df_train, y, \n",
        "                                                                train_size=0.8, test_size=0.2,\n",
        "                                                                random_state=42)"
      ],
      "execution_count": 53,
      "outputs": []
    },
    {
      "cell_type": "code",
      "metadata": {
        "id": "-hgeZxtHgGVx"
      },
      "source": [
        "df_train_num = X_train_full.drop([\"key\",'mode'], axis=1)"
      ],
      "execution_count": 54,
      "outputs": []
    },
    {
      "cell_type": "code",
      "metadata": {
        "id": "lwlGFXS4fIho"
      },
      "source": [
        "from sklearn.pipeline import Pipeline\n",
        "from sklearn.preprocessing import OneHotEncoder, OrdinalEncoder\n",
        "from sklearn.preprocessing import StandardScaler\n",
        "from sklearn.compose import ColumnTransformer\n",
        "\n",
        "num_pipeline = Pipeline([\n",
        "        ('std_scaler', StandardScaler()),\n",
        "    ])\n",
        "cat_attribs1 = [\"key\"]\n",
        "cat_attribs2 = [\"mode\"]\n",
        "num_attribs = list(df_train_num)\n",
        "\n",
        "full_pipeline = ColumnTransformer([\n",
        "        ('numerical', num_pipeline, num_attribs),                          \n",
        "        (\"cat\", OrdinalEncoder(), cat_attribs1),\n",
        "        (\"cat1\", OrdinalEncoder(), cat_attribs2)\n",
        "    ])\n"
      ],
      "execution_count": 55,
      "outputs": []
    },
    {
      "cell_type": "code",
      "metadata": {
        "id": "fMcA7Eswgwlz"
      },
      "source": [
        "df_train_processed = full_pipeline.fit_transform(df_train)"
      ],
      "execution_count": 56,
      "outputs": []
    },
    {
      "cell_type": "code",
      "metadata": {
        "id": "CWUEHtmP3dqs"
      },
      "source": [
        "a = pd.DataFrame(df_train_processed)"
      ],
      "execution_count": 57,
      "outputs": []
    },
    {
      "cell_type": "code",
      "metadata": {
        "id": "L7yb3nrs3wDE",
        "outputId": "bd9b4ba5-8345-4988-c23e-f88739cdce52",
        "colab": {
          "base_uri": "https://localhost:8080/",
          "height": 947
        }
      },
      "source": [
        "f = plt.figure(figsize=[19,15])\n",
        "plt.matshow(a.corr(),fignum=f.number)\n",
        "plt.xticks(range(a.shape[1]),df_train.columns,rotation=45)\n",
        "plt.yticks(range(a.shape[1]),df_train.columns)\n",
        "cb = plt.colorbar()\n",
        "cb.ax.tick_params(labelsize=14)"
      ],
      "execution_count": 58,
      "outputs": [
        {
          "output_type": "display_data",
          "data": {
            "image/png": "[encoded data removed]",
            "text/plain": [
              "<Figure size 1368x1080 with 2 Axes>"
            ]
          },
          "metadata": {
            "needs_background": "light"
          }
        }
      ]
    },
    {
      "cell_type": "code",
      "metadata": {
        "id": "g64ScNLWAwdW"
      },
      "source": [
        "from sklearn.decomposition import PCA\n",
        "dim=[]\n",
        "var=[]\n",
        "for comp in range(3, df_train_processed.shape[1]):\n",
        "    dim.append(comp)\n",
        "    pca = PCA(n_components= comp, random_state=42)\n",
        "    pca.fit(df_train_processed)\n",
        "    comp_check = pca.explained_variance_ratio_\n",
        "    var.append(sum(comp_check))\n",
        "    final_comp = comp\n",
        "    if comp_check.sum() > 0.99:\n",
        "        break"
      ],
      "execution_count": 60,
      "outputs": []
    },
    {
      "cell_type": "code",
      "metadata": {
        "id": "AoIMdpcaKNU2",
        "outputId": "c07d4b59-358f-4603-b18c-72c80d55225e",
        "colab": {
          "base_uri": "https://localhost:8080/"
        }
      },
      "source": [
        ""
      ],
      "execution_count": 59,
      "outputs": [
        {
          "output_type": "stream",
          "name": "stdout",
          "text": [
            "[0.5174011077220976, 0.6788622834406346, 0.7588352622940877, 0.8056257528447234, 0.8474600769897451, 0.8831319216931289, 0.9142404247957332, 0.942673396937623, 0.9610853799421178, 0.9751561564227835, 0.9862168240250734, 0.9955669301684575]\n"
          ]
        }
      ]
    },
    {
      "cell_type": "code",
      "metadata": {
        "id": "RwP9OU7hNOxw"
      },
      "source": [
        "from sklearn.decomposition import PCA\n",
        "pca = PCA()\n",
        "#n_components= 9, random_state=42"
      ],
      "execution_count": 60,
      "outputs": []
    },
    {
      "cell_type": "code",
      "metadata": {
        "id": "jrw7pYBboVaL",
        "outputId": "a64e8f9f-3e37-4ea8-9a85-918d7d80d0e5",
        "colab": {
          "base_uri": "https://localhost:8080/"
        }
      },
      "source": [
        "pca.fit(a)\n"
      ],
      "execution_count": 61,
      "outputs": [
        {
          "output_type": "execute_result",
          "data": {
            "text/plain": [
              "PCA()"
            ]
          },
          "metadata": {},
          "execution_count": 61
        }
      ]
    },
    {
      "cell_type": "code",
      "metadata": {
        "id": "q4Ilp_dVon_e"
      },
      "source": [
        "x_pca = pca.transform(a)"
      ],
      "execution_count": 62,
      "outputs": []
    },
    {
      "cell_type": "code",
      "metadata": {
        "id": "WJHCzzIipwrM",
        "outputId": "1cf2bbc2-2e07-4006-b24c-2e47cd25f563",
        "colab": {
          "base_uri": "https://localhost:8080/"
        }
      },
      "source": [
        "print(x_pca.shape)\n",
        "print(x_pca)"
      ],
      "execution_count": 63,
      "outputs": [
        {
          "output_type": "stream",
          "name": "stdout",
          "text": [
            "(115622, 12)\n",
            "[[-3.31019158  4.50360574 -0.52363449 ...  0.19287051 -0.35998027\n",
            "   0.09392731]\n",
            " [-3.36325791 -1.59002923  0.35409762 ...  0.44931425 -0.49329038\n",
            "   0.35634142]\n",
            " [-4.34712877 -0.14819467 -0.6315632  ...  0.05742929 -0.3943911\n",
            "   0.0475711 ]\n",
            " ...\n",
            " [-3.36728703 -1.22878545  0.03387745 ...  0.28720958  0.56863414\n",
            "   0.42167905]\n",
            " [ 1.62577027 -1.76134062 -1.17456295 ...  0.1940429   0.59041157\n",
            "  -0.26873135]\n",
            " [ 2.65553855  1.89164524 -1.11731136 ... -0.80517312  0.58243494\n",
            "   0.47499234]]\n"
          ]
        }
      ]
    },
    {
      "cell_type": "code",
      "metadata": {
        "id": "JsN3krUqrDjr",
        "outputId": "6e4da613-cf47-4638-d826-f84fa0a6f714",
        "colab": {
          "base_uri": "https://localhost:8080/",
          "height": 298
        }
      },
      "source": [
        "# con .explained_variance_ratio_ vemos la fracción de información que aporta cada componente\n",
        "evr = pca.explained_variance_ratio_\n",
        "\n",
        "# Graficamos la fracción de varianza que aporta cada componente\n",
        "# y la información acumulada\n",
        "fig, ax = plt.subplots(1, 2, figsize = (12, 4))\n",
        "\n",
        "ax[0].plot(range(1, len(evr) + 1), evr, '.-', markersize = 20)\n",
        "ax[0].set_ylabel('Fracción de varianza explicada')\n",
        "ax[0].set_xlabel('Número de componente principal')\n",
        "\n",
        "# Calculamos el acumulado con la función cumsum de numpy \n",
        "varianza_acumulada = np.cumsum(evr)\n",
        "\n",
        "ax[1].plot(range(1, len(evr) + 1), varianza_acumulada, '.-', markersize = 20)\n",
        "ax[1].set_ylabel('Fracción acumulada de varianza explicada')\n",
        "ax[1].set_xlabel('Cantidad de componentes principales')"
      ],
      "execution_count": 64,
      "outputs": [
        {
          "output_type": "execute_result",
          "data": {
            "text/plain": [
              "Text(0.5, 0, 'Cantidad de componentes principales')"
            ]
          },
          "metadata": {},
          "execution_count": 64
        },
        {
          "output_type": "display_data",
          "data": {
            "image/png": "[encoded data removed]",
            "text/plain": [
              "<Figure size 864x288 with 2 Axes>"
            ]
          },
          "metadata": {
            "needs_background": "light"
          }
        }
      ]
    },
    {
      "cell_type": "code",
      "metadata": {
        "id": "NpIC1eFW55Bh"
      },
      "source": [
        "pca = PCA(n_components= 9, random_state=42)\n"
      ],
      "execution_count": 65,
      "outputs": []
    },
    {
      "cell_type": "code",
      "metadata": {
        "id": "7rCDk9Uftbwm"
      },
      "source": [
        "lg=LogisticRegression(max_iter=2000, random_state=1, penalty = 'l2', C = 0.01) #onevsrestclassifier"
      ],
      "execution_count": 30,
      "outputs": []
    },
    {
      "cell_type": "code",
      "metadata": {
        "id": "WuZM78g4Avm9"
      },
      "source": [
        ""
      ],
      "execution_count": null,
      "outputs": []
    },
    {
      "cell_type": "code",
      "metadata": {
        "colab": {
          "base_uri": "https://localhost:8080/"
        },
        "id": "ovxPLYLNlf4S",
        "outputId": "056d9c8a-9e47-49f4-b031-91e9f8ee3e1c"
      },
      "source": [
        "from sklearn.pipeline import make_pipeline\n",
        "LGpipe = make_pipeline(full_pipeline,pca,lg)\n",
        "LGpipe.fit(X_train_full,y_train)\n"
      ],
      "execution_count": 31,
      "outputs": [
        {
          "output_type": "execute_result",
          "data": {
            "text/plain": [
              "Pipeline(steps=[('columntransformer',\n",
              "                 ColumnTransformer(transformers=[('numerical',\n",
              "                                                  Pipeline(steps=[('std_scaler',\n",
              "                                                                   StandardScaler())]),\n",
              "                                                  ['popularity', 'acousticness',\n",
              "                                                   'danceability',\n",
              "                                                   'duration_ms', 'energy',\n",
              "                                                   'instrumentalness',\n",
              "                                                   'liveness', 'loudness',\n",
              "                                                   'speechiness', 'tempo',\n",
              "                                                   'valence']),\n",
              "                                                 ('cat', OrdinalEncoder(),\n",
              "                                                  ['key']),\n",
              "                                                 ('cat1', OrdinalEncoder(),\n",
              "                                                  ['mode'])])),\n",
              "                ('pca', PCA(n_components=6, random_state=42)),\n",
              "                ('logisticregression',\n",
              "                 LogisticRegression(C=0.01, max_iter=2000, random_state=1))])"
            ]
          },
          "metadata": {},
          "execution_count": 31
        }
      ]
    },
    {
      "cell_type": "code",
      "metadata": {
        "id": "oIR2lbPpn8ao"
      },
      "source": [
        "lg_cross_val = cross_val_score(LGpipe,X_train_full,y_train,cv=5,scoring='accuracy').mean()"
      ],
      "execution_count": 32,
      "outputs": []
    },
    {
      "cell_type": "code",
      "metadata": {
        "id": "B_ZJFDzAOfMO",
        "outputId": "e2ff20ca-e396-4a59-cc5b-aa277668dd27",
        "colab": {
          "base_uri": "https://localhost:8080/"
        }
      },
      "source": [
        "lg_cross_val"
      ],
      "execution_count": 65,
      "outputs": [
        {
          "output_type": "execute_result",
          "data": {
            "text/plain": [
              "0.41292145813579406"
            ]
          },
          "metadata": {},
          "execution_count": 65
        }
      ]
    },
    {
      "cell_type": "code",
      "metadata": {
        "id": "rPZOsxWCrzmM"
      },
      "source": [
        "params = {}\n",
        "\n",
        "params['logisticregression__C'] = [0.1,1,10]\n"
      ],
      "execution_count": 66,
      "outputs": []
    },
    {
      "cell_type": "code",
      "metadata": {
        "colab": {
          "base_uri": "https://localhost:8080/"
        },
        "id": "MEC9so6Assb7",
        "outputId": "f6c24b22-7c65-4ab5-f8f8-60c44172d10b"
      },
      "source": [
        "lGgrid = GridSearchCV(LGpipe, params, cv=5,scoring='accuracy' )\n",
        "lGgrid.fit(X_train_full,y_train)"
      ],
      "execution_count": 67,
      "outputs": [
        {
          "output_type": "execute_result",
          "data": {
            "text/plain": [
              "GridSearchCV(cv=5,\n",
              "             estimator=Pipeline(steps=[('columntransformer',\n",
              "                                        ColumnTransformer(transformers=[('numerical',\n",
              "                                                                         Pipeline(steps=[('std_scaler',\n",
              "                                                                                          StandardScaler())]),\n",
              "                                                                         ['popularity',\n",
              "                                                                          'acousticness',\n",
              "                                                                          'danceability',\n",
              "                                                                          'duration_ms',\n",
              "                                                                          'energy',\n",
              "                                                                          'instrumentalness',\n",
              "                                                                          'liveness',\n",
              "                                                                          'loudness',\n",
              "                                                                          'speechiness',\n",
              "                                                                          'tempo',\n",
              "                                                                          'valence']),\n",
              "                                                                        ('cat',\n",
              "                                                                         OrdinalEncoder(),\n",
              "                                                                         ['key']),\n",
              "                                                                        ('cat1',\n",
              "                                                                         OrdinalEncoder(),\n",
              "                                                                         ['mode'])])),\n",
              "                                       ('pca',\n",
              "                                        PCA(n_components=8, random_state=42)),\n",
              "                                       ('logisticregression',\n",
              "                                        LogisticRegression(C=0.01,\n",
              "                                                           max_iter=2000,\n",
              "                                                           random_state=1))]),\n",
              "             param_grid={'logisticregression__C': [0.1, 1, 10]},\n",
              "             scoring='accuracy')"
            ]
          },
          "metadata": {},
          "execution_count": 67
        }
      ]
    },
    {
      "cell_type": "code",
      "metadata": {
        "colab": {
          "base_uri": "https://localhost:8080/"
        },
        "id": "NZ0InDB300re",
        "outputId": "723b877d-cca1-4c48-f473-94bcc8846dbe"
      },
      "source": [
        "lGgrid.best_score_"
      ],
      "execution_count": 68,
      "outputs": [
        {
          "output_type": "execute_result",
          "data": {
            "text/plain": [
              "0.41750536990312115"
            ]
          },
          "metadata": {},
          "execution_count": 68
        }
      ]
    },
    {
      "cell_type": "markdown",
      "metadata": {
        "id": "vqKhD0onl6l5"
      },
      "source": [
        "### DesicionTree"
      ]
    },
    {
      "cell_type": "code",
      "metadata": {
        "id": "b34tbDw4l9Cg"
      },
      "source": [
        "# Create Decision Tree classifer object\n",
        "dtc = DecisionTreeClassifier()\n",
        "\n",
        "dtcPipe = make_pipeline(full_pipeline,dtc)\n",
        "dtcPipe.fit(X_train_full,y_train)\n",
        "\n"
      ],
      "execution_count": null,
      "outputs": []
    },
    {
      "cell_type": "code",
      "metadata": {
        "id": "PVD3L7mHVU5X"
      },
      "source": [
        "dtc_cross_val = cross_val_score(dtcPipe,X_train_full,y_train,cv=5,scoring='accuracy').mean()"
      ],
      "execution_count": null,
      "outputs": []
    },
    {
      "cell_type": "code",
      "metadata": {
        "id": "b73vD82k62QZ",
        "colab": {
          "base_uri": "https://localhost:8080/"
        },
        "outputId": "cffc4db3-9288-42ce-8246-1df7958638e4"
      },
      "source": [
        "dtc_cross_val"
      ],
      "execution_count": null,
      "outputs": [
        {
          "output_type": "execute_result",
          "data": {
            "text/plain": [
              "0.42534350227842843"
            ]
          },
          "metadata": {},
          "execution_count": 39
        }
      ]
    },
    {
      "cell_type": "markdown",
      "metadata": {
        "id": "86J-a0eBl5lS"
      },
      "source": [
        "### RandomForest"
      ]
    },
    {
      "cell_type": "code",
      "metadata": {
        "id": "CfR6kH-iyHTy",
        "colab": {
          "base_uri": "https://localhost:8080/"
        },
        "outputId": "c35e9a67-5021-40de-a2c6-1c5e28034338"
      },
      "source": [
        "from sklearn.ensemble import RandomForestClassifier\n",
        "\n",
        "rfc = RandomForestClassifier(n_estimators=250, random_state=42)\n",
        "\n",
        "rfcPipe = make_pipeline(full_pipeline,pca,rfc)\n",
        "rfcPipe.fit(X_train_full,y_train)\n",
        "\n",
        "\n"
      ],
      "execution_count": 40,
      "outputs": [
        {
          "output_type": "execute_result",
          "data": {
            "text/plain": [
              "Pipeline(steps=[('columntransformer',\n",
              "                 ColumnTransformer(transformers=[('numerical',\n",
              "                                                  Pipeline(steps=[('std_scaler',\n",
              "                                                                   StandardScaler())]),\n",
              "                                                  ['popularity', 'acousticness',\n",
              "                                                   'danceability',\n",
              "                                                   'duration_ms', 'energy',\n",
              "                                                   'instrumentalness',\n",
              "                                                   'liveness', 'loudness',\n",
              "                                                   'speechiness', 'tempo',\n",
              "                                                   'valence']),\n",
              "                                                 ('cat', OrdinalEncoder(),\n",
              "                                                  ['key']),\n",
              "                                                 ('cat1', OrdinalEncoder(),\n",
              "                                                  ['mode'])])),\n",
              "                ('pca', PCA(n_components=6, random_state=42)),\n",
              "                ('randomforestclassifier',\n",
              "                 RandomForestClassifier(n_estimators=250, random_state=42))])"
            ]
          },
          "metadata": {},
          "execution_count": 40
        }
      ]
    },
    {
      "cell_type": "code",
      "metadata": {
        "id": "_e7et2EN4jEs"
      },
      "source": [
        "predict = rfcPipe.predict(X_valid_full)"
      ],
      "execution_count": 47,
      "outputs": []
    },
    {
      "cell_type": "code",
      "metadata": {
        "id": "GhxjxC2n46uE",
        "outputId": "cd5a7478-c500-4960-d40b-5113fb6c72bf",
        "colab": {
          "base_uri": "https://localhost:8080/"
        }
      },
      "source": [
        "print(accuracy_score(y_valid, predict))"
      ],
      "execution_count": 48,
      "outputs": [
        {
          "output_type": "stream",
          "name": "stdout",
          "text": [
            "0.41033513513513514\n"
          ]
        }
      ]
    },
    {
      "cell_type": "code",
      "metadata": {
        "id": "EvEzWycTVbLU"
      },
      "source": [
        "rfc_cross_val = cross_val_score(rfcPipe,X_train_full,y_train,cv=5,scoring='accuracy')"
      ],
      "execution_count": 11,
      "outputs": []
    },
    {
      "cell_type": "code",
      "metadata": {
        "id": "OUrp9YP-78y8",
        "outputId": "820fc26e-49c4-4408-9b39-4fcd2f10b2ce",
        "colab": {
          "base_uri": "https://localhost:8080/"
        }
      },
      "source": [
        "rfc_cross_val"
      ],
      "execution_count": 12,
      "outputs": [
        {
          "output_type": "execute_result",
          "data": {
            "text/plain": [
              "0.5071839447859123"
            ]
          },
          "metadata": {},
          "execution_count": 12
        }
      ]
    },
    {
      "cell_type": "code",
      "metadata": {
        "id": "z5Vfk2rDyLEG",
        "outputId": "d0d9b425-4416-43cc-bcad-6286808917a5",
        "colab": {
          "base_uri": "https://localhost:8080/",
          "height": 377
        }
      },
      "source": [
        "predict = rfc.predict(X_valid_full)\n",
        "print(accuracy_score(y_valid, predict))"
      ],
      "execution_count": 10,
      "outputs": [
        {
          "output_type": "stream",
          "name": "stderr",
          "text": [
            "/usr/local/lib/python3.7/dist-packages/sklearn/base.py:439: UserWarning: X has feature names, but RandomForestClassifier was fitted without feature names\n",
            "  f\"X has feature names, but {self.__class__.__name__} was fitted without\"\n"
          ]
        },
        {
          "output_type": "error",
          "ename": "ValueError",
          "evalue": "ignored",
          "traceback": [
            "\u001b[0;31m---------------------------------------------------------------------------\u001b[0m",
            "\u001b[0;31mValueError\u001b[0m                                Traceback (most recent call last)",
            "\u001b[0;32m<ipython-input-10-059d2627d8d5>\u001b[0m in \u001b[0;36m<module>\u001b[0;34m()\u001b[0m\n\u001b[0;32m----> 1\u001b[0;31m \u001b[0mpredict\u001b[0m \u001b[0;34m=\u001b[0m \u001b[0mrfc\u001b[0m\u001b[0;34m.\u001b[0m\u001b[0mpredict\u001b[0m\u001b[0;34m(\u001b[0m\u001b[0mX_valid_full\u001b[0m\u001b[0;34m)\u001b[0m\u001b[0;34m\u001b[0m\u001b[0;34m\u001b[0m\u001b[0m\n\u001b[0m\u001b[1;32m      2\u001b[0m \u001b[0mprint\u001b[0m\u001b[0;34m(\u001b[0m\u001b[0maccuracy_score\u001b[0m\u001b[0;34m(\u001b[0m\u001b[0my_valid\u001b[0m\u001b[0;34m,\u001b[0m \u001b[0mpredict\u001b[0m\u001b[0;34m)\u001b[0m\u001b[0;34m)\u001b[0m\u001b[0;34m\u001b[0m\u001b[0;34m\u001b[0m\u001b[0m\n",
            "\u001b[0;32m/usr/local/lib/python3.7/dist-packages/sklearn/ensemble/_forest.py\u001b[0m in \u001b[0;36mpredict\u001b[0;34m(self, X)\u001b[0m\n\u001b[1;32m    796\u001b[0m             \u001b[0mThe\u001b[0m \u001b[0mpredicted\u001b[0m \u001b[0mclasses\u001b[0m\u001b[0;34m.\u001b[0m\u001b[0;34m\u001b[0m\u001b[0;34m\u001b[0m\u001b[0m\n\u001b[1;32m    797\u001b[0m         \"\"\"\n\u001b[0;32m--> 798\u001b[0;31m         \u001b[0mproba\u001b[0m \u001b[0;34m=\u001b[0m \u001b[0mself\u001b[0m\u001b[0;34m.\u001b[0m\u001b[0mpredict_proba\u001b[0m\u001b[0;34m(\u001b[0m\u001b[0mX\u001b[0m\u001b[0;34m)\u001b[0m\u001b[0;34m\u001b[0m\u001b[0;34m\u001b[0m\u001b[0m\n\u001b[0m\u001b[1;32m    799\u001b[0m \u001b[0;34m\u001b[0m\u001b[0m\n\u001b[1;32m    800\u001b[0m         \u001b[0;32mif\u001b[0m \u001b[0mself\u001b[0m\u001b[0;34m.\u001b[0m\u001b[0mn_outputs_\u001b[0m \u001b[0;34m==\u001b[0m \u001b[0;36m1\u001b[0m\u001b[0;34m:\u001b[0m\u001b[0;34m\u001b[0m\u001b[0;34m\u001b[0m\u001b[0m\n",
            "\u001b[0;32m/usr/local/lib/python3.7/dist-packages/sklearn/ensemble/_forest.py\u001b[0m in \u001b[0;36mpredict_proba\u001b[0;34m(self, X)\u001b[0m\n\u001b[1;32m    838\u001b[0m         \u001b[0mcheck_is_fitted\u001b[0m\u001b[0;34m(\u001b[0m\u001b[0mself\u001b[0m\u001b[0;34m)\u001b[0m\u001b[0;34m\u001b[0m\u001b[0;34m\u001b[0m\u001b[0m\n\u001b[1;32m    839\u001b[0m         \u001b[0;31m# Check data\u001b[0m\u001b[0;34m\u001b[0m\u001b[0;34m\u001b[0m\u001b[0;34m\u001b[0m\u001b[0m\n\u001b[0;32m--> 840\u001b[0;31m         \u001b[0mX\u001b[0m \u001b[0;34m=\u001b[0m \u001b[0mself\u001b[0m\u001b[0;34m.\u001b[0m\u001b[0m_validate_X_predict\u001b[0m\u001b[0;34m(\u001b[0m\u001b[0mX\u001b[0m\u001b[0;34m)\u001b[0m\u001b[0;34m\u001b[0m\u001b[0;34m\u001b[0m\u001b[0m\n\u001b[0m\u001b[1;32m    841\u001b[0m \u001b[0;34m\u001b[0m\u001b[0m\n\u001b[1;32m    842\u001b[0m         \u001b[0;31m# Assign chunk of trees to jobs\u001b[0m\u001b[0;34m\u001b[0m\u001b[0;34m\u001b[0m\u001b[0;34m\u001b[0m\u001b[0m\n",
            "\u001b[0;32m/usr/local/lib/python3.7/dist-packages/sklearn/ensemble/_forest.py\u001b[0m in \u001b[0;36m_validate_X_predict\u001b[0;34m(self, X)\u001b[0m\n\u001b[1;32m    567\u001b[0m         Validate X whenever one tries to predict, apply, predict_proba.\"\"\"\n\u001b[1;32m    568\u001b[0m         \u001b[0mcheck_is_fitted\u001b[0m\u001b[0;34m(\u001b[0m\u001b[0mself\u001b[0m\u001b[0;34m)\u001b[0m\u001b[0;34m\u001b[0m\u001b[0;34m\u001b[0m\u001b[0m\n\u001b[0;32m--> 569\u001b[0;31m         \u001b[0mX\u001b[0m \u001b[0;34m=\u001b[0m \u001b[0mself\u001b[0m\u001b[0;34m.\u001b[0m\u001b[0m_validate_data\u001b[0m\u001b[0;34m(\u001b[0m\u001b[0mX\u001b[0m\u001b[0;34m,\u001b[0m \u001b[0mdtype\u001b[0m\u001b[0;34m=\u001b[0m\u001b[0mDTYPE\u001b[0m\u001b[0;34m,\u001b[0m \u001b[0maccept_sparse\u001b[0m\u001b[0;34m=\u001b[0m\u001b[0;34m\"csr\"\u001b[0m\u001b[0;34m,\u001b[0m \u001b[0mreset\u001b[0m\u001b[0;34m=\u001b[0m\u001b[0;32mFalse\u001b[0m\u001b[0;34m)\u001b[0m\u001b[0;34m\u001b[0m\u001b[0;34m\u001b[0m\u001b[0m\n\u001b[0m\u001b[1;32m    570\u001b[0m         \u001b[0;32mif\u001b[0m \u001b[0missparse\u001b[0m\u001b[0;34m(\u001b[0m\u001b[0mX\u001b[0m\u001b[0;34m)\u001b[0m \u001b[0;32mand\u001b[0m \u001b[0;34m(\u001b[0m\u001b[0mX\u001b[0m\u001b[0;34m.\u001b[0m\u001b[0mindices\u001b[0m\u001b[0;34m.\u001b[0m\u001b[0mdtype\u001b[0m \u001b[0;34m!=\u001b[0m \u001b[0mnp\u001b[0m\u001b[0;34m.\u001b[0m\u001b[0mintc\u001b[0m \u001b[0;32mor\u001b[0m \u001b[0mX\u001b[0m\u001b[0;34m.\u001b[0m\u001b[0mindptr\u001b[0m\u001b[0;34m.\u001b[0m\u001b[0mdtype\u001b[0m \u001b[0;34m!=\u001b[0m \u001b[0mnp\u001b[0m\u001b[0;34m.\u001b[0m\u001b[0mintc\u001b[0m\u001b[0;34m)\u001b[0m\u001b[0;34m:\u001b[0m\u001b[0;34m\u001b[0m\u001b[0;34m\u001b[0m\u001b[0m\n\u001b[1;32m    571\u001b[0m             \u001b[0;32mraise\u001b[0m \u001b[0mValueError\u001b[0m\u001b[0;34m(\u001b[0m\u001b[0;34m\"No support for np.int64 index based sparse matrices\"\u001b[0m\u001b[0;34m)\u001b[0m\u001b[0;34m\u001b[0m\u001b[0;34m\u001b[0m\u001b[0m\n",
            "\u001b[0;32m/usr/local/lib/python3.7/dist-packages/sklearn/base.py\u001b[0m in \u001b[0;36m_validate_data\u001b[0;34m(self, X, y, reset, validate_separately, **check_params)\u001b[0m\n\u001b[1;32m    559\u001b[0m             \u001b[0;32mraise\u001b[0m \u001b[0mValueError\u001b[0m\u001b[0;34m(\u001b[0m\u001b[0;34m\"Validation should be done on X, y or both.\"\u001b[0m\u001b[0;34m)\u001b[0m\u001b[0;34m\u001b[0m\u001b[0;34m\u001b[0m\u001b[0m\n\u001b[1;32m    560\u001b[0m         \u001b[0;32melif\u001b[0m \u001b[0;32mnot\u001b[0m \u001b[0mno_val_X\u001b[0m \u001b[0;32mand\u001b[0m \u001b[0mno_val_y\u001b[0m\u001b[0;34m:\u001b[0m\u001b[0;34m\u001b[0m\u001b[0;34m\u001b[0m\u001b[0m\n\u001b[0;32m--> 561\u001b[0;31m             \u001b[0mX\u001b[0m \u001b[0;34m=\u001b[0m \u001b[0mcheck_array\u001b[0m\u001b[0;34m(\u001b[0m\u001b[0mX\u001b[0m\u001b[0;34m,\u001b[0m \u001b[0;34m**\u001b[0m\u001b[0mcheck_params\u001b[0m\u001b[0;34m)\u001b[0m\u001b[0;34m\u001b[0m\u001b[0;34m\u001b[0m\u001b[0m\n\u001b[0m\u001b[1;32m    562\u001b[0m             \u001b[0mout\u001b[0m \u001b[0;34m=\u001b[0m \u001b[0mX\u001b[0m\u001b[0;34m\u001b[0m\u001b[0;34m\u001b[0m\u001b[0m\n\u001b[1;32m    563\u001b[0m         \u001b[0;32melif\u001b[0m \u001b[0mno_val_X\u001b[0m \u001b[0;32mand\u001b[0m \u001b[0;32mnot\u001b[0m \u001b[0mno_val_y\u001b[0m\u001b[0;34m:\u001b[0m\u001b[0;34m\u001b[0m\u001b[0;34m\u001b[0m\u001b[0m\n",
            "\u001b[0;32m/usr/local/lib/python3.7/dist-packages/sklearn/utils/validation.py\u001b[0m in \u001b[0;36mcheck_array\u001b[0;34m(array, accept_sparse, accept_large_sparse, dtype, order, copy, force_all_finite, ensure_2d, allow_nd, ensure_min_samples, ensure_min_features, estimator)\u001b[0m\n\u001b[1;32m    736\u001b[0m                     \u001b[0marray\u001b[0m \u001b[0;34m=\u001b[0m \u001b[0marray\u001b[0m\u001b[0;34m.\u001b[0m\u001b[0mastype\u001b[0m\u001b[0;34m(\u001b[0m\u001b[0mdtype\u001b[0m\u001b[0;34m,\u001b[0m \u001b[0mcasting\u001b[0m\u001b[0;34m=\u001b[0m\u001b[0;34m\"unsafe\"\u001b[0m\u001b[0;34m,\u001b[0m \u001b[0mcopy\u001b[0m\u001b[0;34m=\u001b[0m\u001b[0;32mFalse\u001b[0m\u001b[0;34m)\u001b[0m\u001b[0;34m\u001b[0m\u001b[0;34m\u001b[0m\u001b[0m\n\u001b[1;32m    737\u001b[0m                 \u001b[0;32melse\u001b[0m\u001b[0;34m:\u001b[0m\u001b[0;34m\u001b[0m\u001b[0;34m\u001b[0m\u001b[0m\n\u001b[0;32m--> 738\u001b[0;31m                     \u001b[0marray\u001b[0m \u001b[0;34m=\u001b[0m \u001b[0mnp\u001b[0m\u001b[0;34m.\u001b[0m\u001b[0masarray\u001b[0m\u001b[0;34m(\u001b[0m\u001b[0marray\u001b[0m\u001b[0;34m,\u001b[0m \u001b[0morder\u001b[0m\u001b[0;34m=\u001b[0m\u001b[0morder\u001b[0m\u001b[0;34m,\u001b[0m \u001b[0mdtype\u001b[0m\u001b[0;34m=\u001b[0m\u001b[0mdtype\u001b[0m\u001b[0;34m)\u001b[0m\u001b[0;34m\u001b[0m\u001b[0;34m\u001b[0m\u001b[0m\n\u001b[0m\u001b[1;32m    739\u001b[0m             \u001b[0;32mexcept\u001b[0m \u001b[0mComplexWarning\u001b[0m \u001b[0;32mas\u001b[0m \u001b[0mcomplex_warning\u001b[0m\u001b[0;34m:\u001b[0m\u001b[0;34m\u001b[0m\u001b[0;34m\u001b[0m\u001b[0m\n\u001b[1;32m    740\u001b[0m                 raise ValueError(\n",
            "\u001b[0;32m/usr/local/lib/python3.7/dist-packages/numpy/core/_asarray.py\u001b[0m in \u001b[0;36masarray\u001b[0;34m(a, dtype, order)\u001b[0m\n\u001b[1;32m     81\u001b[0m \u001b[0;34m\u001b[0m\u001b[0m\n\u001b[1;32m     82\u001b[0m     \"\"\"\n\u001b[0;32m---> 83\u001b[0;31m     \u001b[0;32mreturn\u001b[0m \u001b[0marray\u001b[0m\u001b[0;34m(\u001b[0m\u001b[0ma\u001b[0m\u001b[0;34m,\u001b[0m \u001b[0mdtype\u001b[0m\u001b[0;34m,\u001b[0m \u001b[0mcopy\u001b[0m\u001b[0;34m=\u001b[0m\u001b[0;32mFalse\u001b[0m\u001b[0;34m,\u001b[0m \u001b[0morder\u001b[0m\u001b[0;34m=\u001b[0m\u001b[0morder\u001b[0m\u001b[0;34m)\u001b[0m\u001b[0;34m\u001b[0m\u001b[0;34m\u001b[0m\u001b[0m\n\u001b[0m\u001b[1;32m     84\u001b[0m \u001b[0;34m\u001b[0m\u001b[0m\n\u001b[1;32m     85\u001b[0m \u001b[0;34m\u001b[0m\u001b[0m\n",
            "\u001b[0;32m/usr/local/lib/python3.7/dist-packages/pandas/core/generic.py\u001b[0m in \u001b[0;36m__array__\u001b[0;34m(self, dtype)\u001b[0m\n\u001b[1;32m   1779\u001b[0m \u001b[0;34m\u001b[0m\u001b[0m\n\u001b[1;32m   1780\u001b[0m     \u001b[0;32mdef\u001b[0m \u001b[0m__array__\u001b[0m\u001b[0;34m(\u001b[0m\u001b[0mself\u001b[0m\u001b[0;34m,\u001b[0m \u001b[0mdtype\u001b[0m\u001b[0;34m=\u001b[0m\u001b[0;32mNone\u001b[0m\u001b[0;34m)\u001b[0m \u001b[0;34m->\u001b[0m \u001b[0mnp\u001b[0m\u001b[0;34m.\u001b[0m\u001b[0mndarray\u001b[0m\u001b[0;34m:\u001b[0m\u001b[0;34m\u001b[0m\u001b[0;34m\u001b[0m\u001b[0m\n\u001b[0;32m-> 1781\u001b[0;31m         \u001b[0;32mreturn\u001b[0m \u001b[0mnp\u001b[0m\u001b[0;34m.\u001b[0m\u001b[0masarray\u001b[0m\u001b[0;34m(\u001b[0m\u001b[0mself\u001b[0m\u001b[0;34m.\u001b[0m\u001b[0m_values\u001b[0m\u001b[0;34m,\u001b[0m \u001b[0mdtype\u001b[0m\u001b[0;34m=\u001b[0m\u001b[0mdtype\u001b[0m\u001b[0;34m)\u001b[0m\u001b[0;34m\u001b[0m\u001b[0;34m\u001b[0m\u001b[0m\n\u001b[0m\u001b[1;32m   1782\u001b[0m \u001b[0;34m\u001b[0m\u001b[0m\n\u001b[1;32m   1783\u001b[0m     \u001b[0;32mdef\u001b[0m \u001b[0m__array_wrap__\u001b[0m\u001b[0;34m(\u001b[0m\u001b[0mself\u001b[0m\u001b[0;34m,\u001b[0m \u001b[0mresult\u001b[0m\u001b[0;34m,\u001b[0m \u001b[0mcontext\u001b[0m\u001b[0;34m=\u001b[0m\u001b[0;32mNone\u001b[0m\u001b[0;34m)\u001b[0m\u001b[0;34m:\u001b[0m\u001b[0;34m\u001b[0m\u001b[0;34m\u001b[0m\u001b[0m\n",
            "\u001b[0;32m/usr/local/lib/python3.7/dist-packages/numpy/core/_asarray.py\u001b[0m in \u001b[0;36masarray\u001b[0;34m(a, dtype, order)\u001b[0m\n\u001b[1;32m     81\u001b[0m \u001b[0;34m\u001b[0m\u001b[0m\n\u001b[1;32m     82\u001b[0m     \"\"\"\n\u001b[0;32m---> 83\u001b[0;31m     \u001b[0;32mreturn\u001b[0m \u001b[0marray\u001b[0m\u001b[0;34m(\u001b[0m\u001b[0ma\u001b[0m\u001b[0;34m,\u001b[0m \u001b[0mdtype\u001b[0m\u001b[0;34m,\u001b[0m \u001b[0mcopy\u001b[0m\u001b[0;34m=\u001b[0m\u001b[0;32mFalse\u001b[0m\u001b[0;34m,\u001b[0m \u001b[0morder\u001b[0m\u001b[0;34m=\u001b[0m\u001b[0morder\u001b[0m\u001b[0;34m)\u001b[0m\u001b[0;34m\u001b[0m\u001b[0;34m\u001b[0m\u001b[0m\n\u001b[0m\u001b[1;32m     84\u001b[0m \u001b[0;34m\u001b[0m\u001b[0m\n\u001b[1;32m     85\u001b[0m \u001b[0;34m\u001b[0m\u001b[0m\n",
            "\u001b[0;31mValueError\u001b[0m: could not convert string to float: 'F'"
          ]
        }
      ]
    },
    {
      "cell_type": "markdown",
      "metadata": {
        "id": "Q5FxtF6bnwmR"
      },
      "source": [
        "###KNN"
      ]
    },
    {
      "cell_type": "code",
      "metadata": {
        "id": "yvYNtdFT7OfL"
      },
      "source": [
        "from sklearn.neighbors import KNeighborsClassifier\n",
        "knn = KNeighborsClassifier(n_neighbors = 1)\n",
        "knn.fit(X_train_full, y_train)\n",
        "y_pred_knn = knn.predict(X_valid_full)\n",
        "print(accuracy_score(y_valid, y_pred_knn))\n"
      ],
      "execution_count": null,
      "outputs": []
    },
    {
      "cell_type": "code",
      "metadata": {
        "id": "F6VcYyvCyrav"
      },
      "source": [
        "# Numero de arboles\n",
        "n_estimators = [int(x) for x in np.linspace(start = 10, stop = 80, num = 8)]\n",
        "# Numero de features considerado al dividir\n",
        "max_features = ['auto', 'sqrt']\n",
        "# numero maximo de niveles\n",
        "#max_depth = [2,4]\n",
        "# Numero minimo de niveles por nodo\n",
        "min_samples_split = [2, 5]\n",
        "# Numero minimo de niveles por hoja\n",
        "min_samples_leaf = [1, 2]\n",
        "# metodo de seleccion por arbol \n",
        "bootstrap = [True, False]"
      ],
      "execution_count": 39,
      "outputs": []
    },
    {
      "cell_type": "markdown",
      "metadata": {
        "id": "veu4QdkZn49l"
      },
      "source": [
        "### GridSerchCv RandonForest"
      ]
    },
    {
      "cell_type": "code",
      "metadata": {
        "id": "Wh1crlC3yuHh",
        "outputId": "7e046159-1e12-45d7-f1d6-40d14c014c76",
        "colab": {
          "base_uri": "https://localhost:8080/",
          "height": 245
        }
      },
      "source": [
        "#'randomforestclassifier__n_jobs': None\n",
        "#'randomforestclassifier__n_estimators': 30,\n",
        "params = {}\n",
        "\n",
        "params['logisticregression__C'] = [0.1,1,10]\n",
        "\n",
        "\n",
        "# Grilla\n",
        "param_grid = {}\n",
        "param_grid['randomforestclassifier__n_estimators'] = n_estimators\n",
        "param_grid['randomforestclassifier__max_features'] = max_features\n",
        "#param_grid['randomforestclassifier__max_depth'] = max_depth\n",
        "param_grid['randomforestclassifier__min_samples_split'] = min_samples_split\n",
        "#param_grid['randomforestclassifier__min_samples_leaf'] = min_samples_leaf = [1, 2]\n",
        "param_grid['randomforestclassifier__bootstrap']  = bootstrap\n",
        "          \n",
        "          \n",
        "               #'bootstrap': bootstrap"
      ],
      "execution_count": 38,
      "outputs": [
        {
          "output_type": "error",
          "ename": "NameError",
          "evalue": "ignored",
          "traceback": [
            "\u001b[0;31m---------------------------------------------------------------------------\u001b[0m",
            "\u001b[0;31mNameError\u001b[0m                                 Traceback (most recent call last)",
            "\u001b[0;32m<ipython-input-38-2ac642e752f0>\u001b[0m in \u001b[0;36m<module>\u001b[0;34m()\u001b[0m\n\u001b[1;32m      8\u001b[0m \u001b[0;31m# Grilla\u001b[0m\u001b[0;34m\u001b[0m\u001b[0;34m\u001b[0m\u001b[0;34m\u001b[0m\u001b[0m\n\u001b[1;32m      9\u001b[0m \u001b[0mparam_grid\u001b[0m \u001b[0;34m=\u001b[0m \u001b[0;34m{\u001b[0m\u001b[0;34m}\u001b[0m\u001b[0;34m\u001b[0m\u001b[0;34m\u001b[0m\u001b[0m\n\u001b[0;32m---> 10\u001b[0;31m \u001b[0mparam_grid\u001b[0m\u001b[0;34m[\u001b[0m\u001b[0;34m'randomforestclassifier__n_estimators'\u001b[0m\u001b[0;34m]\u001b[0m \u001b[0;34m=\u001b[0m \u001b[0mn_estimators\u001b[0m\u001b[0;34m\u001b[0m\u001b[0;34m\u001b[0m\u001b[0m\n\u001b[0m\u001b[1;32m     11\u001b[0m \u001b[0mparam_grid\u001b[0m\u001b[0;34m[\u001b[0m\u001b[0;34m'randomforestclassifier__max_features'\u001b[0m\u001b[0;34m]\u001b[0m \u001b[0;34m=\u001b[0m \u001b[0mmax_features\u001b[0m\u001b[0;34m\u001b[0m\u001b[0;34m\u001b[0m\u001b[0m\n\u001b[1;32m     12\u001b[0m \u001b[0;31m#param_grid['randomforestclassifier__max_depth'] = max_depth\u001b[0m\u001b[0;34m\u001b[0m\u001b[0;34m\u001b[0m\u001b[0;34m\u001b[0m\u001b[0m\n",
            "\u001b[0;31mNameError\u001b[0m: name 'n_estimators' is not defined"
          ]
        }
      ]
    },
    {
      "cell_type": "code",
      "metadata": {
        "id": "8nDRxeJcyw7l"
      },
      "source": [
        "from sklearn.model_selection import GridSearchCV\n",
        "rfc_Grid = GridSearchCV(estimator = rfcPipe, param_grid = param_grid, cv = 5, scoring='accuracy')\n",
        "#, verbose=2, n_jobs = 4"
      ],
      "execution_count": 15,
      "outputs": []
    },
    {
      "cell_type": "code",
      "metadata": {
        "id": "O2G0dUgZyzVy",
        "outputId": "acb8076f-672f-4e20-dce9-68b54f633d8b",
        "colab": {
          "base_uri": "https://localhost:8080/"
        }
      },
      "source": [
        "rfc_Grid.fit(X_train_full, y_train)\n"
      ],
      "execution_count": 16,
      "outputs": [
        {
          "output_type": "execute_result",
          "data": {
            "text/plain": [
              "GridSearchCV(cv=5,\n",
              "             estimator=Pipeline(steps=[('columntransformer',\n",
              "                                        ColumnTransformer(transformers=[('numerical',\n",
              "                                                                         Pipeline(steps=[('std_scaler',\n",
              "                                                                                          StandardScaler())]),\n",
              "                                                                         ['popularity',\n",
              "                                                                          'acousticness',\n",
              "                                                                          'danceability',\n",
              "                                                                          'duration_ms',\n",
              "                                                                          'energy',\n",
              "                                                                          'instrumentalness',\n",
              "                                                                          'liveness',\n",
              "                                                                          'loudness',\n",
              "                                                                          'speechiness',\n",
              "                                                                          'tempo',\n",
              "                                                                          'valence']),\n",
              "                                                                        ('cat',\n",
              "                                                                         OrdinalEncoder(),\n",
              "                                                                         ['key']),\n",
              "                                                                        ('cat1',\n",
              "                                                                         Ordinal...\n",
              "                                        PCA(n_components=9, random_state=42)),\n",
              "                                       ('randomforestclassifier',\n",
              "                                        RandomForestClassifier(n_estimators=250,\n",
              "                                                               random_state=42))]),\n",
              "             param_grid={'randomforestclassifier__bootstrap': [True, False],\n",
              "                         'randomforestclassifier__max_features': ['auto',\n",
              "                                                                  'sqrt'],\n",
              "                         'randomforestclassifier__min_samples_split': [2, 5],\n",
              "                         'randomforestclassifier__n_estimators': [10, 20, 30,\n",
              "                                                                  40, 50, 60,\n",
              "                                                                  70, 80]},\n",
              "             scoring='accuracy')"
            ]
          },
          "metadata": {},
          "execution_count": 16
        }
      ]
    },
    {
      "cell_type": "code",
      "metadata": {
        "id": "fLJkqT6bf1sT"
      },
      "source": [
        "rfcPipe.get_params()"
      ],
      "execution_count": null,
      "outputs": []
    },
    {
      "cell_type": "code",
      "metadata": {
        "id": "gw5PnOrk7MSw",
        "outputId": "3b834769-1da6-48de-eb37-990fba71a538",
        "colab": {
          "base_uri": "https://localhost:8080/"
        }
      },
      "source": [
        "rfc_Grid.best_score_"
      ],
      "execution_count": 17,
      "outputs": [
        {
          "output_type": "execute_result",
          "data": {
            "text/plain": [
              "0.5035514165119226"
            ]
          },
          "metadata": {},
          "execution_count": 17
        }
      ]
    },
    {
      "cell_type": "code",
      "metadata": {
        "id": "Kwwu0H5SJxIs"
      },
      "source": [
        "from xgboost import XGBRegressor\n",
        "\n",
        "XGB = XGBRegressor()\n",
        "\n"
      ],
      "execution_count": null,
      "outputs": []
    },
    {
      "cell_type": "code",
      "metadata": {
        "id": "J8F4olkVOsHs"
      },
      "source": [
        "XGBpipe = make_pipeline(full_pipeline, XGB)\n",
        "XGBpipe.fit(X_train_full,y_train)"
      ],
      "execution_count": null,
      "outputs": []
    },
    {
      "cell_type": "code",
      "metadata": {
        "id": "GfXqBtZRwa_p"
      },
      "source": [
        "\n"
      ],
      "execution_count": null,
      "outputs": []
    }
  ]
}