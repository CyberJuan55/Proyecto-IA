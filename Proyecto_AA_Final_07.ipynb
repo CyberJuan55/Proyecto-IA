{
  "nbformat": 4,
  "nbformat_minor": 0,
  "metadata": {
    "colab": {
      "name": " Proyecto AA prueba RandomForest LogistalRegression ",
      "provenance": [],
      "collapsed_sections": []
    },
    "kernelspec": {
      "display_name": "Python 3",
      "name": "python3"
    },
    "language_info": {
      "name": "python"
    }
  },
  "cells": [
    {
      "cell_type": "code",
      "metadata": {
        "id": "GeaBo8GXBlVL"
      },
      "source": [
        "import pandas as pd \n",
        "import seaborn as sns\n",
        "import matplotlib.pyplot as plt\n",
        "from sklearn.pipeline import Pipeline\n",
        "from sklearn.pipeline import make_pipeline\n",
        "from sklearn.preprocessing import OneHotEncoder, OrdinalEncoder, LabelEncoder, label_binarize\n",
        "from sklearn.preprocessing import StandardScaler\n",
        "from sklearn.preprocessing import MinMaxScaler\n",
        "from sklearn.compose import ColumnTransformer\n",
        "from sklearn.svm import LinearSVC\n",
        "from sklearn.multiclass import OneVsRestClassifier\n",
        "from sklearn.model_selection import GridSearchCV\n",
        "from sklearn.linear_model import LogisticRegression\n",
        "from sklearn.tree import DecisionTreeClassifier \n",
        "import numpy as np\n",
        "from sklearn.metrics import accuracy_score, confusion_matrix\n",
        "from scipy import stats\n",
        "\n",
        "urlTrain  = 'https://raw.githubusercontent.com/CyberJuan55/Proyecto-IA/master/DataSet/SpotifyFeatures_train.csv'\n",
        "urlFull = 'https://raw.githubusercontent.com/CyberJuan55/Proyecto-IA/master/DataSet/SpotifyFeatures.csv'\n",
        "# el train que nos dieron los profes\n",
        "#df_train_original= pd.read_csv('/content/SpotifyFeatures_train.csv')\n",
        "df_train_original = pd.read_csv(urlTrain)\n",
        "df_train = df_train_original.copy()\n",
        "# el dataset nuestro\n",
        "df_full_original = pd.read_csv(urlFull)\n",
        "df_full = df_full_original.copy()\n"
      ],
      "execution_count": 41,
      "outputs": []
    },
    {
      "cell_type": "markdown",
      "metadata": {
        "id": "PoEJIv4hqDe1"
      },
      "source": [
        "### Preprocesado de datos y visualizacion "
      ]
    },
    {
      "cell_type": "code",
      "metadata": {
        "id": "7o6tPneUaeji"
      },
      "source": [
        "# Funcion para el preprocesamiento de datos\n",
        "def preprocesado(df,out=False):\n",
        "\n",
        "   \n",
        "    if df.duplicated().sum() == 0:\n",
        "        print('no hay datos duplicados')\n",
        "    else:\n",
        "        df.drop_duplicates\n",
        "    if 'Unnamed: 0' in df.columns:\n",
        "        df = df.drop(['Unnamed: 0'], axis=1)\n",
        "\n",
        "    #df_train = df.drop(['Unnamed: 0'], axis=1)\n",
        "    df = df.drop(['track_id','artist_name','track_name','time_signature'], axis=1)\n",
        "    df['genre']= df['genre'].replace([\"Children’s Music\"],\"Children's Music\")\n",
        "    indexNamesChildren = df[ df['genre'] == \"Children's Music\" ].index\n",
        "    df.drop(indexNamesChildren , inplace=True)\n",
        "\n",
        " \n",
        "\n",
        "    #indexPOP = df[df.popularity==0].index\n",
        "    #df.drop(indexPOP , inplace=True)\n",
        "\n",
        "    #indexACO = df[df.acousticness < 0.02] .index\n",
        "    #df.drop(indexACO , inplace=True)\n",
        "    #indexACO1 = df[df.acousticness > 0.98] .index\n",
        "    #df.drop(indexACO1 , inplace=True)\n",
        "\n",
        "    #indexVAL = df[df.valence < 0.08] .index\n",
        "    #df.drop(indexVAL , inplace=True)\n",
        "    #indexVAL1 = df[df.valence > 0.9] .index\n",
        "    #df.drop(indexVAL1 , inplace=True)\n",
        "\n",
        "\n",
        "    cols_with_missing = [col for col in df.columns if df[col].isnull().any()] \n",
        "    faltanDatos = True\n",
        "    if len(cols_with_missing)==0:\n",
        "        faltanDatos= False\n",
        "        print('no faltan valores') \n",
        "    if faltanDatos == True:\n",
        "        print(cols_with_missing)\n",
        "        df.dropna(axis=0, inplace=True)\n",
        "\n",
        "   \n",
        "\n",
        "    if out == True:\n",
        "        labelencoder = LabelEncoder()\n",
        "        df[\"genre\"] = labelencoder.fit_transform(df[\"genre\"])\n",
        "\n",
        "        df_train_genres = df\n",
        "        generos=list(df_train['genre'].unique())\n",
        "\n",
        "        b = []\n",
        "        for i in generos:\n",
        "            df=df_train_genres[df_train_genres[\"genre\"]==i].drop(columns=[\"genre\",\"mode\",\"key\"])\n",
        "     \n",
        "            z = np.abs(stats.zscore(df))\n",
        "            #print(np.where(z > 3))\n",
        "            a=np.where(z > 3)\n",
        "            outliers=list(set(list(a[0])))\n",
        "            ñ = [df.iloc[x,:].name for x in outliers]\n",
        "            b = ñ + b\n",
        "        df_train_genres.drop(b, axis = 0, inplace = True)\n",
        "\n",
        "        df = df_train_genres\n",
        "\n",
        "\n",
        "    y = df['genre']\n",
        "    X = df.drop(columns=['genre'])\n",
        "   \n",
        "    \n",
        "\n",
        "    return X,y \n"
      ],
      "execution_count": 47,
      "outputs": []
    },
    {
      "cell_type": "code",
      "metadata": {
        "id": "Bz1kZMM683DZ",
        "colab": {
          "base_uri": "https://localhost:8080/"
        },
        "outputId": "51493e04-c0ef-4ece-bc39-1d5568e92d9b"
      },
      "source": [
        "df_train,y = preprocesado(df_train,out=False)"
      ],
      "execution_count": 43,
      "outputs": [
        {
          "output_type": "stream",
          "name": "stdout",
          "text": [
            "no hay datos duplicados\n",
            "no faltan valores\n"
          ]
        }
      ]
    },
    {
      "cell_type": "code",
      "metadata": {
        "colab": {
          "base_uri": "https://localhost:8080/",
          "height": 881
        },
        "id": "cM9fTvefyotR",
        "outputId": "2a0c1236-6527-4733-99f5-d3d374489929"
      },
      "source": [
        "y.hist(bins=100, figsize=(25,15))"
      ],
      "execution_count": 5,
      "outputs": [
        {
          "output_type": "execute_result",
          "data": {
            "text/plain": [
              "<matplotlib.axes._subplots.AxesSubplot at 0x7f34ac28d890>"
            ]
          },
          "metadata": {},
          "execution_count": 5
        },
        {
          "output_type": "display_data",
          "data": {
            "image/png": "[encoded data removed]",
            "text/plain": [
              "<Figure size 1800x1080 with 1 Axes>"
            ]
          },
          "metadata": {
            "needs_background": "light"
          }
        }
      ]
    },
    {
      "cell_type": "code",
      "metadata": {
        "id": "AAJqpQSt3vT8",
        "colab": {
          "base_uri": "https://localhost:8080/",
          "height": 1000
        },
        "outputId": "87153bb7-ad65-4258-ceae-868441a3c4c2"
      },
      "source": [
        "df_train.hist(bins=500, figsize=(25,15))"
      ],
      "execution_count": 51,
      "outputs": [
        {
          "output_type": "execute_result",
          "data": {
            "text/plain": [
              "array([[<matplotlib.axes._subplots.AxesSubplot object at 0x7f992715a710>,\n",
              "        <matplotlib.axes._subplots.AxesSubplot object at 0x7f992735f4d0>,\n",
              "        <matplotlib.axes._subplots.AxesSubplot object at 0x7f992917b2d0>],\n",
              "       [<matplotlib.axes._subplots.AxesSubplot object at 0x7f991ad75990>,\n",
              "        <matplotlib.axes._subplots.AxesSubplot object at 0x7f99262a1f90>,\n",
              "        <matplotlib.axes._subplots.AxesSubplot object at 0x7f992755e5d0>],\n",
              "       [<matplotlib.axes._subplots.AxesSubplot object at 0x7f99266cfc50>,\n",
              "        <matplotlib.axes._subplots.AxesSubplot object at 0x7f99258961d0>,\n",
              "        <matplotlib.axes._subplots.AxesSubplot object at 0x7f9925896210>],\n",
              "       [<matplotlib.axes._subplots.AxesSubplot object at 0x7f99258ba910>,\n",
              "        <matplotlib.axes._subplots.AxesSubplot object at 0x7f99259b7450>,\n",
              "        <matplotlib.axes._subplots.AxesSubplot object at 0x7f991adb7a50>]],\n",
              "      dtype=object)"
            ]
          },
          "metadata": {},
          "execution_count": 51
        },
        {
          "output_type": "display_data",
          "data": {
            "image/png": "[encoded data removed]",
            "text/plain": [
              "<Figure size 1800x1080 with 12 Axes>"
            ]
          },
          "metadata": {
            "needs_background": "light"
          }
        }
      ]
    },
    {
      "cell_type": "code",
      "metadata": {
        "id": "Bir7xFjZx9tQ"
      },
      "source": [
        "#Borrar variables categoricas\n",
        "df_train = df_train.drop(['mode',\"key\"], axis=1) "
      ],
      "execution_count": 52,
      "outputs": []
    },
    {
      "cell_type": "code",
      "metadata": {
        "id": "EHMElHKWg04A"
      },
      "source": [
        "from sklearn.model_selection import train_test_split, GridSearchCV, cross_val_score, cross_val_predict\n",
        "X_train_full, X_valid_full, y_train, y_valid = train_test_split(df_train, y, \n",
        "                                                                train_size=0.7, test_size=0.3,\n",
        "                                                                random_state=42)"
      ],
      "execution_count": 6,
      "outputs": []
    },
    {
      "cell_type": "code",
      "metadata": {
        "id": "qy0PcAAXR3A_"
      },
      "source": [
        "df_train_num = df_train.drop(['mode',\"key\"], axis=1) "
      ],
      "execution_count": 7,
      "outputs": []
    },
    {
      "cell_type": "code",
      "metadata": {
        "id": "lwlGFXS4fIho"
      },
      "source": [
        "from sklearn.pipeline import Pipeline\n",
        "from sklearn.preprocessing import OneHotEncoder, OrdinalEncoder\n",
        "from sklearn.preprocessing import StandardScaler\n",
        "from sklearn.compose import ColumnTransformer\n",
        "\n",
        "num_pipeline = Pipeline([\n",
        "        ('mismax_scaler', MinMaxScaler()),\n",
        "        #('standar_scaler', StandardScaler()),\n",
        "    ])\n",
        "cat_attribs1 = [\"key\"]\n",
        "cat_attribs2 = [\"mode\"]\n",
        "#cat_attribs3 = [\"time_signature\"]\n",
        "num_attribs = list(df_train_num)\n",
        "\n",
        "full_pipeline = ColumnTransformer([\n",
        "        ('numerical', num_pipeline, num_attribs),                          \n",
        "        (\"cat\", OrdinalEncoder(), cat_attribs1),\n",
        "        (\"cat1\", OrdinalEncoder(), cat_attribs2),\n",
        "        #(\"cat3\", OneHotEncoder(), cat_attribs3),\n",
        "    ])"
      ],
      "execution_count": 21,
      "outputs": []
    },
    {
      "cell_type": "code",
      "metadata": {
        "id": "fMcA7Eswgwlz"
      },
      "source": [
        "df_train_processed = full_pipeline.fit_transform(df_train)"
      ],
      "execution_count": 22,
      "outputs": []
    },
    {
      "cell_type": "markdown",
      "metadata": {
        "id": "1mIADrXyREWn"
      },
      "source": [
        "##PCA"
      ]
    },
    {
      "cell_type": "code",
      "metadata": {
        "id": "CWUEHtmP3dqs"
      },
      "source": [
        "a = pd.DataFrame(df_train_processed)"
      ],
      "execution_count": 17,
      "outputs": []
    },
    {
      "cell_type": "code",
      "metadata": {
        "colab": {
          "base_uri": "https://localhost:8080/",
          "height": 424
        },
        "id": "Ue5nLyEl2Dg2",
        "outputId": "5f7d83c5-50bd-43aa-f312-8dad35571631"
      },
      "source": [
        "a"
      ],
      "execution_count": 18,
      "outputs": [
        {
          "output_type": "execute_result",
          "data": {
            "text/html": [
              "<div>\n",
              "<style scoped>\n",
              "    .dataframe tbody tr th:only-of-type {\n",
              "        vertical-align: middle;\n",
              "    }\n",
              "\n",
              "    .dataframe tbody tr th {\n",
              "        vertical-align: top;\n",
              "    }\n",
              "\n",
              "    .dataframe thead th {\n",
              "        text-align: right;\n",
              "    }\n",
              "</style>\n",
              "<table border=\"1\" class=\"dataframe\">\n",
              "  <thead>\n",
              "    <tr style=\"text-align: right;\">\n",
              "      <th></th>\n",
              "      <th>0</th>\n",
              "      <th>1</th>\n",
              "      <th>2</th>\n",
              "      <th>3</th>\n",
              "      <th>4</th>\n",
              "      <th>5</th>\n",
              "      <th>6</th>\n",
              "      <th>7</th>\n",
              "      <th>8</th>\n",
              "      <th>9</th>\n",
              "      <th>10</th>\n",
              "      <th>11</th>\n",
              "      <th>12</th>\n",
              "    </tr>\n",
              "  </thead>\n",
              "  <tbody>\n",
              "    <tr>\n",
              "      <th>0</th>\n",
              "      <td>0.06</td>\n",
              "      <td>0.902610</td>\n",
              "      <td>0.096871</td>\n",
              "      <td>0.021248</td>\n",
              "      <td>0.015996</td>\n",
              "      <td>0.947948</td>\n",
              "      <td>0.080004</td>\n",
              "      <td>0.500703</td>\n",
              "      <td>0.016759</td>\n",
              "      <td>0.504470</td>\n",
              "      <td>0.0292</td>\n",
              "      <td>2.0</td>\n",
              "      <td>0.0</td>\n",
              "    </tr>\n",
              "    <tr>\n",
              "      <th>1</th>\n",
              "      <td>0.27</td>\n",
              "      <td>0.006155</td>\n",
              "      <td>0.860230</td>\n",
              "      <td>0.043787</td>\n",
              "      <td>0.599591</td>\n",
              "      <td>0.000085</td>\n",
              "      <td>0.201276</td>\n",
              "      <td>0.832370</td>\n",
              "      <td>0.077323</td>\n",
              "      <td>0.308873</td>\n",
              "      <td>0.5860</td>\n",
              "      <td>2.0</td>\n",
              "      <td>0.0</td>\n",
              "    </tr>\n",
              "    <tr>\n",
              "      <th>2</th>\n",
              "      <td>0.59</td>\n",
              "      <td>0.275100</td>\n",
              "      <td>0.495753</td>\n",
              "      <td>0.040091</td>\n",
              "      <td>0.545536</td>\n",
              "      <td>0.000023</td>\n",
              "      <td>0.175022</td>\n",
              "      <td>0.792940</td>\n",
              "      <td>0.017289</td>\n",
              "      <td>0.210240</td>\n",
              "      <td>0.1620</td>\n",
              "      <td>1.0</td>\n",
              "      <td>0.0</td>\n",
              "    </tr>\n",
              "    <tr>\n",
              "      <th>3</th>\n",
              "      <td>0.53</td>\n",
              "      <td>0.596386</td>\n",
              "      <td>0.519407</td>\n",
              "      <td>0.036222</td>\n",
              "      <td>0.615608</td>\n",
              "      <td>0.803804</td>\n",
              "      <td>0.111407</td>\n",
              "      <td>0.768545</td>\n",
              "      <td>0.012516</td>\n",
              "      <td>0.295454</td>\n",
              "      <td>0.2390</td>\n",
              "      <td>1.0</td>\n",
              "      <td>0.0</td>\n",
              "    </tr>\n",
              "    <tr>\n",
              "      <th>4</th>\n",
              "      <td>0.08</td>\n",
              "      <td>0.958835</td>\n",
              "      <td>0.329104</td>\n",
              "      <td>0.028274</td>\n",
              "      <td>0.196180</td>\n",
              "      <td>0.000115</td>\n",
              "      <td>0.680914</td>\n",
              "      <td>0.654472</td>\n",
              "      <td>0.024395</td>\n",
              "      <td>0.154368</td>\n",
              "      <td>0.2510</td>\n",
              "      <td>4.0</td>\n",
              "      <td>1.0</td>\n",
              "    </tr>\n",
              "    <tr>\n",
              "      <th>...</th>\n",
              "      <td>...</td>\n",
              "      <td>...</td>\n",
              "      <td>...</td>\n",
              "      <td>...</td>\n",
              "      <td>...</td>\n",
              "      <td>...</td>\n",
              "      <td>...</td>\n",
              "      <td>...</td>\n",
              "      <td>...</td>\n",
              "      <td>...</td>\n",
              "      <td>...</td>\n",
              "      <td>...</td>\n",
              "      <td>...</td>\n",
              "    </tr>\n",
              "    <tr>\n",
              "      <th>174323</th>\n",
              "      <td>0.42</td>\n",
              "      <td>0.764056</td>\n",
              "      <td>0.437695</td>\n",
              "      <td>0.075112</td>\n",
              "      <td>0.973973</td>\n",
              "      <td>0.000000</td>\n",
              "      <td>0.914170</td>\n",
              "      <td>0.844665</td>\n",
              "      <td>0.967119</td>\n",
              "      <td>0.231804</td>\n",
              "      <td>0.2050</td>\n",
              "      <td>6.0</td>\n",
              "      <td>1.0</td>\n",
              "    </tr>\n",
              "    <tr>\n",
              "      <th>174324</th>\n",
              "      <td>0.30</td>\n",
              "      <td>0.022490</td>\n",
              "      <td>0.689281</td>\n",
              "      <td>0.040690</td>\n",
              "      <td>0.608601</td>\n",
              "      <td>0.018919</td>\n",
              "      <td>0.094241</td>\n",
              "      <td>0.838953</td>\n",
              "      <td>0.121765</td>\n",
              "      <td>0.210513</td>\n",
              "      <td>0.5960</td>\n",
              "      <td>2.0</td>\n",
              "      <td>1.0</td>\n",
              "    </tr>\n",
              "    <tr>\n",
              "      <th>174325</th>\n",
              "      <td>0.72</td>\n",
              "      <td>0.001908</td>\n",
              "      <td>0.591442</td>\n",
              "      <td>0.056646</td>\n",
              "      <td>0.813810</td>\n",
              "      <td>0.000881</td>\n",
              "      <td>0.298214</td>\n",
              "      <td>0.829736</td>\n",
              "      <td>0.075732</td>\n",
              "      <td>0.487394</td>\n",
              "      <td>0.1950</td>\n",
              "      <td>7.0</td>\n",
              "      <td>1.0</td>\n",
              "    </tr>\n",
              "    <tr>\n",
              "      <th>174326</th>\n",
              "      <td>0.63</td>\n",
              "      <td>0.226908</td>\n",
              "      <td>0.652726</td>\n",
              "      <td>0.043607</td>\n",
              "      <td>0.351338</td>\n",
              "      <td>0.000002</td>\n",
              "      <td>0.097271</td>\n",
              "      <td>0.717443</td>\n",
              "      <td>0.101612</td>\n",
              "      <td>0.389721</td>\n",
              "      <td>0.8160</td>\n",
              "      <td>3.0</td>\n",
              "      <td>0.0</td>\n",
              "    </tr>\n",
              "    <tr>\n",
              "      <th>174327</th>\n",
              "      <td>0.28</td>\n",
              "      <td>0.597390</td>\n",
              "      <td>0.114074</td>\n",
              "      <td>0.026774</td>\n",
              "      <td>0.440429</td>\n",
              "      <td>0.909910</td>\n",
              "      <td>0.133622</td>\n",
              "      <td>0.757709</td>\n",
              "      <td>0.022698</td>\n",
              "      <td>0.583360</td>\n",
              "      <td>0.1260</td>\n",
              "      <td>8.0</td>\n",
              "      <td>1.0</td>\n",
              "    </tr>\n",
              "  </tbody>\n",
              "</table>\n",
              "<p>174328 rows × 13 columns</p>\n",
              "</div>"
            ],
            "text/plain": [
              "          0         1         2         3   ...        9       10   11   12\n",
              "0       0.06  0.902610  0.096871  0.021248  ...  0.504470  0.0292  2.0  0.0\n",
              "1       0.27  0.006155  0.860230  0.043787  ...  0.308873  0.5860  2.0  0.0\n",
              "2       0.59  0.275100  0.495753  0.040091  ...  0.210240  0.1620  1.0  0.0\n",
              "3       0.53  0.596386  0.519407  0.036222  ...  0.295454  0.2390  1.0  0.0\n",
              "4       0.08  0.958835  0.329104  0.028274  ...  0.154368  0.2510  4.0  1.0\n",
              "...      ...       ...       ...       ...  ...       ...     ...  ...  ...\n",
              "174323  0.42  0.764056  0.437695  0.075112  ...  0.231804  0.2050  6.0  1.0\n",
              "174324  0.30  0.022490  0.689281  0.040690  ...  0.210513  0.5960  2.0  1.0\n",
              "174325  0.72  0.001908  0.591442  0.056646  ...  0.487394  0.1950  7.0  1.0\n",
              "174326  0.63  0.226908  0.652726  0.043607  ...  0.389721  0.8160  3.0  0.0\n",
              "174327  0.28  0.597390  0.114074  0.026774  ...  0.583360  0.1260  8.0  1.0\n",
              "\n",
              "[174328 rows x 13 columns]"
            ]
          },
          "metadata": {},
          "execution_count": 18
        }
      ]
    },
    {
      "cell_type": "code",
      "metadata": {
        "id": "MG-tbAvK_Z9_",
        "colab": {
          "base_uri": "https://localhost:8080/",
          "height": 1000
        },
        "outputId": "01873bd7-9e9e-4281-f5ec-e3aa3bfc5056"
      },
      "source": [
        "a.hist(bins=500, figsize=(25,15))"
      ],
      "execution_count": 59,
      "outputs": [
        {
          "output_type": "execute_result",
          "data": {
            "text/plain": [
              "array([[<matplotlib.axes._subplots.AxesSubplot object at 0x7f990c9d8950>,\n",
              "        <matplotlib.axes._subplots.AxesSubplot object at 0x7f990c9e63d0>,\n",
              "        <matplotlib.axes._subplots.AxesSubplot object at 0x7f990c979850>],\n",
              "       [<matplotlib.axes._subplots.AxesSubplot object at 0x7f990c98bd50>,\n",
              "        <matplotlib.axes._subplots.AxesSubplot object at 0x7f990c9a5290>,\n",
              "        <matplotlib.axes._subplots.AxesSubplot object at 0x7f990c938610>],\n",
              "       [<matplotlib.axes._subplots.AxesSubplot object at 0x7f990c94cb90>,\n",
              "        <matplotlib.axes._subplots.AxesSubplot object at 0x7f990c961fd0>,\n",
              "        <matplotlib.axes._subplots.AxesSubplot object at 0x7f990c964050>],\n",
              "       [<matplotlib.axes._subplots.AxesSubplot object at 0x7f990c8f8650>,\n",
              "        <matplotlib.axes._subplots.AxesSubplot object at 0x7f990c8b7210>,\n",
              "        <matplotlib.axes._subplots.AxesSubplot object at 0x7f990c8e4810>]],\n",
              "      dtype=object)"
            ]
          },
          "metadata": {},
          "execution_count": 59
        },
        {
          "output_type": "display_data",
          "data": {
            "image/png": "[encoded data removed]",
            "text/plain": [
              "<Figure size 1800x1080 with 12 Axes>"
            ]
          },
          "metadata": {
            "needs_background": "light"
          }
        }
      ]
    },
    {
      "cell_type": "code",
      "metadata": {
        "id": "6CtFEC3q25cd"
      },
      "source": [
        ""
      ],
      "execution_count": null,
      "outputs": []
    },
    {
      "cell_type": "code",
      "metadata": {
        "id": "L7yb3nrs3wDE",
        "colab": {
          "base_uri": "https://localhost:8080/",
          "height": 947
        },
        "outputId": "0e25b917-62a9-48cc-d72a-fe9df0149c60"
      },
      "source": [
        "f = plt.figure(figsize=[19,15])\n",
        "plt.matshow(a.corr(),fignum=f.number)\n",
        "plt.xticks(range(a.shape[1]),df_train.columns,rotation=45)\n",
        "plt.yticks(range(a.shape[1]),df_train.columns)\n",
        "cb = plt.colorbar()\n",
        "cb.ax.tick_params(labelsize=14)"
      ],
      "execution_count": 23,
      "outputs": [
        {
          "output_type": "display_data",
          "data": {
            "image/png": "[encoded data removed]",
            "text/plain": [
              "<Figure size 1368x1080 with 2 Axes>"
            ]
          },
          "metadata": {
            "needs_background": "light"
          }
        }
      ]
    },
    {
      "cell_type": "code",
      "metadata": {
        "id": "g64ScNLWAwdW"
      },
      "source": [
        "from sklearn.decomposition import PCA\n",
        "dim=[]\n",
        "var=[]\n",
        "for comp in range(3, df_train_processed.shape[1]):\n",
        "    dim.append(comp)\n",
        "    pca = PCA(n_components= comp, random_state=42)\n",
        "    pca.fit(df_train_processed)\n",
        "    comp_check = pca.explained_variance_ratio_\n",
        "    var.append(sum(comp_check))\n",
        "    final_comp = comp\n",
        "    if comp_check.sum() > 0.99:\n",
        "        break"
      ],
      "execution_count": 24,
      "outputs": []
    },
    {
      "cell_type": "code",
      "metadata": {
        "id": "RwP9OU7hNOxw"
      },
      "source": [
        "from sklearn.decomposition import PCA\n",
        "pca = PCA()\n",
        "#n_components= 9, random_state=42"
      ],
      "execution_count": 25,
      "outputs": []
    },
    {
      "cell_type": "code",
      "metadata": {
        "id": "jrw7pYBboVaL",
        "colab": {
          "base_uri": "https://localhost:8080/"
        },
        "outputId": "b6ff6741-2dc7-4e8a-ecb4-2916c8dfb146"
      },
      "source": [
        "pca.fit(a)\n"
      ],
      "execution_count": 26,
      "outputs": [
        {
          "output_type": "execute_result",
          "data": {
            "text/plain": [
              "PCA()"
            ]
          },
          "metadata": {},
          "execution_count": 26
        }
      ]
    },
    {
      "cell_type": "code",
      "metadata": {
        "id": "q4Ilp_dVon_e"
      },
      "source": [
        "x_pca = pca.transform(a)"
      ],
      "execution_count": 27,
      "outputs": []
    },
    {
      "cell_type": "code",
      "metadata": {
        "id": "WJHCzzIipwrM",
        "colab": {
          "base_uri": "https://localhost:8080/"
        },
        "outputId": "0b79c6b0-fcf9-4979-b9d2-2511c1333fe3"
      },
      "source": [
        "print(x_pca.shape)\n",
        "print(x_pca)"
      ],
      "execution_count": 28,
      "outputs": [
        {
          "output_type": "stream",
          "name": "stdout",
          "text": [
            "(174328, 13)\n",
            "[[-3.33048755e+00  1.27250762e+00  2.60102740e-01 ...  4.86468276e-02\n",
            "   2.07428807e-03 -2.55701681e-02]\n",
            " [-3.33305094e+00 -1.93956473e-01 -5.19726157e-01 ... -9.90353157e-02\n",
            "  -3.21159141e-02  5.09504791e-03]\n",
            " [-4.33223358e+00  1.64497949e-01 -3.49970023e-01 ... -1.05783761e-02\n",
            "  -6.20917520e-03 -3.37711528e-03]\n",
            " ...\n",
            " [ 1.65959422e+00 -6.67104825e-01  4.02477448e-01 ... -6.15877586e-02\n",
            "   4.89516573e-02  1.39247417e-02]\n",
            " [-2.33253573e+00 -2.15902028e-02 -4.29030825e-01 ...  2.54516460e-01\n",
            "  -9.14373321e-03  7.49417999e-03]\n",
            " [ 2.66114454e+00  3.11949384e-01  9.46249627e-01 ...  7.99719041e-03\n",
            "  -1.04440680e-01 -2.03857619e-02]]\n"
          ]
        }
      ]
    },
    {
      "cell_type": "code",
      "metadata": {
        "id": "JsN3krUqrDjr",
        "colab": {
          "base_uri": "https://localhost:8080/",
          "height": 298
        },
        "outputId": "2c004997-736f-4c85-c9d3-a1a8b2c057af"
      },
      "source": [
        "# con .explained_variance_ratio_ vemos la fracción de información que aporta cada componente\n",
        "evr = pca.explained_variance_ratio_\n",
        "\n",
        "# Graficamos la fracción de varianza que aporta cada componente\n",
        "# y la información acumulada\n",
        "fig, ax = plt.subplots(1, 2, figsize = (12, 4))\n",
        "\n",
        "ax[0].plot(range(1, len(evr) + 1), evr, '.-', markersize = 20)\n",
        "ax[0].set_ylabel('Fracción de varianza explicada')\n",
        "ax[0].set_xlabel('Número de componente principal')\n",
        "\n",
        "# Calculamos el acumulado con la función cumsum de numpy \n",
        "varianza_acumulada = np.cumsum(evr)\n",
        "\n",
        "ax[1].plot(range(1, len(evr) + 1), varianza_acumulada, '.-', markersize = 20)\n",
        "ax[1].set_ylabel('Fracción acumulada de varianza explicada')\n",
        "ax[1].set_xlabel('Cantidad de componentes principales')"
      ],
      "execution_count": 29,
      "outputs": [
        {
          "output_type": "execute_result",
          "data": {
            "text/plain": [
              "Text(0.5, 0, 'Cantidad de componentes principales')"
            ]
          },
          "metadata": {},
          "execution_count": 29
        },
        {
          "output_type": "display_data",
          "data": {
            "image/png": "[encoded data removed]",
            "text/plain": [
              "<Figure size 864x288 with 2 Axes>"
            ]
          },
          "metadata": {
            "needs_background": "light"
          }
        }
      ]
    },
    {
      "cell_type": "code",
      "metadata": {
        "id": "NpIC1eFW55Bh"
      },
      "source": [
        "pca = PCA(n_components= 10, random_state=42)\n"
      ],
      "execution_count": 44,
      "outputs": []
    },
    {
      "cell_type": "markdown",
      "metadata": {
        "id": "hIFdhSYjQ9ps"
      },
      "source": [
        "##Modelos"
      ]
    },
    {
      "cell_type": "code",
      "metadata": {
        "id": "7rCDk9Uftbwm"
      },
      "source": [
        "lg=LogisticRegression(max_iter=2000, random_state=1, penalty = 'l2', C = 0.01) #onevsrestclassifier"
      ],
      "execution_count": 31,
      "outputs": []
    },
    {
      "cell_type": "code",
      "metadata": {
        "id": "ovxPLYLNlf4S",
        "colab": {
          "base_uri": "https://localhost:8080/"
        },
        "outputId": "c5844e1b-a89d-433a-ac96-eb2e214ba3dc"
      },
      "source": [
        "from sklearn.pipeline import make_pipeline\n",
        "LGpipe = make_pipeline(full_pipeline,lg)\n",
        "LGpipe.fit(X_train_full,y_train)\n"
      ],
      "execution_count": 32,
      "outputs": [
        {
          "output_type": "execute_result",
          "data": {
            "text/plain": [
              "Pipeline(steps=[('columntransformer',\n",
              "                 ColumnTransformer(transformers=[('numerical',\n",
              "                                                  Pipeline(steps=[('mismax_scaler',\n",
              "                                                                   MinMaxScaler())]),\n",
              "                                                  ['popularity', 'acousticness',\n",
              "                                                   'danceability',\n",
              "                                                   'duration_ms', 'energy',\n",
              "                                                   'instrumentalness',\n",
              "                                                   'liveness', 'loudness',\n",
              "                                                   'speechiness', 'tempo',\n",
              "                                                   'valence']),\n",
              "                                                 ('cat', OrdinalEncoder(),\n",
              "                                                  ['key']),\n",
              "                                                 ('cat1', OrdinalEncoder(),\n",
              "                                                  ['mode'])])),\n",
              "                ('logisticregression',\n",
              "                 LogisticRegression(C=0.01, max_iter=2000, random_state=1))])"
            ]
          },
          "metadata": {},
          "execution_count": 32
        }
      ]
    },
    {
      "cell_type": "code",
      "metadata": {
        "id": "B7lk5adnShmM"
      },
      "source": [
        "y_predLG = LGpipe.predict(X_valid_full)"
      ],
      "execution_count": 33,
      "outputs": []
    },
    {
      "cell_type": "code",
      "metadata": {
        "id": "adupmKNaSxpy",
        "colab": {
          "base_uri": "https://localhost:8080/"
        },
        "outputId": "d0e432bc-5b58-4199-c4ec-382db31db2df"
      },
      "source": [
        "print(accuracy_score(y_valid, y_predLG))"
      ],
      "execution_count": 34,
      "outputs": [
        {
          "output_type": "stream",
          "name": "stdout",
          "text": [
            "0.34643109810895045\n"
          ]
        }
      ]
    },
    {
      "cell_type": "code",
      "metadata": {
        "id": "oIR2lbPpn8ao"
      },
      "source": [
        "lg_cross_val = cross_val_score(LGpipe,X_train_full,y_train,cv=5,scoring='accuracy').mean()"
      ],
      "execution_count": null,
      "outputs": []
    },
    {
      "cell_type": "code",
      "metadata": {
        "id": "B_ZJFDzAOfMO",
        "colab": {
          "base_uri": "https://localhost:8080/"
        },
        "outputId": "2b20aa4b-7e4e-45b4-ef46-3e0a56b62689"
      },
      "source": [
        "lg_cross_val"
      ],
      "execution_count": null,
      "outputs": [
        {
          "output_type": "execute_result",
          "data": {
            "text/plain": [
              "0.48673848103557527"
            ]
          },
          "metadata": {},
          "execution_count": 56
        }
      ]
    },
    {
      "cell_type": "code",
      "metadata": {
        "id": "rPZOsxWCrzmM"
      },
      "source": [
        "params = {}\n",
        "\n",
        "params['logisticregression__C'] = [0.1,1,10]\n"
      ],
      "execution_count": null,
      "outputs": []
    },
    {
      "cell_type": "code",
      "metadata": {
        "colab": {
          "base_uri": "https://localhost:8080/",
          "height": 191
        },
        "id": "MEC9so6Assb7",
        "outputId": "837bc45b-fe58-496b-c422-b8e2d43926bf"
      },
      "source": [
        "lGgrid = GridSearchCV(LGpipe, params, cv=5,scoring='accuracy' )\n",
        "lGgrid.fit(X_train_full,y_train)"
      ],
      "execution_count": null,
      "outputs": [
        {
          "output_type": "error",
          "ename": "NameError",
          "evalue": "ignored",
          "traceback": [
            "\u001b[0;31m---------------------------------------------------------------------------\u001b[0m",
            "\u001b[0;31mNameError\u001b[0m                                 Traceback (most recent call last)",
            "\u001b[0;32m<ipython-input-22-aff38856bf90>\u001b[0m in \u001b[0;36m<module>\u001b[0;34m()\u001b[0m\n\u001b[0;32m----> 1\u001b[0;31m \u001b[0mlGgrid\u001b[0m \u001b[0;34m=\u001b[0m \u001b[0mGridSearchCV\u001b[0m\u001b[0;34m(\u001b[0m\u001b[0mLGpipe\u001b[0m\u001b[0;34m,\u001b[0m \u001b[0mparams\u001b[0m\u001b[0;34m,\u001b[0m \u001b[0mcv\u001b[0m\u001b[0;34m=\u001b[0m\u001b[0;36m5\u001b[0m\u001b[0;34m,\u001b[0m\u001b[0mscoring\u001b[0m\u001b[0;34m=\u001b[0m\u001b[0;34m'accuracy'\u001b[0m \u001b[0;34m)\u001b[0m\u001b[0;34m\u001b[0m\u001b[0;34m\u001b[0m\u001b[0m\n\u001b[0m\u001b[1;32m      2\u001b[0m \u001b[0mlGgrid\u001b[0m\u001b[0;34m.\u001b[0m\u001b[0mfit\u001b[0m\u001b[0;34m(\u001b[0m\u001b[0mX_train_full\u001b[0m\u001b[0;34m,\u001b[0m\u001b[0my_train\u001b[0m\u001b[0;34m)\u001b[0m\u001b[0;34m\u001b[0m\u001b[0;34m\u001b[0m\u001b[0m\n",
            "\u001b[0;31mNameError\u001b[0m: name 'params' is not defined"
          ]
        }
      ]
    },
    {
      "cell_type": "code",
      "metadata": {
        "colab": {
          "base_uri": "https://localhost:8080/"
        },
        "id": "NZ0InDB300re",
        "outputId": "0f2b5222-2a2d-4e9a-966c-f8c74a7cfebb"
      },
      "source": [
        "lGgrid.best_score_"
      ],
      "execution_count": null,
      "outputs": [
        {
          "output_type": "execute_result",
          "data": {
            "text/plain": [
              "0.47883833693727"
            ]
          },
          "metadata": {},
          "execution_count": 56
        }
      ]
    },
    {
      "cell_type": "markdown",
      "metadata": {
        "id": "vqKhD0onl6l5"
      },
      "source": [
        "### DesicionTree"
      ]
    },
    {
      "cell_type": "code",
      "metadata": {
        "id": "b34tbDw4l9Cg",
        "colab": {
          "base_uri": "https://localhost:8080/"
        },
        "outputId": "2c7e55a8-8a15-48ec-8fb7-df2c1a51e2a6"
      },
      "source": [
        "# Create Decision Tree classifer object\n",
        "dtc = DecisionTreeClassifier()\n",
        "\n",
        "dtcPipe = make_pipeline(full_pipeline,dtc)\n",
        "dtcPipe.fit(X_train_full,y_train)\n",
        "\n"
      ],
      "execution_count": 35,
      "outputs": [
        {
          "output_type": "execute_result",
          "data": {
            "text/plain": [
              "Pipeline(steps=[('columntransformer',\n",
              "                 ColumnTransformer(transformers=[('numerical',\n",
              "                                                  Pipeline(steps=[('mismax_scaler',\n",
              "                                                                   MinMaxScaler())]),\n",
              "                                                  ['popularity', 'acousticness',\n",
              "                                                   'danceability',\n",
              "                                                   'duration_ms', 'energy',\n",
              "                                                   'instrumentalness',\n",
              "                                                   'liveness', 'loudness',\n",
              "                                                   'speechiness', 'tempo',\n",
              "                                                   'valence']),\n",
              "                                                 ('cat', OrdinalEncoder(),\n",
              "                                                  ['key']),\n",
              "                                                 ('cat1', OrdinalEncoder(),\n",
              "                                                  ['mode'])])),\n",
              "                ('decisiontreeclassifier', DecisionTreeClassifier())])"
            ]
          },
          "metadata": {},
          "execution_count": 35
        }
      ]
    },
    {
      "cell_type": "code",
      "metadata": {
        "id": "a3zqk_WVolfr"
      },
      "source": [
        "y_pred_dtc =  dtcPipe.predict(X_valid_full)"
      ],
      "execution_count": 37,
      "outputs": []
    },
    {
      "cell_type": "code",
      "metadata": {
        "colab": {
          "base_uri": "https://localhost:8080/"
        },
        "id": "xrDBJYGKoxwZ",
        "outputId": "b63d72e1-63e3-4611-83f7-617c4d0fe99b"
      },
      "source": [
        "print(accuracy_score(y_valid, y_pred_dtc))"
      ],
      "execution_count": 38,
      "outputs": [
        {
          "output_type": "stream",
          "name": "stdout",
          "text": [
            "0.2961624505248666\n"
          ]
        }
      ]
    },
    {
      "cell_type": "code",
      "metadata": {
        "id": "PVD3L7mHVU5X"
      },
      "source": [
        "dtc_cross_val = cross_val_score(dtcPipe,X_train_full,y_train,cv=5,scoring='accuracy').mean()"
      ],
      "execution_count": null,
      "outputs": []
    },
    {
      "cell_type": "code",
      "metadata": {
        "id": "b73vD82k62QZ",
        "colab": {
          "base_uri": "https://localhost:8080/"
        },
        "outputId": "f977a513-cdab-485d-b6aa-51201b41faa6"
      },
      "source": [
        "dtc_cross_val"
      ],
      "execution_count": null,
      "outputs": [
        {
          "output_type": "execute_result",
          "data": {
            "text/plain": [
              "0.2736076418249154"
            ]
          },
          "metadata": {},
          "execution_count": 110
        }
      ]
    },
    {
      "cell_type": "markdown",
      "metadata": {
        "id": "86J-a0eBl5lS"
      },
      "source": [
        "### RandomForest"
      ]
    },
    {
      "cell_type": "code",
      "metadata": {
        "id": "CfR6kH-iyHTy",
        "colab": {
          "base_uri": "https://localhost:8080/"
        },
        "outputId": "768e02ca-6bb3-4164-a920-dc88e3cc2aa8"
      },
      "source": [
        "from sklearn.ensemble import RandomForestClassifier\n",
        "\n",
        "rfc = RandomForestClassifier(n_estimators=250, random_state=42)\n",
        "\n",
        "rfcPipe = make_pipeline(full_pipeline,rfc)\n",
        "rfcPipe.fit(X_train_full,y_train)\n",
        "\n",
        "\n"
      ],
      "execution_count": 39,
      "outputs": [
        {
          "output_type": "execute_result",
          "data": {
            "text/plain": [
              "Pipeline(steps=[('columntransformer',\n",
              "                 ColumnTransformer(transformers=[('numerical',\n",
              "                                                  Pipeline(steps=[('mismax_scaler',\n",
              "                                                                   MinMaxScaler())]),\n",
              "                                                  ['popularity', 'acousticness',\n",
              "                                                   'danceability',\n",
              "                                                   'duration_ms', 'energy',\n",
              "                                                   'instrumentalness',\n",
              "                                                   'liveness', 'loudness',\n",
              "                                                   'speechiness', 'tempo',\n",
              "                                                   'valence']),\n",
              "                                                 ('cat', OrdinalEncoder(),\n",
              "                                                  ['key']),\n",
              "                                                 ('cat1', OrdinalEncoder(),\n",
              "                                                  ['mode'])])),\n",
              "                ('randomforestclassifier',\n",
              "                 RandomForestClassifier(n_estimators=250, random_state=42))])"
            ]
          },
          "metadata": {},
          "execution_count": 39
        }
      ]
    },
    {
      "cell_type": "code",
      "metadata": {
        "id": "_e7et2EN4jEs"
      },
      "source": [
        "predict = rfcPipe.predict(X_valid_full)"
      ],
      "execution_count": 46,
      "outputs": []
    },
    {
      "cell_type": "code",
      "metadata": {
        "id": "GhxjxC2n46uE",
        "colab": {
          "base_uri": "https://localhost:8080/"
        },
        "outputId": "9829f3ce-6eb6-4ab7-9d3b-77b94b26cc38"
      },
      "source": [
        "print(accuracy_score(y_valid, predict))"
      ],
      "execution_count": 47,
      "outputs": [
        {
          "output_type": "stream",
          "name": "stdout",
          "text": [
            "0.39710308137390055\n"
          ]
        }
      ]
    },
    {
      "cell_type": "code",
      "metadata": {
        "id": "GMwz_mbXIhdN"
      },
      "source": [
        "from sklearn.metrics import roc_auc_score\n",
        "\n"
      ],
      "execution_count": null,
      "outputs": []
    },
    {
      "cell_type": "code",
      "metadata": {
        "id": "EvEzWycTVbLU"
      },
      "source": [
        "rfc_cross_val = cross_val_score(rfcPipe,X_train_full,y_train,cv=5,scoring='accuracy')"
      ],
      "execution_count": null,
      "outputs": []
    },
    {
      "cell_type": "code",
      "metadata": {
        "id": "OUrp9YP-78y8",
        "colab": {
          "base_uri": "https://localhost:8080/"
        },
        "outputId": "4414b531-934c-4b21-a1bb-a3949d0ad678"
      },
      "source": [
        "rfc_cross_val"
      ],
      "execution_count": null,
      "outputs": [
        {
          "output_type": "execute_result",
          "data": {
            "text/plain": [
              "array([0.57264416, 0.56802752, 0.57137684, 0.57409251, 0.56748438])"
            ]
          },
          "metadata": {},
          "execution_count": 61
        }
      ]
    },
    {
      "cell_type": "code",
      "metadata": {
        "id": "z5Vfk2rDyLEG"
      },
      "source": [
        "predict = rfc.predict(X_valid_full)\n",
        "print(accuracy_score(y_valid, predict))"
      ],
      "execution_count": null,
      "outputs": []
    },
    {
      "cell_type": "markdown",
      "metadata": {
        "id": "Q5FxtF6bnwmR"
      },
      "source": [
        "###KNN"
      ]
    },
    {
      "cell_type": "code",
      "metadata": {
        "id": "yvYNtdFT7OfL",
        "colab": {
          "base_uri": "https://localhost:8080/"
        },
        "outputId": "d9b6bb90-a0ca-4caf-c29a-eb43c6aab886"
      },
      "source": [
        "from sklearn.neighbors import KNeighborsClassifier\n",
        "knn = KNeighborsClassifier(n_neighbors = 50)\n",
        "knnPipe = make_pipeline(full_pipeline,pca,knn)\n",
        "knnPipe.fit(X_train_full, y_train)\n",
        "#y_pred_knn = knn.predict(X_valid_full)\n",
        "#print(accuracy_score(y_valid, y_pred_knn))\n"
      ],
      "execution_count": null,
      "outputs": [
        {
          "output_type": "execute_result",
          "data": {
            "text/plain": [
              "Pipeline(steps=[('columntransformer',\n",
              "                 ColumnTransformer(transformers=[('numerical',\n",
              "                                                  Pipeline(steps=[('standar_scaler',\n",
              "                                                                   StandardScaler())]),\n",
              "                                                  ['popularity', 'acousticness',\n",
              "                                                   'danceability',\n",
              "                                                   'duration_ms', 'energy',\n",
              "                                                   'instrumentalness',\n",
              "                                                   'liveness', 'loudness',\n",
              "                                                   'speechiness', 'tempo',\n",
              "                                                   'valence']),\n",
              "                                                 ('cat1', OrdinalEncoder(),\n",
              "                                                  ['mode'])])),\n",
              "                ('pca', PCA(n_components=10, random_state=42)),\n",
              "                ('kneighborsclassifier', KNeighborsClassifier(n_neighbors=50))])"
            ]
          },
          "metadata": {},
          "execution_count": 100
        }
      ]
    },
    {
      "cell_type": "code",
      "metadata": {
        "id": "PbnTlBrV-4-I",
        "colab": {
          "base_uri": "https://localhost:8080/"
        },
        "outputId": "cdc2043d-4167-422a-81f5-48fd136caf3b"
      },
      "source": [
        "y_pred_knn = knnPipe.predict(X_valid_full)\n",
        "print(accuracy_score(y_valid, y_pred_knn))\n"
      ],
      "execution_count": null,
      "outputs": [
        {
          "output_type": "stream",
          "name": "stdout",
          "text": [
            "0.5432494057148402\n"
          ]
        }
      ]
    },
    {
      "cell_type": "code",
      "metadata": {
        "id": "F6VcYyvCyrav"
      },
      "source": [
        "# Numero de arboles\n",
        "n_estimators = [int(x) for x in np.linspace(start = 10, stop = 80, num = 8)]\n",
        "# Numero de features considerado al dividir\n",
        "max_features = ['auto', 'sqrt']\n",
        "# numero maximo de niveles\n",
        "#max_depth = [2,4]\n",
        "# Numero minimo de niveles por nodo\n",
        "min_samples_split = [2, 5]\n",
        "# Numero minimo de niveles por hoja\n",
        "min_samples_leaf = [1, 2]\n",
        "# metodo de seleccion por arbol \n",
        "bootstrap = [True, False]"
      ],
      "execution_count": null,
      "outputs": []
    },
    {
      "cell_type": "markdown",
      "metadata": {
        "id": "veu4QdkZn49l"
      },
      "source": [
        "### GridSerchCv RandonForest"
      ]
    },
    {
      "cell_type": "code",
      "metadata": {
        "id": "Wh1crlC3yuHh"
      },
      "source": [
        "#'randomforestclassifier__n_jobs': None\n",
        "#'randomforestclassifier__n_estimators': 30,\n",
        "params = {}\n",
        "\n",
        "params['logisticregression__C'] = [0.1,1,10]\n",
        "\n",
        "\n",
        "# Grilla\n",
        "param_grid = {}\n",
        "param_grid['randomforestclassifier__n_estimators'] = n_estimators\n",
        "param_grid['randomforestclassifier__max_features'] = max_features\n",
        "#param_grid['randomforestclassifier__max_depth'] = max_depth\n",
        "param_grid['randomforestclassifier__min_samples_split'] = min_samples_split\n",
        "#param_grid['randomforestclassifier__min_samples_leaf'] = min_samples_leaf = [1, 2]\n",
        "param_grid['randomforestclassifier__bootstrap']  = bootstrap\n",
        "          \n",
        "          \n",
        "               #'bootstrap': bootstrap"
      ],
      "execution_count": null,
      "outputs": []
    },
    {
      "cell_type": "code",
      "metadata": {
        "id": "8nDRxeJcyw7l"
      },
      "source": [
        "from sklearn.model_selection import GridSearchCV\n",
        "rfc_Grid = GridSearchCV(estimator = rfcPipe, param_grid = param_grid, cv = 5, scoring='accuracy')\n",
        "#, verbose=2, n_jobs = 4"
      ],
      "execution_count": null,
      "outputs": []
    },
    {
      "cell_type": "code",
      "metadata": {
        "id": "O2G0dUgZyzVy"
      },
      "source": [
        "rfc_Grid.fit(X_train_full, y_train)\n"
      ],
      "execution_count": null,
      "outputs": []
    },
    {
      "cell_type": "code",
      "metadata": {
        "id": "fLJkqT6bf1sT"
      },
      "source": [
        "rfcPipe.get_params()"
      ],
      "execution_count": null,
      "outputs": []
    },
    {
      "cell_type": "code",
      "metadata": {
        "id": "gw5PnOrk7MSw",
        "colab": {
          "base_uri": "https://localhost:8080/"
        },
        "outputId": "3b834769-1da6-48de-eb37-990fba71a538"
      },
      "source": [
        "rfc_Grid.best_score_"
      ],
      "execution_count": null,
      "outputs": [
        {
          "output_type": "execute_result",
          "data": {
            "text/plain": [
              "0.5035514165119226"
            ]
          },
          "metadata": {},
          "execution_count": 17
        }
      ]
    },
    {
      "cell_type": "code",
      "metadata": {
        "id": "GfXqBtZRwa_p"
      },
      "source": [
        "\n",
        "from sklearn.ensemble import GradientBoostingClassifier\n",
        "clf = GradientBoostingClassifier(n_estimators=250,\n",
        "     max_depth=5, random_state=0)"
      ],
      "execution_count": null,
      "outputs": []
    },
    {
      "cell_type": "code",
      "metadata": {
        "id": "x7AiyRm7ht3w"
      },
      "source": [
        "XGBpipe = make_pipeline(full_pipeline,pca, clf)\n",
        "XGBpipe.fit(X_train_full,y_train)"
      ],
      "execution_count": null,
      "outputs": []
    },
    {
      "cell_type": "code",
      "metadata": {
        "id": "46_XFkFthy7Y"
      },
      "source": [
        "XGboost_cross_val = cross_val_score(XGBpipe,X_train_full,y_train,cv=5,scoring='accuracy')"
      ],
      "execution_count": null,
      "outputs": []
    },
    {
      "cell_type": "code",
      "metadata": {
        "colab": {
          "base_uri": "https://localhost:8080/"
        },
        "id": "pRd2PToJ7UvW",
        "outputId": "95982bf0-a479-4f9a-89a6-45e9b829e196"
      },
      "source": [
        "XGboost_cross_val"
      ],
      "execution_count": null,
      "outputs": [
        {
          "output_type": "execute_result",
          "data": {
            "text/plain": [
              "array([0.56015208, 0.56531185, 0.56078573, 0.55897529, 0.55562596])"
            ]
          },
          "metadata": {},
          "execution_count": 26
        }
      ]
    },
    {
      "cell_type": "code",
      "metadata": {
        "id": "ZFRjPZj29dqD"
      },
      "source": [
        "from sklearn.metrics import roc_auc_score"
      ],
      "execution_count": null,
      "outputs": []
    }
  ]
}