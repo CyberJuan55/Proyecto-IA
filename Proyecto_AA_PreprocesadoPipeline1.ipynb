{
  "nbformat": 4,
  "nbformat_minor": 0,
  "metadata": {
    "colab": {
      "name": " Proyecto AA prueba RandomForest LogistalRegression ",
      "provenance": [],
      "collapsed_sections": []
    },
    "kernelspec": {
      "display_name": "Python 3",
      "name": "python3"
    },
    "language_info": {
      "name": "python"
    }
  },
  "cells": [
    {
      "cell_type": "markdown",
      "metadata": {
        "id": "MvgWS0p-pjfS"
      },
      "source": [
        "# Preparativos"
      ]
    },
    {
      "cell_type": "code",
      "metadata": {
        "colab": {
          "base_uri": "https://localhost:8080/"
        },
        "id": "qPUnram_AUlB",
        "outputId": "2bccd2c0-a907-42b0-84df-c1f90dd409cc"
      },
      "source": [
        "! pip install kaggle\n",
        "! mkdir ~/.kaggle\n",
        "! cp kaggle.json ~/.kaggle/\n",
        "! chmod 600 ~/.kaggle/kaggle.json\n",
        "! kaggle datasets download zaheenhamidani/ultimate-spotify-tracks-db"
      ],
      "execution_count": 24,
      "outputs": [
        {
          "output_type": "stream",
          "name": "stdout",
          "text": [
            "Requirement already satisfied: kaggle in /usr/local/lib/python3.7/dist-packages (1.5.12)\n",
            "Requirement already satisfied: tqdm in /usr/local/lib/python3.7/dist-packages (from kaggle) (4.62.3)\n",
            "Requirement already satisfied: python-slugify in /usr/local/lib/python3.7/dist-packages (from kaggle) (5.0.2)\n",
            "Requirement already satisfied: certifi in /usr/local/lib/python3.7/dist-packages (from kaggle) (2021.5.30)\n",
            "Requirement already satisfied: six>=1.10 in /usr/local/lib/python3.7/dist-packages (from kaggle) (1.15.0)\n",
            "Requirement already satisfied: urllib3 in /usr/local/lib/python3.7/dist-packages (from kaggle) (1.24.3)\n",
            "Requirement already satisfied: python-dateutil in /usr/local/lib/python3.7/dist-packages (from kaggle) (2.8.2)\n",
            "Requirement already satisfied: requests in /usr/local/lib/python3.7/dist-packages (from kaggle) (2.23.0)\n",
            "Requirement already satisfied: text-unidecode>=1.3 in /usr/local/lib/python3.7/dist-packages (from python-slugify->kaggle) (1.3)\n",
            "Requirement already satisfied: idna<3,>=2.5 in /usr/local/lib/python3.7/dist-packages (from requests->kaggle) (2.10)\n",
            "Requirement already satisfied: chardet<4,>=3.0.2 in /usr/local/lib/python3.7/dist-packages (from requests->kaggle) (3.0.4)\n",
            "mkdir: cannot create directory ‘/root/.kaggle’: File exists\n",
            "cp: cannot stat 'kaggle.json': No such file or directory\n",
            "chmod: cannot access '/root/.kaggle/kaggle.json': No such file or directory\n",
            "Traceback (most recent call last):\n",
            "  File \"/usr/local/bin/kaggle\", line 5, in <module>\n",
            "    from kaggle.cli import main\n",
            "  File \"/usr/local/lib/python2.7/dist-packages/kaggle/__init__.py\", line 23, in <module>\n",
            "    api.authenticate()\n",
            "  File \"/usr/local/lib/python2.7/dist-packages/kaggle/api/kaggle_api_extended.py\", line 146, in authenticate\n",
            "    self.config_file, self.config_dir))\n",
            "IOError: Could not find kaggle.json. Make sure it's located in /root/.kaggle. Or use the environment method.\n"
          ]
        }
      ]
    },
    {
      "cell_type": "code",
      "metadata": {
        "id": "GeaBo8GXBlVL"
      },
      "source": [
        "import pandas as pd \n",
        "import seaborn as sns\n",
        "import matplotlib.pyplot as plt\n",
        "import numpy as np\n",
        "\n",
        "urlTrain  = 'https://raw.githubusercontent.com/CyberJuan55/Proyecto-IA/master/DataSet/SpotifyFeatures_train.csv'\n",
        "urlFull = 'https://raw.githubusercontent.com/CyberJuan55/Proyecto-IA/master/DataSet/SpotifyFeatures.csv'\n",
        "# el train que nos dieron los profes\n",
        "#df_train_original= pd.read_csv('/content/SpotifyFeatures_train.csv')\n",
        "df_train_original = pd.read_csv(urlTrain)\n",
        "df_train = df_train_original.copy()\n",
        "# el dataset nuestro\n",
        "df_full_original = pd.read_csv(urlFull)\n",
        "df_full = df_full_original.copy()\n"
      ],
      "execution_count": 6,
      "outputs": []
    },
    {
      "cell_type": "markdown",
      "metadata": {
        "id": "jxZcTtP-pqcw"
      },
      "source": [
        "# Exploracion de datos"
      ]
    },
    {
      "cell_type": "code",
      "metadata": {
        "colab": {
          "base_uri": "https://localhost:8080/",
          "height": 326
        },
        "id": "z1s0XQMMiEFt",
        "outputId": "956b32eb-8e16-43da-c325-1d0ee5cf0456"
      },
      "source": [
        "df_train.head()"
      ],
      "execution_count": 7,
      "outputs": [
        {
          "output_type": "execute_result",
          "data": {
            "text/html": [
              "<div>\n",
              "<style scoped>\n",
              "    .dataframe tbody tr th:only-of-type {\n",
              "        vertical-align: middle;\n",
              "    }\n",
              "\n",
              "    .dataframe tbody tr th {\n",
              "        vertical-align: top;\n",
              "    }\n",
              "\n",
              "    .dataframe thead th {\n",
              "        text-align: right;\n",
              "    }\n",
              "</style>\n",
              "<table border=\"1\" class=\"dataframe\">\n",
              "  <thead>\n",
              "    <tr style=\"text-align: right;\">\n",
              "      <th></th>\n",
              "      <th>Unnamed: 0</th>\n",
              "      <th>genre</th>\n",
              "      <th>artist_name</th>\n",
              "      <th>track_name</th>\n",
              "      <th>track_id</th>\n",
              "      <th>popularity</th>\n",
              "      <th>acousticness</th>\n",
              "      <th>danceability</th>\n",
              "      <th>duration_ms</th>\n",
              "      <th>energy</th>\n",
              "      <th>instrumentalness</th>\n",
              "      <th>key</th>\n",
              "      <th>liveness</th>\n",
              "      <th>loudness</th>\n",
              "      <th>mode</th>\n",
              "      <th>speechiness</th>\n",
              "      <th>tempo</th>\n",
              "      <th>time_signature</th>\n",
              "      <th>valence</th>\n",
              "    </tr>\n",
              "  </thead>\n",
              "  <tbody>\n",
              "    <tr>\n",
              "      <th>0</th>\n",
              "      <td>107360</td>\n",
              "      <td>Opera</td>\n",
              "      <td>Richard Wagner</td>\n",
              "      <td>Gotterdammerung (Twilight of the Gods): Prolog...</td>\n",
              "      <td>32pnRCr5u3nzO55MgoEJwV</td>\n",
              "      <td>6</td>\n",
              "      <td>0.89900</td>\n",
              "      <td>0.147</td>\n",
              "      <td>131787</td>\n",
              "      <td>0.016</td>\n",
              "      <td>0.947000</td>\n",
              "      <td>B</td>\n",
              "      <td>0.0889</td>\n",
              "      <td>-24.317</td>\n",
              "      <td>Major</td>\n",
              "      <td>0.0380</td>\n",
              "      <td>137.591</td>\n",
              "      <td>4/4</td>\n",
              "      <td>0.0292</td>\n",
              "    </tr>\n",
              "    <tr>\n",
              "      <th>1</th>\n",
              "      <td>165017</td>\n",
              "      <td>Reggaeton</td>\n",
              "      <td>Ronald El Killa</td>\n",
              "      <td>Esta Pena</td>\n",
              "      <td>3uMQ7q5oU0VgYl9SyCF2MR</td>\n",
              "      <td>27</td>\n",
              "      <td>0.00613</td>\n",
              "      <td>0.857</td>\n",
              "      <td>255134</td>\n",
              "      <td>0.599</td>\n",
              "      <td>0.000085</td>\n",
              "      <td>B</td>\n",
              "      <td>0.2090</td>\n",
              "      <td>-5.677</td>\n",
              "      <td>Major</td>\n",
              "      <td>0.0951</td>\n",
              "      <td>96.022</td>\n",
              "      <td>4/4</td>\n",
              "      <td>0.5860</td>\n",
              "    </tr>\n",
              "    <tr>\n",
              "      <th>2</th>\n",
              "      <td>141044</td>\n",
              "      <td>Indie</td>\n",
              "      <td>LP</td>\n",
              "      <td>Recovery</td>\n",
              "      <td>1a5P7IvLUhRhLnnbkev3PI</td>\n",
              "      <td>59</td>\n",
              "      <td>0.27400</td>\n",
              "      <td>0.518</td>\n",
              "      <td>234905</td>\n",
              "      <td>0.545</td>\n",
              "      <td>0.000023</td>\n",
              "      <td>A#</td>\n",
              "      <td>0.1830</td>\n",
              "      <td>-7.893</td>\n",
              "      <td>Major</td>\n",
              "      <td>0.0385</td>\n",
              "      <td>75.060</td>\n",
              "      <td>4/4</td>\n",
              "      <td>0.1620</td>\n",
              "    </tr>\n",
              "    <tr>\n",
              "      <th>3</th>\n",
              "      <td>141709</td>\n",
              "      <td>Indie</td>\n",
              "      <td>The National</td>\n",
              "      <td>Carin at the Liquor Store</td>\n",
              "      <td>4maI5FwVIzjrErduPjjZLO</td>\n",
              "      <td>53</td>\n",
              "      <td>0.59400</td>\n",
              "      <td>0.540</td>\n",
              "      <td>213733</td>\n",
              "      <td>0.615</td>\n",
              "      <td>0.803000</td>\n",
              "      <td>A#</td>\n",
              "      <td>0.1200</td>\n",
              "      <td>-9.264</td>\n",
              "      <td>Major</td>\n",
              "      <td>0.0340</td>\n",
              "      <td>93.170</td>\n",
              "      <td>3/4</td>\n",
              "      <td>0.2390</td>\n",
              "    </tr>\n",
              "    <tr>\n",
              "      <th>4</th>\n",
              "      <td>106321</td>\n",
              "      <td>Opera</td>\n",
              "      <td>Renata Tebaldi</td>\n",
              "      <td>Giordano: Andrea Chenier: Come un bel di di ma...</td>\n",
              "      <td>5VEVnqQu6cFewcbWfbkUeE</td>\n",
              "      <td>8</td>\n",
              "      <td>0.95500</td>\n",
              "      <td>0.363</td>\n",
              "      <td>170240</td>\n",
              "      <td>0.196</td>\n",
              "      <td>0.000115</td>\n",
              "      <td>C#</td>\n",
              "      <td>0.6840</td>\n",
              "      <td>-15.675</td>\n",
              "      <td>Minor</td>\n",
              "      <td>0.0452</td>\n",
              "      <td>63.186</td>\n",
              "      <td>4/4</td>\n",
              "      <td>0.2510</td>\n",
              "    </tr>\n",
              "  </tbody>\n",
              "</table>\n",
              "</div>"
            ],
            "text/plain": [
              "   Unnamed: 0      genre      artist_name  ...    tempo time_signature  valence\n",
              "0      107360      Opera   Richard Wagner  ...  137.591            4/4   0.0292\n",
              "1      165017  Reggaeton  Ronald El Killa  ...   96.022            4/4   0.5860\n",
              "2      141044      Indie               LP  ...   75.060            4/4   0.1620\n",
              "3      141709      Indie     The National  ...   93.170            3/4   0.2390\n",
              "4      106321      Opera   Renata Tebaldi  ...   63.186            4/4   0.2510\n",
              "\n",
              "[5 rows x 19 columns]"
            ]
          },
          "metadata": {},
          "execution_count": 7
        }
      ]
    },
    {
      "cell_type": "code",
      "metadata": {
        "id": "22XxPaBoh4Hr"
      },
      "source": [
        "#df_full.head()"
      ],
      "execution_count": 27,
      "outputs": []
    },
    {
      "cell_type": "code",
      "metadata": {
        "colab": {
          "base_uri": "https://localhost:8080/"
        },
        "id": "lsVz6HhsM--y",
        "outputId": "8ffc2b4a-ac71-4e5c-c077-73f7d876de6e"
      },
      "source": [
        "df_train.columns"
      ],
      "execution_count": 28,
      "outputs": [
        {
          "output_type": "execute_result",
          "data": {
            "text/plain": [
              "Index(['Unnamed: 0', 'genre', 'artist_name', 'track_name', 'track_id',\n",
              "       'popularity', 'acousticness', 'danceability', 'duration_ms', 'energy',\n",
              "       'instrumentalness', 'key', 'liveness', 'loudness', 'mode',\n",
              "       'speechiness', 'tempo', 'time_signature', 'valence'],\n",
              "      dtype='object')"
            ]
          },
          "metadata": {},
          "execution_count": 28
        }
      ]
    },
    {
      "cell_type": "code",
      "metadata": {
        "colab": {
          "base_uri": "https://localhost:8080/"
        },
        "id": "AGjNp6rYM6pj",
        "outputId": "be37fc0c-29a2-4f33-c5b1-b98c1bd23e70"
      },
      "source": [
        "df_train.dtypes"
      ],
      "execution_count": 29,
      "outputs": [
        {
          "output_type": "execute_result",
          "data": {
            "text/plain": [
              "Unnamed: 0            int64\n",
              "genre                object\n",
              "artist_name          object\n",
              "track_name           object\n",
              "track_id             object\n",
              "popularity            int64\n",
              "acousticness        float64\n",
              "danceability        float64\n",
              "duration_ms           int64\n",
              "energy              float64\n",
              "instrumentalness    float64\n",
              "key                  object\n",
              "liveness            float64\n",
              "loudness            float64\n",
              "mode                 object\n",
              "speechiness         float64\n",
              "tempo               float64\n",
              "time_signature       object\n",
              "valence             float64\n",
              "dtype: object"
            ]
          },
          "metadata": {},
          "execution_count": 29
        }
      ]
    },
    {
      "cell_type": "markdown",
      "metadata": {
        "id": "ADXGnJdhpz4F"
      },
      "source": [
        "# Limpieza de datos"
      ]
    },
    {
      "cell_type": "code",
      "metadata": {
        "id": "ZFDehZupSCzP",
        "outputId": "2871880a-5da9-4269-bb16-9d7badd9d01f",
        "colab": {
          "base_uri": "https://localhost:8080/"
        }
      },
      "source": [
        "if 'Unnamed: 0' in df_train.columns:\n",
        "    df_train = df_train.drop(['Unnamed: 0'], axis=1)\n",
        "else:\n",
        "    print('no esta')  \n"
      ],
      "execution_count": 3,
      "outputs": [
        {
          "output_type": "stream",
          "name": "stdout",
          "text": [
            "no esta\n"
          ]
        }
      ]
    },
    {
      "cell_type": "code",
      "metadata": {
        "id": "se8x3ky1w8Bm"
      },
      "source": [
        "\n",
        "indexNamesComedy = df_train[ df_train['genre'] == 'Comedy' ].index\n",
        "df_train.drop(indexNamesComedy , inplace=True)"
      ],
      "execution_count": 3,
      "outputs": []
    },
    {
      "cell_type": "code",
      "metadata": {
        "colab": {
          "base_uri": "https://localhost:8080/"
        },
        "id": "YWQWUPdoPaA1",
        "outputId": "c0663c69-cc3c-4d0a-9406-dfd7a21ba615"
      },
      "source": [
        "df_train['genre'].value_counts()"
      ],
      "execution_count": 32,
      "outputs": [
        {
          "output_type": "execute_result",
          "data": {
            "text/plain": [
              "Soundtrack          7758\n",
              "Jazz                7634\n",
              "Indie               7603\n",
              "Children’s Music    7554\n",
              "Pop                 7532\n",
              "Electronic          7500\n",
              "Rock                7455\n",
              "Hip-Hop             7422\n",
              "Folk                7406\n",
              "Classical           7395\n",
              "Rap                 7367\n",
              "Alternative         7342\n",
              "Soul                7280\n",
              "R&B                 7242\n",
              "World               7211\n",
              "Blues               7187\n",
              "Ska                 7154\n",
              "Reggaeton           7139\n",
              "Anime               7131\n",
              "Reggae              7019\n",
              "Dance               6950\n",
              "Country             6861\n",
              "Opera               6612\n",
              "Movie               6261\n",
              "Children's Music    4298\n",
              "A Capella             96\n",
              "Name: genre, dtype: int64"
            ]
          },
          "metadata": {},
          "execution_count": 32
        }
      ]
    },
    {
      "cell_type": "markdown",
      "metadata": {
        "id": "n8w7J-PD07Ta"
      },
      "source": [
        "Vemos que la columna Children esta repetida"
      ]
    },
    {
      "cell_type": "code",
      "metadata": {
        "id": "E-OQq9qE3SYq"
      },
      "source": [
        "indexNamesChildren = df_train[ df_train['genre'] == \"Children's Music\" ].index\n",
        "df_train.drop(indexNamesChildren , inplace=True)"
      ],
      "execution_count": 33,
      "outputs": []
    },
    {
      "cell_type": "markdown",
      "metadata": {
        "id": "wgFd5h5Dz9O6"
      },
      "source": [
        "### Busqueda de datos repetidos"
      ]
    },
    {
      "cell_type": "code",
      "metadata": {
        "id": "xY1_lxjv0FSn",
        "colab": {
          "base_uri": "https://localhost:8080/"
        },
        "outputId": "962f8802-a473-4e3d-c015-9fc0c9efe5fb"
      },
      "source": [
        "\n",
        "if df_train.duplicated().sum() == 0:\n",
        "  print('no hay datos duplicados')\n",
        "else:\n",
        "  df_train.drop_duplicates\n"
      ],
      "execution_count": 34,
      "outputs": [
        {
          "output_type": "stream",
          "name": "stdout",
          "text": [
            "no hay datos duplicados\n"
          ]
        }
      ]
    },
    {
      "cell_type": "markdown",
      "metadata": {
        "id": "L-ueWlOkz4fG"
      },
      "source": [
        "### Busqueda de datos faltantes"
      ]
    },
    {
      "cell_type": "code",
      "metadata": {
        "colab": {
          "base_uri": "https://localhost:8080/"
        },
        "id": "xgEjMni2FheY",
        "outputId": "4c854018-dc39-460d-fdd1-21a83e0d29f2"
      },
      "source": [
        "#columnas con datos faltantes\n",
        "cols_with_missing = [col for col in df_train.columns if df_train[col].isnull().any()] \n",
        "faltanDatos = True\n",
        "if len(cols_with_missing)==0:\n",
        "  faltanDatos= False\n",
        "  print('no faltan valores') "
      ],
      "execution_count": 35,
      "outputs": [
        {
          "output_type": "stream",
          "name": "stdout",
          "text": [
            "no faltan valores\n"
          ]
        }
      ]
    },
    {
      "cell_type": "code",
      "metadata": {
        "id": "u6pdllwuFkSP"
      },
      "source": [
        "# saco las filas correspondientes\n",
        "if faltanDatos == True:\n",
        "    print(cols_with_missing)\n",
        "    df_train.dropna(axis=0, inplace=True)\n"
      ],
      "execution_count": 36,
      "outputs": []
    },
    {
      "cell_type": "markdown",
      "metadata": {
        "id": "J2ITX9wj0AZv"
      },
      "source": [
        ""
      ]
    },
    {
      "cell_type": "markdown",
      "metadata": {
        "id": "5g24ZZ2Fp4z3"
      },
      "source": [
        "# Variables Categoricas"
      ]
    },
    {
      "cell_type": "code",
      "metadata": {
        "colab": {
          "base_uri": "https://localhost:8080/"
        },
        "id": "a3Gtfp0WYW1z",
        "outputId": "ad2476ef-9473-41d1-9d2b-93e1a46a3d11"
      },
      "source": [
        "# Variable categoricas\n",
        "s = (df_train.dtypes == 'object')\n",
        "object_cols = list(s[s].index)\n",
        "print(object_cols)"
      ],
      "execution_count": 37,
      "outputs": [
        {
          "output_type": "stream",
          "name": "stdout",
          "text": [
            "['genre', 'artist_name', 'track_name', 'track_id', 'key', 'mode', 'time_signature']\n"
          ]
        }
      ]
    },
    {
      "cell_type": "code",
      "metadata": {
        "colab": {
          "base_uri": "https://localhost:8080/"
        },
        "id": "QN7ulp0qeaP5",
        "outputId": "5bbaaca3-dcbf-4116-c8f9-dadb3d373883"
      },
      "source": [
        "list_of_timeSignature = df_train['time_signature'].unique()\n",
        "print(list_of_timeSignature)"
      ],
      "execution_count": 38,
      "outputs": [
        {
          "output_type": "stream",
          "name": "stdout",
          "text": [
            "['4/4' '3/4' '5/4' '1/4' '0/4']\n"
          ]
        }
      ]
    },
    {
      "cell_type": "code",
      "metadata": {
        "colab": {
          "base_uri": "https://localhost:8080/"
        },
        "id": "um0qDvtk_kxR",
        "outputId": "c84559bd-1ae7-4cb7-ff6a-5098ed05f8f5"
      },
      "source": [
        "df_train['time_signature'].value_counts()"
      ],
      "execution_count": 39,
      "outputs": [
        {
          "output_type": "execute_result",
          "data": {
            "text/plain": [
              "4/4    153286\n",
              "3/4     15927\n",
              "5/4      3294\n",
              "1/4      1598\n",
              "0/4         6\n",
              "Name: time_signature, dtype: int64"
            ]
          },
          "metadata": {},
          "execution_count": 39
        }
      ]
    },
    {
      "cell_type": "markdown",
      "metadata": {
        "id": "FXPjOo6k-piY"
      },
      "source": [
        "Decidimos no utilizar Time_signature como feature por varios motivos\n",
        "\n",
        "\n",
        "*   En musica no existe compaces de 1/4 ni de 0/4 entre ambos suman 1656 valores lo que nos parecio un numero considerable\n",
        "*   En una cancion puede haber multiples cambios de compaces, en la musica progresiva es algo muy comun\n",
        "\n",
        "*   La mayoria de la musica se encuentra en 4/4 podemos ver que hay 156851 valores que considerablemente mayor a lo suma de todas las otras categorias esto introduceria un gran sesgo en nuestro modelo \n",
        "\n",
        "\n",
        "\n",
        "\n",
        "\n",
        "\n",
        "\n",
        "\n"
      ]
    },
    {
      "cell_type": "code",
      "metadata": {
        "id": "5KmVO1ZJ-ll5"
      },
      "source": [
        "df_train = df_train.drop(['time_signature'], axis=1)"
      ],
      "execution_count": 40,
      "outputs": []
    },
    {
      "cell_type": "code",
      "metadata": {
        "colab": {
          "base_uri": "https://localhost:8080/"
        },
        "id": "GH_RGyjwUOnM",
        "outputId": "92c0f381-2856-4ab6-b64a-1fffbcf351a1"
      },
      "source": [
        "# variables categoricas con baja cardinalidad\n",
        "categorical_cols = [cname for cname in df_train.columns if\n",
        "                    df_train[cname].nunique() < 14 and \n",
        "                    df_train[cname].dtype == \"object\"]\n",
        "print(categorical_cols)"
      ],
      "execution_count": 41,
      "outputs": [
        {
          "output_type": "stream",
          "name": "stdout",
          "text": [
            "['key', 'mode']\n"
          ]
        }
      ]
    },
    {
      "cell_type": "markdown",
      "metadata": {
        "id": "poCNhlTChmjj"
      },
      "source": [
        "Quedan descartadas las variables categoricas: \n",
        "\n",
        "*   Time_signature por los motivos comentados anteriormente\n",
        "*   track_id: no hay ninguna razon para utilizarla\n",
        "*   el nombre del artista: son demasiadas variables de momento las sacamos pero es cierto que es un feature interesente \n",
        "*   track_name: todos sus valores son distintos \n",
        "\n",
        "\n",
        "\n",
        "\n",
        "\n"
      ]
    },
    {
      "cell_type": "code",
      "metadata": {
        "colab": {
          "base_uri": "https://localhost:8080/"
        },
        "id": "AQ4BfBobeR_6",
        "outputId": "b1bdad3f-acbe-4b82-a07e-b54c5a217fa2"
      },
      "source": [
        "list_of_modes = df_train['mode'].unique()\n",
        "print(list_of_modes)"
      ],
      "execution_count": 42,
      "outputs": [
        {
          "output_type": "stream",
          "name": "stdout",
          "text": [
            "['Major' 'Minor']\n"
          ]
        }
      ]
    },
    {
      "cell_type": "code",
      "metadata": {
        "colab": {
          "base_uri": "https://localhost:8080/"
        },
        "id": "3YaFNClZWVad",
        "outputId": "b4d180e9-fb27-480d-f1a1-fc2ecdda0523"
      },
      "source": [
        "list_of_keys = df_train['key'].unique()\n",
        "print(list_of_keys)\n"
      ],
      "execution_count": 43,
      "outputs": [
        {
          "output_type": "stream",
          "name": "stdout",
          "text": [
            "['B' 'A#' 'C#' 'C' 'F#' 'E' 'A' 'D' 'G' 'F' 'G#' 'D#']\n"
          ]
        }
      ]
    },
    {
      "cell_type": "markdown",
      "metadata": {
        "id": "PoEJIv4hqDe1"
      },
      "source": [
        "### Preprocesado de datos"
      ]
    },
    {
      "cell_type": "code",
      "metadata": {
        "id": "7o6tPneUaeji"
      },
      "source": [
        "# Funcion para el preprocesamiento de datos\n",
        "from sklearn.model_selection import train_test_split\n",
        "\n",
        "def preprocesado(df):\n",
        "\n",
        "    if 'Unnamed: 0' in df.columns:\n",
        "        df = df.drop(['Unnamed: 0'], axis=1)\n",
        "    else:\n",
        "        print('no esta')  \n",
        "\n",
        "    df = df.drop(['time_signature','track_id','artist_name','track_name'], axis=1)\n",
        "    indexNamesComedy = df[ df['genre'] == 'Comedy' ].index\n",
        "    indexNamesChildren = df[ df['genre'] == \"Children's Music\" ].index\n",
        "    df.drop(indexNamesComedy , inplace=True)\n",
        "    df.drop(indexNamesChildren , inplace=True)\n",
        "    \n",
        "    cols_with_missing = [col for col in df.columns if df[col].isnull().any()] \n",
        "    faltanDatos = True\n",
        "    if len(cols_with_missing)==0:\n",
        "        faltanDatos= False\n",
        "        print('no faltan valores') \n",
        "    if faltanDatos == True:\n",
        "        print(cols_with_missing)\n",
        "        df.dropna(axis=0, inplace=True)\n",
        "\n",
        "    X = df.drop(columns=['genre'])\n",
        "    y = df['genre']\n",
        "    \n",
        "\n",
        "    return X,y \n"
      ],
      "execution_count": 12,
      "outputs": []
    },
    {
      "cell_type": "code",
      "metadata": {
        "id": "Bz1kZMM683DZ",
        "outputId": "af9b6073-05e5-4f99-c565-ef5e889ad4e6",
        "colab": {
          "base_uri": "https://localhost:8080/"
        }
      },
      "source": [
        "X,y = preprocesado(df_train)"
      ],
      "execution_count": 13,
      "outputs": [
        {
          "output_type": "stream",
          "name": "stdout",
          "text": [
            "no faltan valores\n"
          ]
        }
      ]
    },
    {
      "cell_type": "code",
      "metadata": {
        "id": "B3sSgN8KFBkz",
        "outputId": "ee9a94cb-f68e-4976-ad69-43ae11c44db3",
        "colab": {
          "base_uri": "https://localhost:8080/",
          "height": 419
        }
      },
      "source": [
        ""
      ],
      "execution_count": 14,
      "outputs": [
        {
          "output_type": "execute_result",
          "data": {
            "text/html": [
              "<div>\n",
              "<style scoped>\n",
              "    .dataframe tbody tr th:only-of-type {\n",
              "        vertical-align: middle;\n",
              "    }\n",
              "\n",
              "    .dataframe tbody tr th {\n",
              "        vertical-align: top;\n",
              "    }\n",
              "\n",
              "    .dataframe thead th {\n",
              "        text-align: right;\n",
              "    }\n",
              "</style>\n",
              "<table border=\"1\" class=\"dataframe\">\n",
              "  <thead>\n",
              "    <tr style=\"text-align: right;\">\n",
              "      <th></th>\n",
              "      <th>popularity</th>\n",
              "      <th>acousticness</th>\n",
              "      <th>danceability</th>\n",
              "      <th>duration_ms</th>\n",
              "      <th>energy</th>\n",
              "      <th>instrumentalness</th>\n",
              "      <th>key</th>\n",
              "      <th>liveness</th>\n",
              "      <th>loudness</th>\n",
              "      <th>mode</th>\n",
              "      <th>speechiness</th>\n",
              "      <th>tempo</th>\n",
              "      <th>valence</th>\n",
              "    </tr>\n",
              "  </thead>\n",
              "  <tbody>\n",
              "    <tr>\n",
              "      <th>0</th>\n",
              "      <td>6</td>\n",
              "      <td>0.89900</td>\n",
              "      <td>0.147</td>\n",
              "      <td>131787</td>\n",
              "      <td>0.01600</td>\n",
              "      <td>0.947000</td>\n",
              "      <td>B</td>\n",
              "      <td>0.0889</td>\n",
              "      <td>-24.317</td>\n",
              "      <td>Major</td>\n",
              "      <td>0.0380</td>\n",
              "      <td>137.591</td>\n",
              "      <td>0.0292</td>\n",
              "    </tr>\n",
              "    <tr>\n",
              "      <th>1</th>\n",
              "      <td>27</td>\n",
              "      <td>0.00613</td>\n",
              "      <td>0.857</td>\n",
              "      <td>255134</td>\n",
              "      <td>0.59900</td>\n",
              "      <td>0.000085</td>\n",
              "      <td>B</td>\n",
              "      <td>0.2090</td>\n",
              "      <td>-5.677</td>\n",
              "      <td>Major</td>\n",
              "      <td>0.0951</td>\n",
              "      <td>96.022</td>\n",
              "      <td>0.5860</td>\n",
              "    </tr>\n",
              "    <tr>\n",
              "      <th>2</th>\n",
              "      <td>59</td>\n",
              "      <td>0.27400</td>\n",
              "      <td>0.518</td>\n",
              "      <td>234905</td>\n",
              "      <td>0.54500</td>\n",
              "      <td>0.000023</td>\n",
              "      <td>A#</td>\n",
              "      <td>0.1830</td>\n",
              "      <td>-7.893</td>\n",
              "      <td>Major</td>\n",
              "      <td>0.0385</td>\n",
              "      <td>75.060</td>\n",
              "      <td>0.1620</td>\n",
              "    </tr>\n",
              "    <tr>\n",
              "      <th>3</th>\n",
              "      <td>53</td>\n",
              "      <td>0.59400</td>\n",
              "      <td>0.540</td>\n",
              "      <td>213733</td>\n",
              "      <td>0.61500</td>\n",
              "      <td>0.803000</td>\n",
              "      <td>A#</td>\n",
              "      <td>0.1200</td>\n",
              "      <td>-9.264</td>\n",
              "      <td>Major</td>\n",
              "      <td>0.0340</td>\n",
              "      <td>93.170</td>\n",
              "      <td>0.2390</td>\n",
              "    </tr>\n",
              "    <tr>\n",
              "      <th>4</th>\n",
              "      <td>8</td>\n",
              "      <td>0.95500</td>\n",
              "      <td>0.363</td>\n",
              "      <td>170240</td>\n",
              "      <td>0.19600</td>\n",
              "      <td>0.000115</td>\n",
              "      <td>C#</td>\n",
              "      <td>0.6840</td>\n",
              "      <td>-15.675</td>\n",
              "      <td>Minor</td>\n",
              "      <td>0.0452</td>\n",
              "      <td>63.186</td>\n",
              "      <td>0.2510</td>\n",
              "    </tr>\n",
              "    <tr>\n",
              "      <th>...</th>\n",
              "      <td>...</td>\n",
              "      <td>...</td>\n",
              "      <td>...</td>\n",
              "      <td>...</td>\n",
              "      <td>...</td>\n",
              "      <td>...</td>\n",
              "      <td>...</td>\n",
              "      <td>...</td>\n",
              "      <td>...</td>\n",
              "      <td>...</td>\n",
              "      <td>...</td>\n",
              "      <td>...</td>\n",
              "      <td>...</td>\n",
              "    </tr>\n",
              "    <tr>\n",
              "      <th>186174</th>\n",
              "      <td>35</td>\n",
              "      <td>0.97200</td>\n",
              "      <td>0.173</td>\n",
              "      <td>190067</td>\n",
              "      <td>0.00445</td>\n",
              "      <td>0.549000</td>\n",
              "      <td>G#</td>\n",
              "      <td>0.1060</td>\n",
              "      <td>-33.642</td>\n",
              "      <td>Major</td>\n",
              "      <td>0.0517</td>\n",
              "      <td>99.080</td>\n",
              "      <td>0.0399</td>\n",
              "    </tr>\n",
              "    <tr>\n",
              "      <th>186176</th>\n",
              "      <td>30</td>\n",
              "      <td>0.02240</td>\n",
              "      <td>0.698</td>\n",
              "      <td>238185</td>\n",
              "      <td>0.60800</td>\n",
              "      <td>0.018900</td>\n",
              "      <td>B</td>\n",
              "      <td>0.1030</td>\n",
              "      <td>-5.307</td>\n",
              "      <td>Minor</td>\n",
              "      <td>0.1370</td>\n",
              "      <td>75.118</td>\n",
              "      <td>0.5960</td>\n",
              "    </tr>\n",
              "    <tr>\n",
              "      <th>186177</th>\n",
              "      <td>72</td>\n",
              "      <td>0.00190</td>\n",
              "      <td>0.607</td>\n",
              "      <td>325502</td>\n",
              "      <td>0.81300</td>\n",
              "      <td>0.000880</td>\n",
              "      <td>E</td>\n",
              "      <td>0.3050</td>\n",
              "      <td>-5.825</td>\n",
              "      <td>Minor</td>\n",
              "      <td>0.0936</td>\n",
              "      <td>133.962</td>\n",
              "      <td>0.1950</td>\n",
              "    </tr>\n",
              "    <tr>\n",
              "      <th>186178</th>\n",
              "      <td>63</td>\n",
              "      <td>0.22600</td>\n",
              "      <td>0.664</td>\n",
              "      <td>254147</td>\n",
              "      <td>0.35100</td>\n",
              "      <td>0.000002</td>\n",
              "      <td>C</td>\n",
              "      <td>0.1060</td>\n",
              "      <td>-12.136</td>\n",
              "      <td>Major</td>\n",
              "      <td>0.1180</td>\n",
              "      <td>113.204</td>\n",
              "      <td>0.8160</td>\n",
              "    </tr>\n",
              "    <tr>\n",
              "      <th>186179</th>\n",
              "      <td>28</td>\n",
              "      <td>0.59500</td>\n",
              "      <td>0.163</td>\n",
              "      <td>162027</td>\n",
              "      <td>0.44000</td>\n",
              "      <td>0.909000</td>\n",
              "      <td>F</td>\n",
              "      <td>0.1420</td>\n",
              "      <td>-9.873</td>\n",
              "      <td>Minor</td>\n",
              "      <td>0.0436</td>\n",
              "      <td>154.357</td>\n",
              "      <td>0.1260</td>\n",
              "    </tr>\n",
              "  </tbody>\n",
              "</table>\n",
              "<p>174111 rows × 13 columns</p>\n",
              "</div>"
            ],
            "text/plain": [
              "        popularity  acousticness  danceability  ...  speechiness    tempo  valence\n",
              "0                6       0.89900         0.147  ...       0.0380  137.591   0.0292\n",
              "1               27       0.00613         0.857  ...       0.0951   96.022   0.5860\n",
              "2               59       0.27400         0.518  ...       0.0385   75.060   0.1620\n",
              "3               53       0.59400         0.540  ...       0.0340   93.170   0.2390\n",
              "4                8       0.95500         0.363  ...       0.0452   63.186   0.2510\n",
              "...            ...           ...           ...  ...          ...      ...      ...\n",
              "186174          35       0.97200         0.173  ...       0.0517   99.080   0.0399\n",
              "186176          30       0.02240         0.698  ...       0.1370   75.118   0.5960\n",
              "186177          72       0.00190         0.607  ...       0.0936  133.962   0.1950\n",
              "186178          63       0.22600         0.664  ...       0.1180  113.204   0.8160\n",
              "186179          28       0.59500         0.163  ...       0.0436  154.357   0.1260\n",
              "\n",
              "[174111 rows x 13 columns]"
            ]
          },
          "metadata": {},
          "execution_count": 14
        }
      ]
    },
    {
      "cell_type": "code",
      "metadata": {
        "id": "LIxxgMn0sIr7"
      },
      "source": [
        "X = df_train.drop(columns=['genre'])\n",
        "y = df_train['genre']"
      ],
      "execution_count": 45,
      "outputs": []
    },
    {
      "cell_type": "code",
      "metadata": {
        "id": "9O44HK6TVf_R"
      },
      "source": [
        "from sklearn.model_selection import train_test_split\n",
        "X_train_full, X_valid_full, y_train, y_valid = train_test_split(df_train, y, \n",
        "                                                                train_size=0.8, test_size=0.2,\n",
        "                                                                random_state=0)"
      ],
      "execution_count": 46,
      "outputs": []
    },
    {
      "cell_type": "code",
      "metadata": {
        "id": "7fRJ2qym6xic",
        "outputId": "4abfad78-8812-41ab-9923-e89bf42755ce",
        "colab": {
          "base_uri": "https://localhost:8080/",
          "height": 419
        }
      },
      "source": [
        "X_train.select_dtypes('object')"
      ],
      "execution_count": 52,
      "outputs": [
        {
          "output_type": "execute_result",
          "data": {
            "text/html": [
              "<div>\n",
              "<style scoped>\n",
              "    .dataframe tbody tr th:only-of-type {\n",
              "        vertical-align: middle;\n",
              "    }\n",
              "\n",
              "    .dataframe tbody tr th {\n",
              "        vertical-align: top;\n",
              "    }\n",
              "\n",
              "    .dataframe thead th {\n",
              "        text-align: right;\n",
              "    }\n",
              "</style>\n",
              "<table border=\"1\" class=\"dataframe\">\n",
              "  <thead>\n",
              "    <tr style=\"text-align: right;\">\n",
              "      <th></th>\n",
              "      <th>key</th>\n",
              "      <th>mode</th>\n",
              "    </tr>\n",
              "  </thead>\n",
              "  <tbody>\n",
              "    <tr>\n",
              "      <th>101822</th>\n",
              "      <td>A#</td>\n",
              "      <td>Major</td>\n",
              "    </tr>\n",
              "    <tr>\n",
              "      <th>83812</th>\n",
              "      <td>D</td>\n",
              "      <td>Major</td>\n",
              "    </tr>\n",
              "    <tr>\n",
              "      <th>2556</th>\n",
              "      <td>C#</td>\n",
              "      <td>Major</td>\n",
              "    </tr>\n",
              "    <tr>\n",
              "      <th>174265</th>\n",
              "      <td>G#</td>\n",
              "      <td>Minor</td>\n",
              "    </tr>\n",
              "    <tr>\n",
              "      <th>136222</th>\n",
              "      <td>F#</td>\n",
              "      <td>Minor</td>\n",
              "    </tr>\n",
              "    <tr>\n",
              "      <th>...</th>\n",
              "      <td>...</td>\n",
              "      <td>...</td>\n",
              "    </tr>\n",
              "    <tr>\n",
              "      <th>102638</th>\n",
              "      <td>G</td>\n",
              "      <td>Major</td>\n",
              "    </tr>\n",
              "    <tr>\n",
              "      <th>162868</th>\n",
              "      <td>G</td>\n",
              "      <td>Major</td>\n",
              "    </tr>\n",
              "    <tr>\n",
              "      <th>126161</th>\n",
              "      <td>C</td>\n",
              "      <td>Major</td>\n",
              "    </tr>\n",
              "    <tr>\n",
              "      <th>185725</th>\n",
              "      <td>A</td>\n",
              "      <td>Major</td>\n",
              "    </tr>\n",
              "    <tr>\n",
              "      <th>46604</th>\n",
              "      <td>F#</td>\n",
              "      <td>Minor</td>\n",
              "    </tr>\n",
              "  </tbody>\n",
              "</table>\n",
              "<p>139288 rows × 2 columns</p>\n",
              "</div>"
            ],
            "text/plain": [
              "       key   mode\n",
              "101822  A#  Major\n",
              "83812    D  Major\n",
              "2556    C#  Major\n",
              "174265  G#  Minor\n",
              "136222  F#  Minor\n",
              "...     ..    ...\n",
              "102638   G  Major\n",
              "162868   G  Major\n",
              "126161   C  Major\n",
              "185725   A  Major\n",
              "46604   F#  Minor\n",
              "\n",
              "[139288 rows x 2 columns]"
            ]
          },
          "metadata": {},
          "execution_count": 52
        }
      ]
    },
    {
      "cell_type": "code",
      "metadata": {
        "colab": {
          "base_uri": "https://localhost:8080/"
        },
        "id": "KYwi6Pgbdpxl",
        "outputId": "adb82296-70e0-4a2a-846b-5914a126e4fc"
      },
      "source": [
        "\n",
        "# Select numerical columns\n",
        "numerical_cols = [cname for cname in X_train_full.columns if \n",
        "                X_train_full[cname].dtype in ['int64', 'float64']]\n",
        "\n",
        "print(numerical_cols)"
      ],
      "execution_count": 49,
      "outputs": [
        {
          "output_type": "stream",
          "name": "stdout",
          "text": [
            "['popularity', 'acousticness', 'danceability', 'duration_ms', 'energy', 'instrumentalness', 'liveness', 'loudness', 'speechiness', 'tempo', 'valence']\n"
          ]
        }
      ]
    },
    {
      "cell_type": "code",
      "metadata": {
        "id": "KKRZ-CDf6kYI"
      },
      "source": [
        ""
      ],
      "execution_count": null,
      "outputs": []
    },
    {
      "cell_type": "code",
      "metadata": {
        "id": "Dqs9VYZzfVyp"
      },
      "source": [
        "#Seleccion de columnas\n",
        "my_cols = categorical_cols + numerical_cols\n",
        "X_train = X_train_full[my_cols].copy()\n",
        "X_valid = X_valid_full[my_cols].copy()\n"
      ],
      "execution_count": 50,
      "outputs": []
    },
    {
      "cell_type": "markdown",
      "metadata": {
        "id": "YA7H7dj-qPJj"
      },
      "source": [
        "# Un poco de ingenieria de datos"
      ]
    },
    {
      "cell_type": "code",
      "metadata": {
        "id": "UUausLOOgyys"
      },
      "source": [
        "from sklearn.preprocessing import OrdinalEncoder\n",
        "\n",
        "\n",
        "label_X_train = X_train.copy()\n",
        "label_X_valid = X_valid.copy()\n",
        "\n",
        "ordinal_encoder = OrdinalEncoder()\n",
        "label_X_train[categorical_cols] = ordinal_encoder.fit_transform(X_train[categorical_cols])\n",
        "label_X_valid[categorical_cols] = ordinal_encoder.transform(X_valid[categorical_cols])\n",
        "\n",
        "\n"
      ],
      "execution_count": 51,
      "outputs": []
    },
    {
      "cell_type": "markdown",
      "metadata": {
        "id": "MU0fA7b87LK1"
      },
      "source": [
        "### Viendo si la transformacion esta bien"
      ]
    }
  ]
}