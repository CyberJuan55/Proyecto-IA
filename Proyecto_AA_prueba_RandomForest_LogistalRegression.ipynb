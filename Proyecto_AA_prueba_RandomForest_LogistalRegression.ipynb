{
  "nbformat": 4,
  "nbformat_minor": 0,
  "metadata": {
    "colab": {
      "name": " Proyecto AA prueba RandomForest LogistalRegression ",
      "provenance": [],
      "collapsed_sections": []
    },
    "kernelspec": {
      "display_name": "Python 3",
      "name": "python3"
    },
    "language_info": {
      "name": "python"
    }
  },
  "cells": [
    {
      "cell_type": "markdown",
      "metadata": {
        "id": "MvgWS0p-pjfS"
      },
      "source": [
        "# Preparativos"
      ]
    },
    {
      "cell_type": "code",
      "metadata": {
        "colab": {
          "base_uri": "https://localhost:8080/"
        },
        "id": "qPUnram_AUlB",
        "outputId": "b1f3adc2-ac23-4a32-b60a-d2b876f6fdd2"
      },
      "source": [
        "! pip install kaggle\n",
        "! mkdir ~/.kaggle\n",
        "! cp kaggle.json ~/.kaggle/\n",
        "! chmod 600 ~/.kaggle/kaggle.json\n",
        "! kaggle datasets download zaheenhamidani/ultimate-spotify-tracks-db"
      ],
      "execution_count": null,
      "outputs": [
        {
          "output_type": "stream",
          "name": "stdout",
          "text": [
            "Requirement already satisfied: kaggle in /usr/local/lib/python3.7/dist-packages (1.5.12)\n",
            "Requirement already satisfied: python-slugify in /usr/local/lib/python3.7/dist-packages (from kaggle) (5.0.2)\n",
            "Requirement already satisfied: requests in /usr/local/lib/python3.7/dist-packages (from kaggle) (2.23.0)\n",
            "Requirement already satisfied: tqdm in /usr/local/lib/python3.7/dist-packages (from kaggle) (4.62.3)\n",
            "Requirement already satisfied: python-dateutil in /usr/local/lib/python3.7/dist-packages (from kaggle) (2.8.2)\n",
            "Requirement already satisfied: six>=1.10 in /usr/local/lib/python3.7/dist-packages (from kaggle) (1.15.0)\n",
            "Requirement already satisfied: certifi in /usr/local/lib/python3.7/dist-packages (from kaggle) (2021.5.30)\n",
            "Requirement already satisfied: urllib3 in /usr/local/lib/python3.7/dist-packages (from kaggle) (1.24.3)\n",
            "Requirement already satisfied: text-unidecode>=1.3 in /usr/local/lib/python3.7/dist-packages (from python-slugify->kaggle) (1.3)\n",
            "Requirement already satisfied: idna<3,>=2.5 in /usr/local/lib/python3.7/dist-packages (from requests->kaggle) (2.10)\n",
            "Requirement already satisfied: chardet<4,>=3.0.2 in /usr/local/lib/python3.7/dist-packages (from requests->kaggle) (3.0.4)\n",
            "Downloading ultimate-spotify-tracks-db.zip to /content\n",
            " 58% 9.00M/15.5M [00:00<00:00, 20.1MB/s]\n",
            "100% 15.5M/15.5M [00:00<00:00, 34.9MB/s]\n"
          ]
        }
      ]
    },
    {
      "cell_type": "code",
      "metadata": {
        "id": "GeaBo8GXBlVL"
      },
      "source": [
        "import pandas as pd \n",
        "import seaborn as sns\n",
        "import matplotlib.pyplot as plt\n",
        "import numpy as np\n",
        "# el train que nos dieron los profes\n",
        "df_train_original= pd.read_csv('/content/SpotifyFeatures_train.csv')\n",
        "df_train = df_train_original.copy()\n",
        "# el dataset nuestro\n",
        "df_full = pd.read_csv('/content/ultimate-spotify-tracks-db.zip')\n"
      ],
      "execution_count": null,
      "outputs": []
    },
    {
      "cell_type": "markdown",
      "metadata": {
        "id": "jxZcTtP-pqcw"
      },
      "source": [
        "# Exploracion de datos"
      ]
    },
    {
      "cell_type": "code",
      "metadata": {
        "colab": {
          "base_uri": "https://localhost:8080/",
          "height": 308
        },
        "id": "z1s0XQMMiEFt",
        "outputId": "b7919083-987f-4d28-cd97-7019ca0a2398"
      },
      "source": [
        "df_train.head()"
      ],
      "execution_count": null,
      "outputs": [
        {
          "output_type": "execute_result",
          "data": {
            "text/html": [
              "<div>\n",
              "<style scoped>\n",
              "    .dataframe tbody tr th:only-of-type {\n",
              "        vertical-align: middle;\n",
              "    }\n",
              "\n",
              "    .dataframe tbody tr th {\n",
              "        vertical-align: top;\n",
              "    }\n",
              "\n",
              "    .dataframe thead th {\n",
              "        text-align: right;\n",
              "    }\n",
              "</style>\n",
              "<table border=\"1\" class=\"dataframe\">\n",
              "  <thead>\n",
              "    <tr style=\"text-align: right;\">\n",
              "      <th></th>\n",
              "      <th>Unnamed: 0</th>\n",
              "      <th>genre</th>\n",
              "      <th>artist_name</th>\n",
              "      <th>track_name</th>\n",
              "      <th>track_id</th>\n",
              "      <th>popularity</th>\n",
              "      <th>acousticness</th>\n",
              "      <th>danceability</th>\n",
              "      <th>duration_ms</th>\n",
              "      <th>energy</th>\n",
              "      <th>instrumentalness</th>\n",
              "      <th>key</th>\n",
              "      <th>liveness</th>\n",
              "      <th>loudness</th>\n",
              "      <th>mode</th>\n",
              "      <th>speechiness</th>\n",
              "      <th>tempo</th>\n",
              "      <th>time_signature</th>\n",
              "      <th>valence</th>\n",
              "    </tr>\n",
              "  </thead>\n",
              "  <tbody>\n",
              "    <tr>\n",
              "      <th>0</th>\n",
              "      <td>107360</td>\n",
              "      <td>Opera</td>\n",
              "      <td>Richard Wagner</td>\n",
              "      <td>Gotterdammerung (Twilight of the Gods): Prolog...</td>\n",
              "      <td>32pnRCr5u3nzO55MgoEJwV</td>\n",
              "      <td>6</td>\n",
              "      <td>0.89900</td>\n",
              "      <td>0.147</td>\n",
              "      <td>131787</td>\n",
              "      <td>0.016</td>\n",
              "      <td>0.947000</td>\n",
              "      <td>B</td>\n",
              "      <td>0.0889</td>\n",
              "      <td>-24.317</td>\n",
              "      <td>Major</td>\n",
              "      <td>0.0380</td>\n",
              "      <td>137.591</td>\n",
              "      <td>4/4</td>\n",
              "      <td>0.0292</td>\n",
              "    </tr>\n",
              "    <tr>\n",
              "      <th>1</th>\n",
              "      <td>165017</td>\n",
              "      <td>Reggaeton</td>\n",
              "      <td>Ronald El Killa</td>\n",
              "      <td>Esta Pena</td>\n",
              "      <td>3uMQ7q5oU0VgYl9SyCF2MR</td>\n",
              "      <td>27</td>\n",
              "      <td>0.00613</td>\n",
              "      <td>0.857</td>\n",
              "      <td>255134</td>\n",
              "      <td>0.599</td>\n",
              "      <td>0.000085</td>\n",
              "      <td>B</td>\n",
              "      <td>0.2090</td>\n",
              "      <td>-5.677</td>\n",
              "      <td>Major</td>\n",
              "      <td>0.0951</td>\n",
              "      <td>96.022</td>\n",
              "      <td>4/4</td>\n",
              "      <td>0.5860</td>\n",
              "    </tr>\n",
              "    <tr>\n",
              "      <th>2</th>\n",
              "      <td>141044</td>\n",
              "      <td>Indie</td>\n",
              "      <td>LP</td>\n",
              "      <td>Recovery</td>\n",
              "      <td>1a5P7IvLUhRhLnnbkev3PI</td>\n",
              "      <td>59</td>\n",
              "      <td>0.27400</td>\n",
              "      <td>0.518</td>\n",
              "      <td>234905</td>\n",
              "      <td>0.545</td>\n",
              "      <td>0.000023</td>\n",
              "      <td>A#</td>\n",
              "      <td>0.1830</td>\n",
              "      <td>-7.893</td>\n",
              "      <td>Major</td>\n",
              "      <td>0.0385</td>\n",
              "      <td>75.060</td>\n",
              "      <td>4/4</td>\n",
              "      <td>0.1620</td>\n",
              "    </tr>\n",
              "    <tr>\n",
              "      <th>3</th>\n",
              "      <td>141709</td>\n",
              "      <td>Indie</td>\n",
              "      <td>The National</td>\n",
              "      <td>Carin at the Liquor Store</td>\n",
              "      <td>4maI5FwVIzjrErduPjjZLO</td>\n",
              "      <td>53</td>\n",
              "      <td>0.59400</td>\n",
              "      <td>0.540</td>\n",
              "      <td>213733</td>\n",
              "      <td>0.615</td>\n",
              "      <td>0.803000</td>\n",
              "      <td>A#</td>\n",
              "      <td>0.1200</td>\n",
              "      <td>-9.264</td>\n",
              "      <td>Major</td>\n",
              "      <td>0.0340</td>\n",
              "      <td>93.170</td>\n",
              "      <td>3/4</td>\n",
              "      <td>0.2390</td>\n",
              "    </tr>\n",
              "    <tr>\n",
              "      <th>4</th>\n",
              "      <td>106321</td>\n",
              "      <td>Opera</td>\n",
              "      <td>Renata Tebaldi</td>\n",
              "      <td>Giordano: Andrea Chenier: Come un bel di di ma...</td>\n",
              "      <td>5VEVnqQu6cFewcbWfbkUeE</td>\n",
              "      <td>8</td>\n",
              "      <td>0.95500</td>\n",
              "      <td>0.363</td>\n",
              "      <td>170240</td>\n",
              "      <td>0.196</td>\n",
              "      <td>0.000115</td>\n",
              "      <td>C#</td>\n",
              "      <td>0.6840</td>\n",
              "      <td>-15.675</td>\n",
              "      <td>Minor</td>\n",
              "      <td>0.0452</td>\n",
              "      <td>63.186</td>\n",
              "      <td>4/4</td>\n",
              "      <td>0.2510</td>\n",
              "    </tr>\n",
              "  </tbody>\n",
              "</table>\n",
              "</div>"
            ],
            "text/plain": [
              "   Unnamed: 0      genre      artist_name  ...    tempo time_signature  valence\n",
              "0      107360      Opera   Richard Wagner  ...  137.591            4/4   0.0292\n",
              "1      165017  Reggaeton  Ronald El Killa  ...   96.022            4/4   0.5860\n",
              "2      141044      Indie               LP  ...   75.060            4/4   0.1620\n",
              "3      141709      Indie     The National  ...   93.170            3/4   0.2390\n",
              "4      106321      Opera   Renata Tebaldi  ...   63.186            4/4   0.2510\n",
              "\n",
              "[5 rows x 19 columns]"
            ]
          },
          "metadata": {},
          "execution_count": 3
        }
      ]
    },
    {
      "cell_type": "code",
      "metadata": {
        "colab": {
          "base_uri": "https://localhost:8080/",
          "height": 373
        },
        "id": "22XxPaBoh4Hr",
        "outputId": "71bd61e7-c33a-484c-feb2-2121d1173b08"
      },
      "source": [
        "df_full.head()"
      ],
      "execution_count": null,
      "outputs": [
        {
          "output_type": "execute_result",
          "data": {
            "text/html": [
              "<div>\n",
              "<style scoped>\n",
              "    .dataframe tbody tr th:only-of-type {\n",
              "        vertical-align: middle;\n",
              "    }\n",
              "\n",
              "    .dataframe tbody tr th {\n",
              "        vertical-align: top;\n",
              "    }\n",
              "\n",
              "    .dataframe thead th {\n",
              "        text-align: right;\n",
              "    }\n",
              "</style>\n",
              "<table border=\"1\" class=\"dataframe\">\n",
              "  <thead>\n",
              "    <tr style=\"text-align: right;\">\n",
              "      <th></th>\n",
              "      <th>genre</th>\n",
              "      <th>artist_name</th>\n",
              "      <th>track_name</th>\n",
              "      <th>track_id</th>\n",
              "      <th>popularity</th>\n",
              "      <th>acousticness</th>\n",
              "      <th>danceability</th>\n",
              "      <th>duration_ms</th>\n",
              "      <th>energy</th>\n",
              "      <th>instrumentalness</th>\n",
              "      <th>key</th>\n",
              "      <th>liveness</th>\n",
              "      <th>loudness</th>\n",
              "      <th>mode</th>\n",
              "      <th>speechiness</th>\n",
              "      <th>tempo</th>\n",
              "      <th>time_signature</th>\n",
              "      <th>valence</th>\n",
              "    </tr>\n",
              "  </thead>\n",
              "  <tbody>\n",
              "    <tr>\n",
              "      <th>0</th>\n",
              "      <td>Movie</td>\n",
              "      <td>Henri Salvador</td>\n",
              "      <td>C'est beau de faire un Show</td>\n",
              "      <td>0BRjO6ga9RKCKjfDqeFgWV</td>\n",
              "      <td>0</td>\n",
              "      <td>0.611</td>\n",
              "      <td>0.389</td>\n",
              "      <td>99373</td>\n",
              "      <td>0.910</td>\n",
              "      <td>0.000</td>\n",
              "      <td>C#</td>\n",
              "      <td>0.3460</td>\n",
              "      <td>-1.828</td>\n",
              "      <td>Major</td>\n",
              "      <td>0.0525</td>\n",
              "      <td>166.969</td>\n",
              "      <td>4/4</td>\n",
              "      <td>0.814</td>\n",
              "    </tr>\n",
              "    <tr>\n",
              "      <th>1</th>\n",
              "      <td>Movie</td>\n",
              "      <td>Martin &amp; les fées</td>\n",
              "      <td>Perdu d'avance (par Gad Elmaleh)</td>\n",
              "      <td>0BjC1NfoEOOusryehmNudP</td>\n",
              "      <td>1</td>\n",
              "      <td>0.246</td>\n",
              "      <td>0.590</td>\n",
              "      <td>137373</td>\n",
              "      <td>0.737</td>\n",
              "      <td>0.000</td>\n",
              "      <td>F#</td>\n",
              "      <td>0.1510</td>\n",
              "      <td>-5.559</td>\n",
              "      <td>Minor</td>\n",
              "      <td>0.0868</td>\n",
              "      <td>174.003</td>\n",
              "      <td>4/4</td>\n",
              "      <td>0.816</td>\n",
              "    </tr>\n",
              "    <tr>\n",
              "      <th>2</th>\n",
              "      <td>Movie</td>\n",
              "      <td>Joseph Williams</td>\n",
              "      <td>Don't Let Me Be Lonely Tonight</td>\n",
              "      <td>0CoSDzoNIKCRs124s9uTVy</td>\n",
              "      <td>3</td>\n",
              "      <td>0.952</td>\n",
              "      <td>0.663</td>\n",
              "      <td>170267</td>\n",
              "      <td>0.131</td>\n",
              "      <td>0.000</td>\n",
              "      <td>C</td>\n",
              "      <td>0.1030</td>\n",
              "      <td>-13.879</td>\n",
              "      <td>Minor</td>\n",
              "      <td>0.0362</td>\n",
              "      <td>99.488</td>\n",
              "      <td>5/4</td>\n",
              "      <td>0.368</td>\n",
              "    </tr>\n",
              "    <tr>\n",
              "      <th>3</th>\n",
              "      <td>Movie</td>\n",
              "      <td>Henri Salvador</td>\n",
              "      <td>Dis-moi Monsieur Gordon Cooper</td>\n",
              "      <td>0Gc6TVm52BwZD07Ki6tIvf</td>\n",
              "      <td>0</td>\n",
              "      <td>0.703</td>\n",
              "      <td>0.240</td>\n",
              "      <td>152427</td>\n",
              "      <td>0.326</td>\n",
              "      <td>0.000</td>\n",
              "      <td>C#</td>\n",
              "      <td>0.0985</td>\n",
              "      <td>-12.178</td>\n",
              "      <td>Major</td>\n",
              "      <td>0.0395</td>\n",
              "      <td>171.758</td>\n",
              "      <td>4/4</td>\n",
              "      <td>0.227</td>\n",
              "    </tr>\n",
              "    <tr>\n",
              "      <th>4</th>\n",
              "      <td>Movie</td>\n",
              "      <td>Fabien Nataf</td>\n",
              "      <td>Ouverture</td>\n",
              "      <td>0IuslXpMROHdEPvSl1fTQK</td>\n",
              "      <td>4</td>\n",
              "      <td>0.950</td>\n",
              "      <td>0.331</td>\n",
              "      <td>82625</td>\n",
              "      <td>0.225</td>\n",
              "      <td>0.123</td>\n",
              "      <td>F</td>\n",
              "      <td>0.2020</td>\n",
              "      <td>-21.150</td>\n",
              "      <td>Major</td>\n",
              "      <td>0.0456</td>\n",
              "      <td>140.576</td>\n",
              "      <td>4/4</td>\n",
              "      <td>0.390</td>\n",
              "    </tr>\n",
              "  </tbody>\n",
              "</table>\n",
              "</div>"
            ],
            "text/plain": [
              "   genre        artist_name  ... time_signature valence\n",
              "0  Movie     Henri Salvador  ...            4/4   0.814\n",
              "1  Movie  Martin & les fées  ...            4/4   0.816\n",
              "2  Movie    Joseph Williams  ...            5/4   0.368\n",
              "3  Movie     Henri Salvador  ...            4/4   0.227\n",
              "4  Movie       Fabien Nataf  ...            4/4   0.390\n",
              "\n",
              "[5 rows x 18 columns]"
            ]
          },
          "metadata": {},
          "execution_count": 4
        }
      ]
    },
    {
      "cell_type": "code",
      "metadata": {
        "colab": {
          "base_uri": "https://localhost:8080/"
        },
        "id": "lsVz6HhsM--y",
        "outputId": "2d7dfb18-f8d3-42ce-8fe5-b67b0134941d"
      },
      "source": [
        "df_train.columns"
      ],
      "execution_count": null,
      "outputs": [
        {
          "output_type": "execute_result",
          "data": {
            "text/plain": [
              "Index(['Unnamed: 0', 'genre', 'artist_name', 'track_name', 'track_id',\n",
              "       'popularity', 'acousticness', 'danceability', 'duration_ms', 'energy',\n",
              "       'instrumentalness', 'key', 'liveness', 'loudness', 'mode',\n",
              "       'speechiness', 'tempo', 'time_signature', 'valence'],\n",
              "      dtype='object')"
            ]
          },
          "metadata": {},
          "execution_count": 5
        }
      ]
    },
    {
      "cell_type": "code",
      "metadata": {
        "colab": {
          "base_uri": "https://localhost:8080/"
        },
        "id": "AGjNp6rYM6pj",
        "outputId": "8c776f5b-9b5a-4860-9ff7-199fc85cf645"
      },
      "source": [
        "df_train.dtypes"
      ],
      "execution_count": null,
      "outputs": [
        {
          "output_type": "execute_result",
          "data": {
            "text/plain": [
              "Unnamed: 0            int64\n",
              "genre                object\n",
              "artist_name          object\n",
              "track_name           object\n",
              "track_id             object\n",
              "popularity            int64\n",
              "acousticness        float64\n",
              "danceability        float64\n",
              "duration_ms           int64\n",
              "energy              float64\n",
              "instrumentalness    float64\n",
              "key                  object\n",
              "liveness            float64\n",
              "loudness            float64\n",
              "mode                 object\n",
              "speechiness         float64\n",
              "tempo               float64\n",
              "time_signature       object\n",
              "valence             float64\n",
              "dtype: object"
            ]
          },
          "metadata": {},
          "execution_count": 6
        }
      ]
    },
    {
      "cell_type": "markdown",
      "metadata": {
        "id": "ADXGnJdhpz4F"
      },
      "source": [
        "# Limpieza de datos"
      ]
    },
    {
      "cell_type": "code",
      "metadata": {
        "id": "ZFDehZupSCzP"
      },
      "source": [
        "df_train = df_train.drop(['Unnamed: 0'], axis=1)\n"
      ],
      "execution_count": null,
      "outputs": []
    },
    {
      "cell_type": "code",
      "metadata": {
        "id": "se8x3ky1w8Bm"
      },
      "source": [
        "\n",
        "indexNames = df_train[ df_train['genre'] == 'Comedy' ].index\n",
        "df_train.drop(indexNames , inplace=True)"
      ],
      "execution_count": null,
      "outputs": []
    },
    {
      "cell_type": "code",
      "metadata": {
        "colab": {
          "base_uri": "https://localhost:8080/"
        },
        "id": "YWQWUPdoPaA1",
        "outputId": "07edcf61-e74e-4203-ce6a-5a5666a8284c"
      },
      "source": [
        "df_train['genre'].value_counts()"
      ],
      "execution_count": null,
      "outputs": [
        {
          "output_type": "execute_result",
          "data": {
            "text/plain": [
              "Soundtrack          7758\n",
              "Jazz                7634\n",
              "Indie               7603\n",
              "Children’s Music    7554\n",
              "Pop                 7532\n",
              "Electronic          7500\n",
              "Rock                7455\n",
              "Hip-Hop             7422\n",
              "Folk                7406\n",
              "Classical           7395\n",
              "Rap                 7367\n",
              "Alternative         7342\n",
              "Soul                7280\n",
              "R&B                 7242\n",
              "World               7211\n",
              "Blues               7187\n",
              "Ska                 7154\n",
              "Reggaeton           7139\n",
              "Anime               7131\n",
              "Reggae              7019\n",
              "Dance               6950\n",
              "Country             6861\n",
              "Opera               6612\n",
              "Movie               6261\n",
              "Children's Music    4298\n",
              "A Capella             96\n",
              "Name: genre, dtype: int64"
            ]
          },
          "metadata": {},
          "execution_count": 9
        }
      ]
    },
    {
      "cell_type": "code",
      "metadata": {
        "colab": {
          "base_uri": "https://localhost:8080/"
        },
        "id": "xgEjMni2FheY",
        "outputId": "3695dc8a-08c1-4e8a-dff4-6ca17458b2b0"
      },
      "source": [
        "#columnas con datos faltantes\n",
        "cols_with_missing = [col for col in df_train.columns if df_train[col].isnull().any()] \n",
        "if len(cols_with_missing)==0:\n",
        "  print('no faltan valores') "
      ],
      "execution_count": null,
      "outputs": [
        {
          "output_type": "stream",
          "name": "stdout",
          "text": [
            "no faltan valores\n"
          ]
        }
      ]
    },
    {
      "cell_type": "code",
      "metadata": {
        "id": "u6pdllwuFkSP",
        "colab": {
          "base_uri": "https://localhost:8080/"
        },
        "outputId": "a7f33b44-39bb-4c54-ade4-99c40b08da9a"
      },
      "source": [
        "# saco las filas correspondientes\n",
        "print(cols_with_missing)\n",
        "df_train.dropna(axis=0, inplace=True)\n"
      ],
      "execution_count": null,
      "outputs": [
        {
          "output_type": "stream",
          "name": "stdout",
          "text": [
            "[]\n"
          ]
        }
      ]
    },
    {
      "cell_type": "markdown",
      "metadata": {
        "id": "5g24ZZ2Fp4z3"
      },
      "source": [
        "# Variables Categoricas"
      ]
    },
    {
      "cell_type": "code",
      "metadata": {
        "colab": {
          "base_uri": "https://localhost:8080/"
        },
        "id": "a3Gtfp0WYW1z",
        "outputId": "07066b3a-02b8-4979-dd6b-2cf337bc6523"
      },
      "source": [
        "# Variable categoricas\n",
        "s = (df_train.dtypes == 'object')\n",
        "object_cols = list(s[s].index)\n",
        "print(object_cols)"
      ],
      "execution_count": null,
      "outputs": [
        {
          "output_type": "stream",
          "name": "stdout",
          "text": [
            "['genre', 'artist_name', 'track_name', 'track_id', 'key', 'mode', 'time_signature']\n"
          ]
        }
      ]
    },
    {
      "cell_type": "code",
      "metadata": {
        "colab": {
          "base_uri": "https://localhost:8080/"
        },
        "id": "QN7ulp0qeaP5",
        "outputId": "662d8d3b-f491-40ab-a828-fe629c35e6c5"
      },
      "source": [
        "list_of_timeSignature = df_train['time_signature'].unique()\n",
        "print(list_of_timeSignature)"
      ],
      "execution_count": null,
      "outputs": [
        {
          "output_type": "stream",
          "name": "stdout",
          "text": [
            "['4/4' '3/4' '5/4' '1/4' '0/4']\n"
          ]
        }
      ]
    },
    {
      "cell_type": "code",
      "metadata": {
        "colab": {
          "base_uri": "https://localhost:8080/"
        },
        "id": "um0qDvtk_kxR",
        "outputId": "75e5b4a9-2a8a-45ec-e342-b7bb03eb4a8b"
      },
      "source": [
        "df_train['time_signature'].value_counts()"
      ],
      "execution_count": null,
      "outputs": [
        {
          "output_type": "execute_result",
          "data": {
            "text/plain": [
              "4/4    156851\n",
              "3/4     16544\n",
              "5/4      3357\n",
              "1/4      1651\n",
              "0/4         6\n",
              "Name: time_signature, dtype: int64"
            ]
          },
          "metadata": {},
          "execution_count": 14
        }
      ]
    },
    {
      "cell_type": "markdown",
      "metadata": {
        "id": "FXPjOo6k-piY"
      },
      "source": [
        "Decidimos no utilizar Time_signature como feature por varios motivos\n",
        "\n",
        "\n",
        "*   En musica no existe compaces de 1/4 ni de 0/4 entre ambos suman 1656 valores lo que nos parecio un numero considerable\n",
        "*   En una cancion puede haber multiples cambios de compaces, en la musica progresiva es algo muy comun\n",
        "\n",
        "*   La mayoria de la musica se encuentra en 4/4 podemos ver que hay 156851 valores que considerablemente mayor a lo suma de todas las otras categorias esto introduceria un gran sesgo en nuestro modelo \n",
        "\n",
        "\n",
        "\n",
        "\n",
        "\n",
        "\n",
        "\n",
        "\n"
      ]
    },
    {
      "cell_type": "code",
      "metadata": {
        "id": "5KmVO1ZJ-ll5"
      },
      "source": [
        "df_train = df_train.drop(['time_signature'], axis=1)"
      ],
      "execution_count": null,
      "outputs": []
    },
    {
      "cell_type": "code",
      "metadata": {
        "colab": {
          "base_uri": "https://localhost:8080/"
        },
        "id": "GH_RGyjwUOnM",
        "outputId": "17b568a5-b629-491d-fd8f-7dedb17c927f"
      },
      "source": [
        "# variables categoricas con baja cardinalidad\n",
        "categorical_cols = [cname for cname in df_train.columns if\n",
        "                    df_train[cname].nunique() < 14 and \n",
        "                    df_train[cname].dtype == \"object\"]\n",
        "print(categorical_cols)"
      ],
      "execution_count": null,
      "outputs": [
        {
          "output_type": "stream",
          "name": "stdout",
          "text": [
            "['key', 'mode']\n"
          ]
        }
      ]
    },
    {
      "cell_type": "markdown",
      "metadata": {
        "id": "poCNhlTChmjj"
      },
      "source": [
        "Quedan descartadas las variables categoricas: \n",
        "\n",
        "*   Time_signature por los motivos comentados anteriormente\n",
        "*   track_id: no hay ninguna razon para utilizarla\n",
        "*   el nombre del artista: son demasiadas variables de momento las sacamos pero es cierto que es un feature interesente \n",
        "*   track_name: todos sus valores son distintos \n",
        "\n",
        "\n",
        "\n",
        "\n",
        "\n"
      ]
    },
    {
      "cell_type": "code",
      "metadata": {
        "colab": {
          "base_uri": "https://localhost:8080/"
        },
        "id": "AQ4BfBobeR_6",
        "outputId": "f2a55212-1fee-4a6c-8b09-9485dc01ee1f"
      },
      "source": [
        "list_of_modes = df_train['mode'].unique()\n",
        "print(list_of_modes)"
      ],
      "execution_count": null,
      "outputs": [
        {
          "output_type": "stream",
          "name": "stdout",
          "text": [
            "['Major' 'Minor']\n"
          ]
        }
      ]
    },
    {
      "cell_type": "code",
      "metadata": {
        "colab": {
          "base_uri": "https://localhost:8080/"
        },
        "id": "3YaFNClZWVad",
        "outputId": "5a9acf24-51ae-43fe-a167-69211698b86e"
      },
      "source": [
        "list_of_keys = df_train['key'].unique()\n",
        "print(list_of_keys)\n"
      ],
      "execution_count": null,
      "outputs": [
        {
          "output_type": "stream",
          "name": "stdout",
          "text": [
            "['B' 'A#' 'C#' 'C' 'F#' 'E' 'A' 'D' 'G' 'F' 'G#' 'D#']\n"
          ]
        }
      ]
    },
    {
      "cell_type": "markdown",
      "metadata": {
        "id": "PoEJIv4hqDe1"
      },
      "source": [
        "# Removiendo datos de columnas faltantes, separacion en entrenamiento y validacion"
      ]
    },
    {
      "cell_type": "code",
      "metadata": {
        "id": "7o6tPneUaeji"
      },
      "source": [
        "# Remove rows with missing target, separate target from predictors\n",
        "\n",
        "X = df_train.drop(columns=['genre'])\n",
        "y = df_train['genre']\n"
      ],
      "execution_count": null,
      "outputs": []
    },
    {
      "cell_type": "code",
      "metadata": {
        "id": "LIxxgMn0sIr7"
      },
      "source": [
        ""
      ],
      "execution_count": null,
      "outputs": []
    },
    {
      "cell_type": "code",
      "metadata": {
        "id": "9O44HK6TVf_R"
      },
      "source": [
        "from sklearn.model_selection import train_test_split\n",
        "X_train_full, X_valid_full, y_train, y_valid = train_test_split(df_train, y, \n",
        "                                                                train_size=0.8, test_size=0.2,\n",
        "                                                                random_state=0)"
      ],
      "execution_count": null,
      "outputs": []
    },
    {
      "cell_type": "code",
      "metadata": {
        "colab": {
          "base_uri": "https://localhost:8080/"
        },
        "id": "iAiydVuZu427",
        "outputId": "6733624d-8331-472c-b765-254925ce72bf"
      },
      "source": [
        "y_train.value_counts().sort_index()"
      ],
      "execution_count": null,
      "outputs": [
        {
          "output_type": "execute_result",
          "data": {
            "text/plain": [
              "A Capella             75\n",
              "Alternative         5871\n",
              "Anime               5734\n",
              "Blues               5733\n",
              "Children's Music    3459\n",
              "Children’s Music    6086\n",
              "Classical           5914\n",
              "Country             5447\n",
              "Dance               5549\n",
              "Electronic          5993\n",
              "Folk                5899\n",
              "Hip-Hop             5917\n",
              "Indie               6113\n",
              "Jazz                6098\n",
              "Movie               5012\n",
              "Opera               5252\n",
              "Pop                 6061\n",
              "R&B                 5807\n",
              "Rap                 5845\n",
              "Reggae              5611\n",
              "Reggaeton           5716\n",
              "Rock                5971\n",
              "Ska                 5702\n",
              "Soul                5853\n",
              "Soundtrack          6231\n",
              "World               5778\n",
              "Name: genre, dtype: int64"
            ]
          },
          "metadata": {},
          "execution_count": 21
        }
      ]
    },
    {
      "cell_type": "code",
      "metadata": {
        "colab": {
          "base_uri": "https://localhost:8080/"
        },
        "id": "Zif4X2myu_Je",
        "outputId": "12901c45-12e3-4095-e050-e704422c3f92"
      },
      "source": [
        "y_valid.value_counts().sort_index()"
      ],
      "execution_count": null,
      "outputs": [
        {
          "output_type": "execute_result",
          "data": {
            "text/plain": [
              "A Capella             21\n",
              "Alternative         1471\n",
              "Anime               1397\n",
              "Blues               1454\n",
              "Children's Music     839\n",
              "Children’s Music    1468\n",
              "Classical           1481\n",
              "Country             1414\n",
              "Dance               1401\n",
              "Electronic          1507\n",
              "Folk                1507\n",
              "Hip-Hop             1505\n",
              "Indie               1490\n",
              "Jazz                1536\n",
              "Movie               1249\n",
              "Opera               1360\n",
              "Pop                 1471\n",
              "R&B                 1435\n",
              "Rap                 1522\n",
              "Reggae              1408\n",
              "Reggaeton           1423\n",
              "Rock                1484\n",
              "Ska                 1452\n",
              "Soul                1427\n",
              "Soundtrack          1527\n",
              "World               1433\n",
              "Name: genre, dtype: int64"
            ]
          },
          "metadata": {},
          "execution_count": 22
        }
      ]
    },
    {
      "cell_type": "code",
      "metadata": {
        "colab": {
          "base_uri": "https://localhost:8080/"
        },
        "id": "KYwi6Pgbdpxl",
        "outputId": "6443a902-8738-45de-e908-bcc5a6185c15"
      },
      "source": [
        "\n",
        "# Select numerical columns\n",
        "numerical_cols = [cname for cname in X_train_full.columns if \n",
        "                X_train_full[cname].dtype in ['int64', 'float64']]\n",
        "\n",
        "print(numerical_cols)"
      ],
      "execution_count": null,
      "outputs": [
        {
          "output_type": "stream",
          "name": "stdout",
          "text": [
            "['popularity', 'acousticness', 'danceability', 'duration_ms', 'energy', 'instrumentalness', 'liveness', 'loudness', 'speechiness', 'tempo', 'valence']\n"
          ]
        }
      ]
    },
    {
      "cell_type": "code",
      "metadata": {
        "id": "Dqs9VYZzfVyp"
      },
      "source": [
        "#Seleccion de columnas\n",
        "my_cols = categorical_cols + numerical_cols\n",
        "X_train = X_train_full[my_cols].copy()\n",
        "X_valid = X_valid_full[my_cols].copy()\n"
      ],
      "execution_count": null,
      "outputs": []
    },
    {
      "cell_type": "markdown",
      "metadata": {
        "id": "YA7H7dj-qPJj"
      },
      "source": [
        "# Un poco de ingenieria de datos"
      ]
    },
    {
      "cell_type": "code",
      "metadata": {
        "id": "UUausLOOgyys"
      },
      "source": [
        "from sklearn.preprocessing import OrdinalEncoder\n",
        "\n",
        "\n",
        "label_X_train = X_train.copy()\n",
        "label_X_valid = X_valid.copy()\n",
        "\n",
        "ordinal_encoder = OrdinalEncoder()\n",
        "label_X_train[categorical_cols] = ordinal_encoder.fit_transform(X_train[categorical_cols])\n",
        "label_X_valid[categorical_cols] = ordinal_encoder.transform(X_valid[categorical_cols])\n",
        "\n",
        "\n"
      ],
      "execution_count": null,
      "outputs": []
    },
    {
      "cell_type": "markdown",
      "metadata": {
        "id": "Nwv_79ISqTi2"
      },
      "source": [
        "# Probando modelos"
      ]
    },
    {
      "cell_type": "code",
      "metadata": {
        "colab": {
          "base_uri": "https://localhost:8080/"
        },
        "id": "po37coMsh2-R",
        "outputId": "64109c50-c798-4f28-ce7a-7df68f8caf79"
      },
      "source": [
        "from sklearn.linear_model import LogisticRegression\n",
        "\n",
        "model = LogisticRegression(multi_class = 'multinomial', solver='lbfgs', max_iter=200)\n",
        "\n",
        "model.fit(label_X_train, y_train)"
      ],
      "execution_count": null,
      "outputs": [
        {
          "output_type": "stream",
          "name": "stderr",
          "text": [
            "/usr/local/lib/python3.7/dist-packages/sklearn/linear_model/_logistic.py:940: ConvergenceWarning: lbfgs failed to converge (status=1):\n",
            "STOP: TOTAL NO. of ITERATIONS REACHED LIMIT.\n",
            "\n",
            "Increase the number of iterations (max_iter) or scale the data as shown in:\n",
            "    https://scikit-learn.org/stable/modules/preprocessing.html\n",
            "Please also refer to the documentation for alternative solver options:\n",
            "    https://scikit-learn.org/stable/modules/linear_model.html#logistic-regression\n",
            "  extra_warning_msg=_LOGISTIC_SOLVER_CONVERGENCE_MSG)\n"
          ]
        },
        {
          "output_type": "execute_result",
          "data": {
            "text/plain": [
              "LogisticRegression(C=1.0, class_weight=None, dual=False, fit_intercept=True,\n",
              "                   intercept_scaling=1, l1_ratio=None, max_iter=200,\n",
              "                   multi_class='multinomial', n_jobs=None, penalty='l2',\n",
              "                   random_state=None, solver='lbfgs', tol=0.0001, verbose=0,\n",
              "                   warm_start=False)"
            ]
          },
          "metadata": {},
          "execution_count": 26
        }
      ]
    },
    {
      "cell_type": "code",
      "metadata": {
        "id": "62zUeddGhUNW"
      },
      "source": [
        "y_pred = model.predict(label_X_valid)"
      ],
      "execution_count": null,
      "outputs": []
    },
    {
      "cell_type": "code",
      "metadata": {
        "id": "Udj_R7Wka1Xz",
        "colab": {
          "base_uri": "https://localhost:8080/"
        },
        "outputId": "f1feb8c7-2f94-4161-ecf9-d36a811b867d"
      },
      "source": [
        "from sklearn.metrics import classification_report\n",
        "print(classification_report(y_valid, y_pred))"
      ],
      "execution_count": null,
      "outputs": [
        {
          "output_type": "stream",
          "name": "stderr",
          "text": [
            "/usr/local/lib/python3.7/dist-packages/sklearn/metrics/_classification.py:1272: UndefinedMetricWarning: Precision and F-score are ill-defined and being set to 0.0 in labels with no predicted samples. Use `zero_division` parameter to control this behavior.\n",
            "  _warn_prf(average, modifier, msg_start, len(result))\n"
          ]
        },
        {
          "output_type": "stream",
          "name": "stdout",
          "text": [
            "                  precision    recall  f1-score   support\n",
            "\n",
            "       A Capella       0.00      0.00      0.00        21\n",
            "     Alternative       0.10      0.07      0.08      1471\n",
            "           Anime       0.31      0.31      0.31      1397\n",
            "           Blues       0.00      0.00      0.00      1454\n",
            "Children's Music       0.21      0.45      0.29       839\n",
            "Children’s Music       0.09      0.10      0.10      1468\n",
            "       Classical       0.33      0.33      0.33      1481\n",
            "         Country       0.08      0.13      0.10      1414\n",
            "           Dance       0.14      0.00      0.00      1401\n",
            "      Electronic       0.12      0.17      0.14      1507\n",
            "            Folk       0.12      0.07      0.09      1507\n",
            "         Hip-Hop       0.10      0.07      0.08      1505\n",
            "           Indie       0.10      0.02      0.04      1490\n",
            "            Jazz       0.11      0.18      0.14      1536\n",
            "           Movie       0.47      0.10      0.17      1249\n",
            "           Opera       0.33      0.57      0.42      1360\n",
            "             Pop       0.17      0.62      0.27      1471\n",
            "             R&B       0.00      0.00      0.00      1435\n",
            "             Rap       0.11      0.07      0.09      1522\n",
            "          Reggae       0.00      0.00      0.00      1408\n",
            "       Reggaeton       0.00      0.00      0.00      1423\n",
            "            Rock       0.10      0.19      0.13      1484\n",
            "             Ska       0.14      0.23      0.18      1452\n",
            "            Soul       0.08      0.02      0.04      1427\n",
            "      Soundtrack       0.31      0.49      0.38      1527\n",
            "           World       0.18      0.29      0.22      1433\n",
            "\n",
            "        accuracy                           0.17     35682\n",
            "       macro avg       0.14      0.17      0.14     35682\n",
            "    weighted avg       0.14      0.17      0.14     35682\n",
            "\n"
          ]
        }
      ]
    },
    {
      "cell_type": "code",
      "metadata": {
        "colab": {
          "base_uri": "https://localhost:8080/"
        },
        "id": "8uiimEzhQhrE",
        "outputId": "bcb2bd3d-688a-4420-83b1-904ff75456bd"
      },
      "source": [
        "from sklearn.ensemble import RandomForestClassifier\n",
        "\n",
        "rfc = RandomForestClassifier(n_estimators=30, random_state=42)\n",
        "rfc.fit(label_X_train, y_train)"
      ],
      "execution_count": null,
      "outputs": [
        {
          "output_type": "execute_result",
          "data": {
            "text/plain": [
              "RandomForestClassifier(bootstrap=True, ccp_alpha=0.0, class_weight=None,\n",
              "                       criterion='gini', max_depth=None, max_features='auto',\n",
              "                       max_leaf_nodes=None, max_samples=None,\n",
              "                       min_impurity_decrease=0.0, min_impurity_split=None,\n",
              "                       min_samples_leaf=1, min_samples_split=2,\n",
              "                       min_weight_fraction_leaf=0.0, n_estimators=30,\n",
              "                       n_jobs=None, oob_score=False, random_state=42, verbose=0,\n",
              "                       warm_start=False)"
            ]
          },
          "metadata": {},
          "execution_count": 29
        }
      ]
    },
    {
      "cell_type": "code",
      "metadata": {
        "colab": {
          "base_uri": "https://localhost:8080/"
        },
        "id": "Zk1I58QoPVd8",
        "outputId": "8883343a-d0f0-45ea-e94f-6c95d878e6c3"
      },
      "source": [
        "y_rfc = rfc.predict(label_X_valid)\n",
        "print(classification_report(y_valid, y_rfc))\n"
      ],
      "execution_count": null,
      "outputs": [
        {
          "output_type": "stream",
          "name": "stdout",
          "text": [
            "                  precision    recall  f1-score   support\n",
            "\n",
            "       A Capella       1.00      0.14      0.25        21\n",
            "     Alternative       0.15      0.13      0.14      1471\n",
            "           Anime       0.59      0.56      0.58      1397\n",
            "           Blues       0.36      0.37      0.37      1454\n",
            "Children's Music       0.72      0.74      0.73       839\n",
            "Children’s Music       0.04      0.05      0.05      1468\n",
            "       Classical       0.63      0.62      0.62      1481\n",
            "         Country       0.37      0.38      0.38      1414\n",
            "           Dance       0.12      0.10      0.11      1401\n",
            "      Electronic       0.51      0.52      0.52      1507\n",
            "            Folk       0.19      0.19      0.19      1507\n",
            "         Hip-Hop       0.15      0.17      0.16      1505\n",
            "           Indie       0.06      0.06      0.06      1490\n",
            "            Jazz       0.36      0.35      0.35      1536\n",
            "           Movie       0.58      0.52      0.55      1249\n",
            "           Opera       0.77      0.85      0.81      1360\n",
            "             Pop       0.14      0.16      0.15      1471\n",
            "             R&B       0.09      0.09      0.09      1435\n",
            "             Rap       0.08      0.08      0.08      1522\n",
            "          Reggae       0.40      0.36      0.38      1408\n",
            "       Reggaeton       0.53      0.55      0.54      1423\n",
            "            Rock       0.12      0.13      0.12      1484\n",
            "             Ska       0.60      0.55      0.57      1452\n",
            "            Soul       0.12      0.11      0.12      1427\n",
            "      Soundtrack       0.63      0.73      0.68      1527\n",
            "           World       0.48      0.40      0.44      1433\n",
            "\n",
            "        accuracy                           0.34     35682\n",
            "       macro avg       0.38      0.34      0.35     35682\n",
            "    weighted avg       0.34      0.34      0.34     35682\n",
            "\n"
          ]
        }
      ]
    },
    {
      "cell_type": "markdown",
      "metadata": {
        "id": "kSqfDPABO5eR"
      },
      "source": [
        "## GridSerchCv"
      ]
    },
    {
      "cell_type": "code",
      "metadata": {
        "id": "57i5jGJ_O9I6"
      },
      "source": [
        "# Numero de arboles\n",
        "n_estimators = [int(x) for x in np.linspace(start = 10, stop = 80, num = 10)]\n",
        "# Numero de features considerado al dividir\n",
        "max_features = ['auto', 'sqrt']\n",
        "# numero maximo de niveles\n",
        "max_depth = [2,4]\n",
        "# Numero minimo de niveles por nodo\n",
        "min_samples_split = [2, 5]\n",
        "# Numero minimo de niveles por hoja\n",
        "min_samples_leaf = [1, 2]\n",
        "# metodo de seleccion por arbol \n",
        "bootstrap = [True, False]"
      ],
      "execution_count": null,
      "outputs": []
    },
    {
      "cell_type": "code",
      "metadata": {
        "id": "YfjcG6JpPdtI"
      },
      "source": [
        "# Grilla\n",
        "param_grid = {'n_estimators': n_estimators,\n",
        "               'max_features': max_features,\n",
        "               'max_depth': max_depth,\n",
        "               'min_samples_split': min_samples_split,\n",
        "               'min_samples_leaf': min_samples_leaf,\n",
        "               'bootstrap': bootstrap}\n"
      ],
      "execution_count": null,
      "outputs": []
    },
    {
      "cell_type": "code",
      "metadata": {
        "id": "1FSHvEXfPkd_"
      },
      "source": [
        "from sklearn.model_selection import GridSearchCV\n",
        "rfc_Grid = GridSearchCV(estimator = rfc, param_grid = param_grid, cv = 3, verbose=2, n_jobs = 4)"
      ],
      "execution_count": null,
      "outputs": []
    },
    {
      "cell_type": "code",
      "metadata": {
        "id": "GJRgdz_2Ppvs",
        "colab": {
          "base_uri": "https://localhost:8080/"
        },
        "outputId": "6c553047-01e3-4a17-aea9-6e60ad5408aa"
      },
      "source": [
        "rfc_Grid.fit(label_X_train, y_train)\n"
      ],
      "execution_count": null,
      "outputs": [
        {
          "output_type": "stream",
          "name": "stdout",
          "text": [
            "Fitting 3 folds for each of 320 candidates, totalling 960 fits\n"
          ]
        },
        {
          "output_type": "stream",
          "name": "stderr",
          "text": [
            "[Parallel(n_jobs=4)]: Using backend LokyBackend with 4 concurrent workers.\n",
            "[Parallel(n_jobs=4)]: Done  33 tasks      | elapsed:  1.1min\n",
            "[Parallel(n_jobs=4)]: Done 154 tasks      | elapsed:  5.2min\n",
            "[Parallel(n_jobs=4)]: Done 357 tasks      | elapsed: 14.4min\n",
            "[Parallel(n_jobs=4)]: Done 640 tasks      | elapsed: 27.2min\n",
            "[Parallel(n_jobs=4)]: Done 960 out of 960 | elapsed: 47.3min finished\n"
          ]
        },
        {
          "output_type": "execute_result",
          "data": {
            "text/plain": [
              "GridSearchCV(cv=3, error_score=nan,\n",
              "             estimator=RandomForestClassifier(bootstrap=True, ccp_alpha=0.0,\n",
              "                                              class_weight=None,\n",
              "                                              criterion='gini', max_depth=None,\n",
              "                                              max_features='auto',\n",
              "                                              max_leaf_nodes=None,\n",
              "                                              max_samples=None,\n",
              "                                              min_impurity_decrease=0.0,\n",
              "                                              min_impurity_split=None,\n",
              "                                              min_samples_leaf=1,\n",
              "                                              min_samples_split=2,\n",
              "                                              min_weight_fraction_leaf=0.0,\n",
              "                                              n_estimators=30, n_jobs=None,\n",
              "                                              oob_score=False, random_state=42,\n",
              "                                              verbose=0, warm_start=False),\n",
              "             iid='deprecated', n_jobs=4,\n",
              "             param_grid={'bootstrap': [True, False], 'max_depth': [2, 4],\n",
              "                         'max_features': ['auto', 'sqrt'],\n",
              "                         'min_samples_leaf': [1, 2],\n",
              "                         'min_samples_split': [2, 5],\n",
              "                         'n_estimators': [10, 17, 25, 33, 41, 48, 56, 64, 72,\n",
              "                                          80]},\n",
              "             pre_dispatch='2*n_jobs', refit=True, return_train_score=False,\n",
              "             scoring=None, verbose=2)"
            ]
          },
          "metadata": {},
          "execution_count": 39
        }
      ]
    },
    {
      "cell_type": "code",
      "metadata": {
        "id": "Qu7Jnnxhrhnj",
        "colab": {
          "base_uri": "https://localhost:8080/",
          "height": 158
        },
        "outputId": "ef5c5efd-9e99-424f-d49f-61cdcb6eb241"
      },
      "source": [
        ""
      ],
      "execution_count": null,
      "outputs": [
        {
          "output_type": "error",
          "ename": "NameError",
          "evalue": "ignored",
          "traceback": [
            "\u001b[0;31m---------------------------------------------------------------------------\u001b[0m",
            "\u001b[0;31mNameError\u001b[0m                                 Traceback (most recent call last)",
            "\u001b[0;32m<ipython-input-1-64ee95e05729>\u001b[0m in \u001b[0;36m<module>\u001b[0;34m()\u001b[0m\n\u001b[0;32m----> 1\u001b[0;31m \u001b[0mrfc_Grid\u001b[0m\u001b[0;34m\u001b[0m\u001b[0;34m\u001b[0m\u001b[0m\n\u001b[0m",
            "\u001b[0;31mNameError\u001b[0m: name 'rfc_Grid' is not defined"
          ]
        }
      ]
    },
    {
      "cell_type": "code",
      "metadata": {
        "id": "ce0nRMDPtRIg"
      },
      "source": [
        ""
      ],
      "execution_count": null,
      "outputs": []
    }
  ]
}