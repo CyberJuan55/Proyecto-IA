{
  "nbformat": 4,
  "nbformat_minor": 0,
  "metadata": {
    "colab": {
      "name": " Proyecto AA prueba RandomForest LogistalRegression ",
      "provenance": [],
      "collapsed_sections": []
    },
    "kernelspec": {
      "display_name": "Python 3",
      "name": "python3"
    },
    "language_info": {
      "name": "python"
    }
  },
  "cells": [
    {
      "cell_type": "markdown",
      "metadata": {
        "id": "MvgWS0p-pjfS"
      },
      "source": [
        "# Preparativos"
      ]
    },
    {
      "cell_type": "code",
      "metadata": {
        "colab": {
          "base_uri": "https://localhost:8080/"
        },
        "id": "qPUnram_AUlB",
        "outputId": "9e33b851-3c5d-4a94-ce8c-25908bfd7d77"
      },
      "source": [
        "! pip install kaggle\n",
        "! mkdir ~/.kaggle\n",
        "! cp kaggle.json ~/.kaggle/\n",
        "! chmod 600 ~/.kaggle/kaggle.json\n",
        "! kaggle datasets download zaheenhamidani/ultimate-spotify-tracks-db"
      ],
      "execution_count": 53,
      "outputs": [
        {
          "output_type": "stream",
          "name": "stdout",
          "text": [
            "Requirement already satisfied: kaggle in /usr/local/lib/python3.7/dist-packages (1.5.12)\n",
            "Requirement already satisfied: python-slugify in /usr/local/lib/python3.7/dist-packages (from kaggle) (5.0.2)\n",
            "Requirement already satisfied: urllib3 in /usr/local/lib/python3.7/dist-packages (from kaggle) (1.24.3)\n",
            "Requirement already satisfied: certifi in /usr/local/lib/python3.7/dist-packages (from kaggle) (2021.5.30)\n",
            "Requirement already satisfied: tqdm in /usr/local/lib/python3.7/dist-packages (from kaggle) (4.62.3)\n",
            "Requirement already satisfied: six>=1.10 in /usr/local/lib/python3.7/dist-packages (from kaggle) (1.15.0)\n",
            "Requirement already satisfied: python-dateutil in /usr/local/lib/python3.7/dist-packages (from kaggle) (2.8.2)\n",
            "Requirement already satisfied: requests in /usr/local/lib/python3.7/dist-packages (from kaggle) (2.23.0)\n",
            "Requirement already satisfied: text-unidecode>=1.3 in /usr/local/lib/python3.7/dist-packages (from python-slugify->kaggle) (1.3)\n",
            "Requirement already satisfied: chardet<4,>=3.0.2 in /usr/local/lib/python3.7/dist-packages (from requests->kaggle) (3.0.4)\n",
            "Requirement already satisfied: idna<3,>=2.5 in /usr/local/lib/python3.7/dist-packages (from requests->kaggle) (2.10)\n",
            "mkdir: cannot create directory ‘/root/.kaggle’: File exists\n",
            "cp: cannot stat 'kaggle.json': No such file or directory\n",
            "chmod: cannot access '/root/.kaggle/kaggle.json': No such file or directory\n",
            "Traceback (most recent call last):\n",
            "  File \"/usr/local/bin/kaggle\", line 5, in <module>\n",
            "    from kaggle.cli import main\n",
            "  File \"/usr/local/lib/python2.7/dist-packages/kaggle/__init__.py\", line 23, in <module>\n",
            "    api.authenticate()\n",
            "  File \"/usr/local/lib/python2.7/dist-packages/kaggle/api/kaggle_api_extended.py\", line 146, in authenticate\n",
            "    self.config_file, self.config_dir))\n",
            "IOError: Could not find kaggle.json. Make sure it's located in /root/.kaggle. Or use the environment method.\n"
          ]
        }
      ]
    },
    {
      "cell_type": "code",
      "metadata": {
        "id": "GeaBo8GXBlVL"
      },
      "source": [
        "import pandas as pd \n",
        "import seaborn as sns\n",
        "import matplotlib.pyplot as plt\n",
        "import numpy as np\n",
        "\n",
        "urlTrain  = 'https://raw.githubusercontent.com/CyberJuan55/Proyecto-IA/master/DataSet/SpotifyFeatures_train.csv'\n",
        "urlFull = 'https://raw.githubusercontent.com/CyberJuan55/Proyecto-IA/master/DataSet/SpotifyFeatures.csv'\n",
        "# el train que nos dieron los profes\n",
        "#df_train_original= pd.read_csv('/content/SpotifyFeatures_train.csv')\n",
        "df_train_original = pd.read_csv(urlTrain)\n",
        "df_train = df_train_original.copy()\n",
        "# el dataset nuestro\n",
        "df_full_original = pd.read_csv(urlFull)\n",
        "df_full = df_full_original.copy()\n"
      ],
      "execution_count": 54,
      "outputs": []
    },
    {
      "cell_type": "markdown",
      "metadata": {
        "id": "jxZcTtP-pqcw"
      },
      "source": [
        "# Exploracion de datos"
      ]
    },
    {
      "cell_type": "code",
      "metadata": {
        "colab": {
          "base_uri": "https://localhost:8080/",
          "height": 308
        },
        "id": "z1s0XQMMiEFt",
        "outputId": "46935404-d076-4abe-c647-a6e1ba75b1a1"
      },
      "source": [
        "df_train.head()"
      ],
      "execution_count": 55,
      "outputs": [
        {
          "output_type": "execute_result",
          "data": {
            "text/html": [
              "<div>\n",
              "<style scoped>\n",
              "    .dataframe tbody tr th:only-of-type {\n",
              "        vertical-align: middle;\n",
              "    }\n",
              "\n",
              "    .dataframe tbody tr th {\n",
              "        vertical-align: top;\n",
              "    }\n",
              "\n",
              "    .dataframe thead th {\n",
              "        text-align: right;\n",
              "    }\n",
              "</style>\n",
              "<table border=\"1\" class=\"dataframe\">\n",
              "  <thead>\n",
              "    <tr style=\"text-align: right;\">\n",
              "      <th></th>\n",
              "      <th>Unnamed: 0</th>\n",
              "      <th>genre</th>\n",
              "      <th>artist_name</th>\n",
              "      <th>track_name</th>\n",
              "      <th>track_id</th>\n",
              "      <th>popularity</th>\n",
              "      <th>acousticness</th>\n",
              "      <th>danceability</th>\n",
              "      <th>duration_ms</th>\n",
              "      <th>energy</th>\n",
              "      <th>instrumentalness</th>\n",
              "      <th>key</th>\n",
              "      <th>liveness</th>\n",
              "      <th>loudness</th>\n",
              "      <th>mode</th>\n",
              "      <th>speechiness</th>\n",
              "      <th>tempo</th>\n",
              "      <th>time_signature</th>\n",
              "      <th>valence</th>\n",
              "    </tr>\n",
              "  </thead>\n",
              "  <tbody>\n",
              "    <tr>\n",
              "      <th>0</th>\n",
              "      <td>107360</td>\n",
              "      <td>Opera</td>\n",
              "      <td>Richard Wagner</td>\n",
              "      <td>Gotterdammerung (Twilight of the Gods): Prolog...</td>\n",
              "      <td>32pnRCr5u3nzO55MgoEJwV</td>\n",
              "      <td>6</td>\n",
              "      <td>0.89900</td>\n",
              "      <td>0.147</td>\n",
              "      <td>131787</td>\n",
              "      <td>0.016</td>\n",
              "      <td>0.947000</td>\n",
              "      <td>B</td>\n",
              "      <td>0.0889</td>\n",
              "      <td>-24.317</td>\n",
              "      <td>Major</td>\n",
              "      <td>0.0380</td>\n",
              "      <td>137.591</td>\n",
              "      <td>4/4</td>\n",
              "      <td>0.0292</td>\n",
              "    </tr>\n",
              "    <tr>\n",
              "      <th>1</th>\n",
              "      <td>165017</td>\n",
              "      <td>Reggaeton</td>\n",
              "      <td>Ronald El Killa</td>\n",
              "      <td>Esta Pena</td>\n",
              "      <td>3uMQ7q5oU0VgYl9SyCF2MR</td>\n",
              "      <td>27</td>\n",
              "      <td>0.00613</td>\n",
              "      <td>0.857</td>\n",
              "      <td>255134</td>\n",
              "      <td>0.599</td>\n",
              "      <td>0.000085</td>\n",
              "      <td>B</td>\n",
              "      <td>0.2090</td>\n",
              "      <td>-5.677</td>\n",
              "      <td>Major</td>\n",
              "      <td>0.0951</td>\n",
              "      <td>96.022</td>\n",
              "      <td>4/4</td>\n",
              "      <td>0.5860</td>\n",
              "    </tr>\n",
              "    <tr>\n",
              "      <th>2</th>\n",
              "      <td>141044</td>\n",
              "      <td>Indie</td>\n",
              "      <td>LP</td>\n",
              "      <td>Recovery</td>\n",
              "      <td>1a5P7IvLUhRhLnnbkev3PI</td>\n",
              "      <td>59</td>\n",
              "      <td>0.27400</td>\n",
              "      <td>0.518</td>\n",
              "      <td>234905</td>\n",
              "      <td>0.545</td>\n",
              "      <td>0.000023</td>\n",
              "      <td>A#</td>\n",
              "      <td>0.1830</td>\n",
              "      <td>-7.893</td>\n",
              "      <td>Major</td>\n",
              "      <td>0.0385</td>\n",
              "      <td>75.060</td>\n",
              "      <td>4/4</td>\n",
              "      <td>0.1620</td>\n",
              "    </tr>\n",
              "    <tr>\n",
              "      <th>3</th>\n",
              "      <td>141709</td>\n",
              "      <td>Indie</td>\n",
              "      <td>The National</td>\n",
              "      <td>Carin at the Liquor Store</td>\n",
              "      <td>4maI5FwVIzjrErduPjjZLO</td>\n",
              "      <td>53</td>\n",
              "      <td>0.59400</td>\n",
              "      <td>0.540</td>\n",
              "      <td>213733</td>\n",
              "      <td>0.615</td>\n",
              "      <td>0.803000</td>\n",
              "      <td>A#</td>\n",
              "      <td>0.1200</td>\n",
              "      <td>-9.264</td>\n",
              "      <td>Major</td>\n",
              "      <td>0.0340</td>\n",
              "      <td>93.170</td>\n",
              "      <td>3/4</td>\n",
              "      <td>0.2390</td>\n",
              "    </tr>\n",
              "    <tr>\n",
              "      <th>4</th>\n",
              "      <td>106321</td>\n",
              "      <td>Opera</td>\n",
              "      <td>Renata Tebaldi</td>\n",
              "      <td>Giordano: Andrea Chenier: Come un bel di di ma...</td>\n",
              "      <td>5VEVnqQu6cFewcbWfbkUeE</td>\n",
              "      <td>8</td>\n",
              "      <td>0.95500</td>\n",
              "      <td>0.363</td>\n",
              "      <td>170240</td>\n",
              "      <td>0.196</td>\n",
              "      <td>0.000115</td>\n",
              "      <td>C#</td>\n",
              "      <td>0.6840</td>\n",
              "      <td>-15.675</td>\n",
              "      <td>Minor</td>\n",
              "      <td>0.0452</td>\n",
              "      <td>63.186</td>\n",
              "      <td>4/4</td>\n",
              "      <td>0.2510</td>\n",
              "    </tr>\n",
              "  </tbody>\n",
              "</table>\n",
              "</div>"
            ],
            "text/plain": [
              "   Unnamed: 0      genre      artist_name  ...    tempo time_signature  valence\n",
              "0      107360      Opera   Richard Wagner  ...  137.591            4/4   0.0292\n",
              "1      165017  Reggaeton  Ronald El Killa  ...   96.022            4/4   0.5860\n",
              "2      141044      Indie               LP  ...   75.060            4/4   0.1620\n",
              "3      141709      Indie     The National  ...   93.170            3/4   0.2390\n",
              "4      106321      Opera   Renata Tebaldi  ...   63.186            4/4   0.2510\n",
              "\n",
              "[5 rows x 19 columns]"
            ]
          },
          "metadata": {},
          "execution_count": 55
        }
      ]
    },
    {
      "cell_type": "code",
      "metadata": {
        "id": "22XxPaBoh4Hr"
      },
      "source": [
        "#df_full.head()"
      ],
      "execution_count": 56,
      "outputs": []
    },
    {
      "cell_type": "code",
      "metadata": {
        "colab": {
          "base_uri": "https://localhost:8080/"
        },
        "id": "lsVz6HhsM--y",
        "outputId": "47b1ffd8-348b-4d7e-fdbb-a184742775c7"
      },
      "source": [
        "df_train.columns"
      ],
      "execution_count": 57,
      "outputs": [
        {
          "output_type": "execute_result",
          "data": {
            "text/plain": [
              "Index(['Unnamed: 0', 'genre', 'artist_name', 'track_name', 'track_id',\n",
              "       'popularity', 'acousticness', 'danceability', 'duration_ms', 'energy',\n",
              "       'instrumentalness', 'key', 'liveness', 'loudness', 'mode',\n",
              "       'speechiness', 'tempo', 'time_signature', 'valence'],\n",
              "      dtype='object')"
            ]
          },
          "metadata": {},
          "execution_count": 57
        }
      ]
    },
    {
      "cell_type": "code",
      "metadata": {
        "colab": {
          "base_uri": "https://localhost:8080/"
        },
        "id": "AGjNp6rYM6pj",
        "outputId": "e9b90d8f-dcdc-40d7-88ce-fe3036de46ca"
      },
      "source": [
        "df_train.dtypes"
      ],
      "execution_count": 58,
      "outputs": [
        {
          "output_type": "execute_result",
          "data": {
            "text/plain": [
              "Unnamed: 0            int64\n",
              "genre                object\n",
              "artist_name          object\n",
              "track_name           object\n",
              "track_id             object\n",
              "popularity            int64\n",
              "acousticness        float64\n",
              "danceability        float64\n",
              "duration_ms           int64\n",
              "energy              float64\n",
              "instrumentalness    float64\n",
              "key                  object\n",
              "liveness            float64\n",
              "loudness            float64\n",
              "mode                 object\n",
              "speechiness         float64\n",
              "tempo               float64\n",
              "time_signature       object\n",
              "valence             float64\n",
              "dtype: object"
            ]
          },
          "metadata": {},
          "execution_count": 58
        }
      ]
    },
    {
      "cell_type": "markdown",
      "metadata": {
        "id": "ADXGnJdhpz4F"
      },
      "source": [
        "# Limpieza de datos"
      ]
    },
    {
      "cell_type": "code",
      "metadata": {
        "id": "ZFDehZupSCzP"
      },
      "source": [
        "df_train = df_train.drop(['Unnamed: 0'], axis=1)\n"
      ],
      "execution_count": 59,
      "outputs": []
    },
    {
      "cell_type": "code",
      "metadata": {
        "id": "se8x3ky1w8Bm"
      },
      "source": [
        "\n",
        "indexNames = df_train[ df_train['genre'] == 'Comedy' ].index\n",
        "df_train.drop(indexNames , inplace=True)"
      ],
      "execution_count": 60,
      "outputs": []
    },
    {
      "cell_type": "code",
      "metadata": {
        "colab": {
          "base_uri": "https://localhost:8080/"
        },
        "id": "YWQWUPdoPaA1",
        "outputId": "51638572-39e2-4c3a-bcfc-9b05ce09bf7e"
      },
      "source": [
        "df_train['genre'].value_counts()"
      ],
      "execution_count": 61,
      "outputs": [
        {
          "output_type": "execute_result",
          "data": {
            "text/plain": [
              "Soundtrack          7758\n",
              "Jazz                7634\n",
              "Indie               7603\n",
              "Children’s Music    7554\n",
              "Pop                 7532\n",
              "Electronic          7500\n",
              "Rock                7455\n",
              "Hip-Hop             7422\n",
              "Folk                7406\n",
              "Classical           7395\n",
              "Rap                 7367\n",
              "Alternative         7342\n",
              "Soul                7280\n",
              "R&B                 7242\n",
              "World               7211\n",
              "Blues               7187\n",
              "Ska                 7154\n",
              "Reggaeton           7139\n",
              "Anime               7131\n",
              "Reggae              7019\n",
              "Dance               6950\n",
              "Country             6861\n",
              "Opera               6612\n",
              "Movie               6261\n",
              "Children's Music    4298\n",
              "A Capella             96\n",
              "Name: genre, dtype: int64"
            ]
          },
          "metadata": {},
          "execution_count": 61
        }
      ]
    },
    {
      "cell_type": "markdown",
      "metadata": {
        "id": "n8w7J-PD07Ta"
      },
      "source": [
        "Vemos que la columna Children esta repetida"
      ]
    },
    {
      "cell_type": "code",
      "metadata": {
        "id": "E-OQq9qE3SYq"
      },
      "source": [
        "indexNames = df_train[ df_train['genre'] == \"Children's Music\" ].index\n",
        "df_train.drop(indexNames , inplace=True)"
      ],
      "execution_count": 62,
      "outputs": []
    },
    {
      "cell_type": "markdown",
      "metadata": {
        "id": "wgFd5h5Dz9O6"
      },
      "source": [
        "### Busqueda de datos repetidos"
      ]
    },
    {
      "cell_type": "code",
      "metadata": {
        "id": "xY1_lxjv0FSn",
        "outputId": "1c6fb265-7f75-42ea-8b6b-42235aa98ca3",
        "colab": {
          "base_uri": "https://localhost:8080/"
        }
      },
      "source": [
        "\n",
        "if df_train.duplicated().sum() == 0:\n",
        "  print('no hay datos duplicados')\n",
        "else:\n",
        "  df_train.drop_duplicates\n"
      ],
      "execution_count": 107,
      "outputs": [
        {
          "output_type": "stream",
          "name": "stdout",
          "text": [
            "no hay datos duplicados\n"
          ]
        }
      ]
    },
    {
      "cell_type": "markdown",
      "metadata": {
        "id": "L-ueWlOkz4fG"
      },
      "source": [
        "### Busqueda de datos faltantes"
      ]
    },
    {
      "cell_type": "code",
      "metadata": {
        "colab": {
          "base_uri": "https://localhost:8080/"
        },
        "id": "xgEjMni2FheY",
        "outputId": "6f777899-d663-4f7b-bedc-fe04228202ce"
      },
      "source": [
        "#columnas con datos faltantes\n",
        "cols_with_missing = [col for col in df_train.columns if df_train[col].isnull().any()] \n",
        "faltanDatos = True\n",
        "if len(cols_with_missing)==0:\n",
        "  faltanDatos= False\n",
        "  print('no faltan valores') "
      ],
      "execution_count": 64,
      "outputs": [
        {
          "output_type": "stream",
          "name": "stdout",
          "text": [
            "no faltan valores\n"
          ]
        }
      ]
    },
    {
      "cell_type": "code",
      "metadata": {
        "id": "u6pdllwuFkSP"
      },
      "source": [
        "# saco las filas correspondientes\n",
        "if faltanDatos == True:\n",
        "    print(cols_with_missing)\n",
        "    df_train.dropna(axis=0, inplace=True)\n"
      ],
      "execution_count": 65,
      "outputs": []
    },
    {
      "cell_type": "markdown",
      "metadata": {
        "id": "J2ITX9wj0AZv"
      },
      "source": [
        ""
      ]
    },
    {
      "cell_type": "markdown",
      "metadata": {
        "id": "5g24ZZ2Fp4z3"
      },
      "source": [
        "# Variables Categoricas"
      ]
    },
    {
      "cell_type": "code",
      "metadata": {
        "colab": {
          "base_uri": "https://localhost:8080/"
        },
        "id": "a3Gtfp0WYW1z",
        "outputId": "d4a67482-fda5-4b04-fd98-19ed603ec5da"
      },
      "source": [
        "# Variable categoricas\n",
        "s = (df_train.dtypes == 'object')\n",
        "object_cols = list(s[s].index)\n",
        "print(object_cols)"
      ],
      "execution_count": 66,
      "outputs": [
        {
          "output_type": "stream",
          "name": "stdout",
          "text": [
            "['genre', 'artist_name', 'track_name', 'track_id', 'key', 'mode', 'time_signature']\n"
          ]
        }
      ]
    },
    {
      "cell_type": "code",
      "metadata": {
        "colab": {
          "base_uri": "https://localhost:8080/"
        },
        "id": "QN7ulp0qeaP5",
        "outputId": "f58d2549-c28d-469c-9f95-82b073f46db7"
      },
      "source": [
        "list_of_timeSignature = df_train['time_signature'].unique()\n",
        "print(list_of_timeSignature)"
      ],
      "execution_count": 67,
      "outputs": [
        {
          "output_type": "stream",
          "name": "stdout",
          "text": [
            "['4/4' '3/4' '5/4' '1/4' '0/4']\n"
          ]
        }
      ]
    },
    {
      "cell_type": "code",
      "metadata": {
        "colab": {
          "base_uri": "https://localhost:8080/"
        },
        "id": "um0qDvtk_kxR",
        "outputId": "b386b284-b9fc-4ed9-f657-3a450dd20d67"
      },
      "source": [
        "df_train['time_signature'].value_counts()"
      ],
      "execution_count": 68,
      "outputs": [
        {
          "output_type": "execute_result",
          "data": {
            "text/plain": [
              "4/4    153286\n",
              "3/4     15927\n",
              "5/4      3294\n",
              "1/4      1598\n",
              "0/4         6\n",
              "Name: time_signature, dtype: int64"
            ]
          },
          "metadata": {},
          "execution_count": 68
        }
      ]
    },
    {
      "cell_type": "markdown",
      "metadata": {
        "id": "FXPjOo6k-piY"
      },
      "source": [
        "Decidimos no utilizar Time_signature como feature por varios motivos\n",
        "\n",
        "\n",
        "*   En musica no existe compaces de 1/4 ni de 0/4 entre ambos suman 1656 valores lo que nos parecio un numero considerable\n",
        "*   En una cancion puede haber multiples cambios de compaces, en la musica progresiva es algo muy comun\n",
        "\n",
        "*   La mayoria de la musica se encuentra en 4/4 podemos ver que hay 156851 valores que considerablemente mayor a lo suma de todas las otras categorias esto introduceria un gran sesgo en nuestro modelo \n",
        "\n",
        "\n",
        "\n",
        "\n",
        "\n",
        "\n",
        "\n",
        "\n"
      ]
    },
    {
      "cell_type": "code",
      "metadata": {
        "id": "5KmVO1ZJ-ll5"
      },
      "source": [
        "df_train = df_train.drop(['time_signature'], axis=1)"
      ],
      "execution_count": 69,
      "outputs": []
    },
    {
      "cell_type": "code",
      "metadata": {
        "colab": {
          "base_uri": "https://localhost:8080/"
        },
        "id": "GH_RGyjwUOnM",
        "outputId": "939d3c5d-4e61-4af8-8cef-a62044cbca86"
      },
      "source": [
        "# variables categoricas con baja cardinalidad\n",
        "categorical_cols = [cname for cname in df_train.columns if\n",
        "                    df_train[cname].nunique() < 14 and \n",
        "                    df_train[cname].dtype == \"object\"]\n",
        "print(categorical_cols)"
      ],
      "execution_count": 70,
      "outputs": [
        {
          "output_type": "stream",
          "name": "stdout",
          "text": [
            "['key', 'mode']\n"
          ]
        }
      ]
    },
    {
      "cell_type": "markdown",
      "metadata": {
        "id": "poCNhlTChmjj"
      },
      "source": [
        "Quedan descartadas las variables categoricas: \n",
        "\n",
        "*   Time_signature por los motivos comentados anteriormente\n",
        "*   track_id: no hay ninguna razon para utilizarla\n",
        "*   el nombre del artista: son demasiadas variables de momento las sacamos pero es cierto que es un feature interesente \n",
        "*   track_name: todos sus valores son distintos \n",
        "\n",
        "\n",
        "\n",
        "\n",
        "\n"
      ]
    },
    {
      "cell_type": "code",
      "metadata": {
        "colab": {
          "base_uri": "https://localhost:8080/"
        },
        "id": "AQ4BfBobeR_6",
        "outputId": "192d5fd4-fda3-4177-e9d8-e6d80017bc05"
      },
      "source": [
        "list_of_modes = df_train['mode'].unique()\n",
        "print(list_of_modes)"
      ],
      "execution_count": 71,
      "outputs": [
        {
          "output_type": "stream",
          "name": "stdout",
          "text": [
            "['Major' 'Minor']\n"
          ]
        }
      ]
    },
    {
      "cell_type": "code",
      "metadata": {
        "colab": {
          "base_uri": "https://localhost:8080/"
        },
        "id": "3YaFNClZWVad",
        "outputId": "5f1fe7c4-92a8-46c4-f69e-09465d5d9a87"
      },
      "source": [
        "list_of_keys = df_train['key'].unique()\n",
        "print(list_of_keys)\n"
      ],
      "execution_count": 72,
      "outputs": [
        {
          "output_type": "stream",
          "name": "stdout",
          "text": [
            "['B' 'A#' 'C#' 'C' 'F#' 'E' 'A' 'D' 'G' 'F' 'G#' 'D#']\n"
          ]
        }
      ]
    },
    {
      "cell_type": "markdown",
      "metadata": {
        "id": "PoEJIv4hqDe1"
      },
      "source": [
        "# Removiendo datos de columnas faltantes, separacion en entrenamiento y validacion"
      ]
    },
    {
      "cell_type": "code",
      "metadata": {
        "id": "7o6tPneUaeji"
      },
      "source": [
        "# Remove rows with missing target, separate target from predictors\n",
        "\n",
        "X = df_train.drop(columns=['genre'])\n",
        "y = df_train['genre']\n"
      ],
      "execution_count": 73,
      "outputs": []
    },
    {
      "cell_type": "code",
      "metadata": {
        "id": "LIxxgMn0sIr7"
      },
      "source": [
        ""
      ],
      "execution_count": 73,
      "outputs": []
    },
    {
      "cell_type": "code",
      "metadata": {
        "id": "9O44HK6TVf_R"
      },
      "source": [
        "from sklearn.model_selection import train_test_split\n",
        "X_train_full, X_valid_full, y_train, y_valid = train_test_split(df_train, y, \n",
        "                                                                train_size=0.8, test_size=0.2,\n",
        "                                                                random_state=0)"
      ],
      "execution_count": 74,
      "outputs": []
    },
    {
      "cell_type": "code",
      "metadata": {
        "colab": {
          "base_uri": "https://localhost:8080/"
        },
        "id": "iAiydVuZu427",
        "outputId": "5deaa962-1385-4251-985f-815ea304f6fe"
      },
      "source": [
        "y_train.value_counts().sort_index()"
      ],
      "execution_count": 75,
      "outputs": [
        {
          "output_type": "execute_result",
          "data": {
            "text/plain": [
              "A Capella             74\n",
              "Alternative         5813\n",
              "Anime               5700\n",
              "Blues               5718\n",
              "Children’s Music    6002\n",
              "Classical           5947\n",
              "Country             5409\n",
              "Dance               5612\n",
              "Electronic          6063\n",
              "Folk                5997\n",
              "Hip-Hop             5885\n",
              "Indie               6121\n",
              "Jazz                6117\n",
              "Movie               5032\n",
              "Opera               5283\n",
              "Pop                 6012\n",
              "R&B                 5839\n",
              "Rap                 5856\n",
              "Reggae              5608\n",
              "Reggaeton           5707\n",
              "Rock                5937\n",
              "Ska                 5777\n",
              "Soul                5824\n",
              "Soundtrack          6184\n",
              "World               5771\n",
              "Name: genre, dtype: int64"
            ]
          },
          "metadata": {},
          "execution_count": 75
        }
      ]
    },
    {
      "cell_type": "code",
      "metadata": {
        "colab": {
          "base_uri": "https://localhost:8080/"
        },
        "id": "Zif4X2myu_Je",
        "outputId": "70c01947-33f2-4344-bd4d-cd8ca95d39f5"
      },
      "source": [
        "y_valid.value_counts().sort_index()"
      ],
      "execution_count": 76,
      "outputs": [
        {
          "output_type": "execute_result",
          "data": {
            "text/plain": [
              "A Capella             22\n",
              "Alternative         1529\n",
              "Anime               1431\n",
              "Blues               1469\n",
              "Children’s Music    1552\n",
              "Classical           1448\n",
              "Country             1452\n",
              "Dance               1338\n",
              "Electronic          1437\n",
              "Folk                1409\n",
              "Hip-Hop             1537\n",
              "Indie               1482\n",
              "Jazz                1517\n",
              "Movie               1229\n",
              "Opera               1329\n",
              "Pop                 1520\n",
              "R&B                 1403\n",
              "Rap                 1511\n",
              "Reggae              1411\n",
              "Reggaeton           1432\n",
              "Rock                1518\n",
              "Ska                 1377\n",
              "Soul                1456\n",
              "Soundtrack          1574\n",
              "World               1440\n",
              "Name: genre, dtype: int64"
            ]
          },
          "metadata": {},
          "execution_count": 76
        }
      ]
    },
    {
      "cell_type": "code",
      "metadata": {
        "colab": {
          "base_uri": "https://localhost:8080/"
        },
        "id": "KYwi6Pgbdpxl",
        "outputId": "2d9d2645-e03a-4387-d73c-d9e407f27292"
      },
      "source": [
        "\n",
        "# Select numerical columns\n",
        "numerical_cols = [cname for cname in X_train_full.columns if \n",
        "                X_train_full[cname].dtype in ['int64', 'float64']]\n",
        "\n",
        "print(numerical_cols)"
      ],
      "execution_count": 77,
      "outputs": [
        {
          "output_type": "stream",
          "name": "stdout",
          "text": [
            "['popularity', 'acousticness', 'danceability', 'duration_ms', 'energy', 'instrumentalness', 'liveness', 'loudness', 'speechiness', 'tempo', 'valence']\n"
          ]
        }
      ]
    },
    {
      "cell_type": "code",
      "metadata": {
        "id": "Dqs9VYZzfVyp"
      },
      "source": [
        "#Seleccion de columnas\n",
        "my_cols = categorical_cols + numerical_cols\n",
        "X_train = X_train_full[my_cols].copy()\n",
        "X_valid = X_valid_full[my_cols].copy()\n"
      ],
      "execution_count": 78,
      "outputs": []
    },
    {
      "cell_type": "markdown",
      "metadata": {
        "id": "YA7H7dj-qPJj"
      },
      "source": [
        "# Un poco de ingenieria de datos"
      ]
    },
    {
      "cell_type": "code",
      "metadata": {
        "id": "UUausLOOgyys"
      },
      "source": [
        "from sklearn.preprocessing import OrdinalEncoder\n",
        "\n",
        "\n",
        "label_X_train = X_train.copy()\n",
        "label_X_valid = X_valid.copy()\n",
        "\n",
        "ordinal_encoder = OrdinalEncoder()\n",
        "label_X_train[categorical_cols] = ordinal_encoder.fit_transform(X_train[categorical_cols])\n",
        "label_X_valid[categorical_cols] = ordinal_encoder.transform(X_valid[categorical_cols])\n",
        "\n",
        "\n"
      ],
      "execution_count": 79,
      "outputs": []
    },
    {
      "cell_type": "markdown",
      "metadata": {
        "id": "MU0fA7b87LK1"
      },
      "source": [
        "### Viendo si la transformacion esta bien"
      ]
    },
    {
      "cell_type": "code",
      "metadata": {
        "id": "ah4btRW36EE_",
        "outputId": "5f49666b-e2b4-4e50-dc9c-aeb9e5e87592",
        "colab": {
          "base_uri": "https://localhost:8080/",
          "height": 0
        }
      },
      "source": [
        "label_X_valid.head()"
      ],
      "execution_count": 80,
      "outputs": [
        {
          "output_type": "execute_result",
          "data": {
            "text/html": [
              "<div>\n",
              "<style scoped>\n",
              "    .dataframe tbody tr th:only-of-type {\n",
              "        vertical-align: middle;\n",
              "    }\n",
              "\n",
              "    .dataframe tbody tr th {\n",
              "        vertical-align: top;\n",
              "    }\n",
              "\n",
              "    .dataframe thead th {\n",
              "        text-align: right;\n",
              "    }\n",
              "</style>\n",
              "<table border=\"1\" class=\"dataframe\">\n",
              "  <thead>\n",
              "    <tr style=\"text-align: right;\">\n",
              "      <th></th>\n",
              "      <th>key</th>\n",
              "      <th>mode</th>\n",
              "      <th>popularity</th>\n",
              "      <th>acousticness</th>\n",
              "      <th>danceability</th>\n",
              "      <th>duration_ms</th>\n",
              "      <th>energy</th>\n",
              "      <th>instrumentalness</th>\n",
              "      <th>liveness</th>\n",
              "      <th>loudness</th>\n",
              "      <th>speechiness</th>\n",
              "      <th>tempo</th>\n",
              "      <th>valence</th>\n",
              "    </tr>\n",
              "  </thead>\n",
              "  <tbody>\n",
              "    <tr>\n",
              "      <th>170785</th>\n",
              "      <td>3.0</td>\n",
              "      <td>0.0</td>\n",
              "      <td>53</td>\n",
              "      <td>0.000018</td>\n",
              "      <td>0.389</td>\n",
              "      <td>251867</td>\n",
              "      <td>0.925</td>\n",
              "      <td>0.244000</td>\n",
              "      <td>0.2220</td>\n",
              "      <td>-7.970</td>\n",
              "      <td>0.0643</td>\n",
              "      <td>150.893</td>\n",
              "      <td>0.318</td>\n",
              "    </tr>\n",
              "    <tr>\n",
              "      <th>157944</th>\n",
              "      <td>4.0</td>\n",
              "      <td>0.0</td>\n",
              "      <td>45</td>\n",
              "      <td>0.098300</td>\n",
              "      <td>0.746</td>\n",
              "      <td>242000</td>\n",
              "      <td>0.575</td>\n",
              "      <td>0.309000</td>\n",
              "      <td>0.3450</td>\n",
              "      <td>-9.032</td>\n",
              "      <td>0.0267</td>\n",
              "      <td>119.698</td>\n",
              "      <td>0.591</td>\n",
              "    </tr>\n",
              "    <tr>\n",
              "      <th>56031</th>\n",
              "      <td>10.0</td>\n",
              "      <td>0.0</td>\n",
              "      <td>47</td>\n",
              "      <td>0.646000</td>\n",
              "      <td>0.513</td>\n",
              "      <td>195147</td>\n",
              "      <td>0.818</td>\n",
              "      <td>0.013600</td>\n",
              "      <td>0.1830</td>\n",
              "      <td>-6.770</td>\n",
              "      <td>0.0425</td>\n",
              "      <td>79.440</td>\n",
              "      <td>0.902</td>\n",
              "    </tr>\n",
              "    <tr>\n",
              "      <th>71230</th>\n",
              "      <td>0.0</td>\n",
              "      <td>0.0</td>\n",
              "      <td>0</td>\n",
              "      <td>0.006120</td>\n",
              "      <td>0.721</td>\n",
              "      <td>226010</td>\n",
              "      <td>0.724</td>\n",
              "      <td>0.000004</td>\n",
              "      <td>0.0541</td>\n",
              "      <td>-7.077</td>\n",
              "      <td>0.0689</td>\n",
              "      <td>107.770</td>\n",
              "      <td>0.651</td>\n",
              "    </tr>\n",
              "    <tr>\n",
              "      <th>130337</th>\n",
              "      <td>7.0</td>\n",
              "      <td>0.0</td>\n",
              "      <td>49</td>\n",
              "      <td>0.603000</td>\n",
              "      <td>0.693</td>\n",
              "      <td>294920</td>\n",
              "      <td>0.437</td>\n",
              "      <td>0.398000</td>\n",
              "      <td>0.1680</td>\n",
              "      <td>-8.472</td>\n",
              "      <td>0.0336</td>\n",
              "      <td>131.000</td>\n",
              "      <td>0.462</td>\n",
              "    </tr>\n",
              "  </tbody>\n",
              "</table>\n",
              "</div>"
            ],
            "text/plain": [
              "         key  mode  popularity  ...  speechiness    tempo  valence\n",
              "170785   3.0   0.0          53  ...       0.0643  150.893    0.318\n",
              "157944   4.0   0.0          45  ...       0.0267  119.698    0.591\n",
              "56031   10.0   0.0          47  ...       0.0425   79.440    0.902\n",
              "71230    0.0   0.0           0  ...       0.0689  107.770    0.651\n",
              "130337   7.0   0.0          49  ...       0.0336  131.000    0.462\n",
              "\n",
              "[5 rows x 13 columns]"
            ]
          },
          "metadata": {},
          "execution_count": 80
        }
      ]
    },
    {
      "cell_type": "code",
      "metadata": {
        "id": "qPn2z0Ta6lHX",
        "outputId": "b716e97a-e72f-4d18-91a8-b55446db1182",
        "colab": {
          "base_uri": "https://localhost:8080/",
          "height": 0
        }
      },
      "source": [
        "X_valid.head()"
      ],
      "execution_count": 81,
      "outputs": [
        {
          "output_type": "execute_result",
          "data": {
            "text/html": [
              "<div>\n",
              "<style scoped>\n",
              "    .dataframe tbody tr th:only-of-type {\n",
              "        vertical-align: middle;\n",
              "    }\n",
              "\n",
              "    .dataframe tbody tr th {\n",
              "        vertical-align: top;\n",
              "    }\n",
              "\n",
              "    .dataframe thead th {\n",
              "        text-align: right;\n",
              "    }\n",
              "</style>\n",
              "<table border=\"1\" class=\"dataframe\">\n",
              "  <thead>\n",
              "    <tr style=\"text-align: right;\">\n",
              "      <th></th>\n",
              "      <th>key</th>\n",
              "      <th>mode</th>\n",
              "      <th>popularity</th>\n",
              "      <th>acousticness</th>\n",
              "      <th>danceability</th>\n",
              "      <th>duration_ms</th>\n",
              "      <th>energy</th>\n",
              "      <th>instrumentalness</th>\n",
              "      <th>liveness</th>\n",
              "      <th>loudness</th>\n",
              "      <th>speechiness</th>\n",
              "      <th>tempo</th>\n",
              "      <th>valence</th>\n",
              "    </tr>\n",
              "  </thead>\n",
              "  <tbody>\n",
              "    <tr>\n",
              "      <th>170785</th>\n",
              "      <td>C</td>\n",
              "      <td>Major</td>\n",
              "      <td>53</td>\n",
              "      <td>0.000018</td>\n",
              "      <td>0.389</td>\n",
              "      <td>251867</td>\n",
              "      <td>0.925</td>\n",
              "      <td>0.244000</td>\n",
              "      <td>0.2220</td>\n",
              "      <td>-7.970</td>\n",
              "      <td>0.0643</td>\n",
              "      <td>150.893</td>\n",
              "      <td>0.318</td>\n",
              "    </tr>\n",
              "    <tr>\n",
              "      <th>157944</th>\n",
              "      <td>C#</td>\n",
              "      <td>Major</td>\n",
              "      <td>45</td>\n",
              "      <td>0.098300</td>\n",
              "      <td>0.746</td>\n",
              "      <td>242000</td>\n",
              "      <td>0.575</td>\n",
              "      <td>0.309000</td>\n",
              "      <td>0.3450</td>\n",
              "      <td>-9.032</td>\n",
              "      <td>0.0267</td>\n",
              "      <td>119.698</td>\n",
              "      <td>0.591</td>\n",
              "    </tr>\n",
              "    <tr>\n",
              "      <th>56031</th>\n",
              "      <td>G</td>\n",
              "      <td>Major</td>\n",
              "      <td>47</td>\n",
              "      <td>0.646000</td>\n",
              "      <td>0.513</td>\n",
              "      <td>195147</td>\n",
              "      <td>0.818</td>\n",
              "      <td>0.013600</td>\n",
              "      <td>0.1830</td>\n",
              "      <td>-6.770</td>\n",
              "      <td>0.0425</td>\n",
              "      <td>79.440</td>\n",
              "      <td>0.902</td>\n",
              "    </tr>\n",
              "    <tr>\n",
              "      <th>71230</th>\n",
              "      <td>A</td>\n",
              "      <td>Major</td>\n",
              "      <td>0</td>\n",
              "      <td>0.006120</td>\n",
              "      <td>0.721</td>\n",
              "      <td>226010</td>\n",
              "      <td>0.724</td>\n",
              "      <td>0.000004</td>\n",
              "      <td>0.0541</td>\n",
              "      <td>-7.077</td>\n",
              "      <td>0.0689</td>\n",
              "      <td>107.770</td>\n",
              "      <td>0.651</td>\n",
              "    </tr>\n",
              "    <tr>\n",
              "      <th>130337</th>\n",
              "      <td>E</td>\n",
              "      <td>Major</td>\n",
              "      <td>49</td>\n",
              "      <td>0.603000</td>\n",
              "      <td>0.693</td>\n",
              "      <td>294920</td>\n",
              "      <td>0.437</td>\n",
              "      <td>0.398000</td>\n",
              "      <td>0.1680</td>\n",
              "      <td>-8.472</td>\n",
              "      <td>0.0336</td>\n",
              "      <td>131.000</td>\n",
              "      <td>0.462</td>\n",
              "    </tr>\n",
              "  </tbody>\n",
              "</table>\n",
              "</div>"
            ],
            "text/plain": [
              "       key   mode  popularity  ...  speechiness    tempo  valence\n",
              "170785   C  Major          53  ...       0.0643  150.893    0.318\n",
              "157944  C#  Major          45  ...       0.0267  119.698    0.591\n",
              "56031    G  Major          47  ...       0.0425   79.440    0.902\n",
              "71230    A  Major           0  ...       0.0689  107.770    0.651\n",
              "130337   E  Major          49  ...       0.0336  131.000    0.462\n",
              "\n",
              "[5 rows x 13 columns]"
            ]
          },
          "metadata": {},
          "execution_count": 81
        }
      ]
    },
    {
      "cell_type": "code",
      "metadata": {
        "id": "_2OBXTVY6XPk",
        "outputId": "679f73fa-6d90-45b9-f17d-435bdc6c4fa0",
        "colab": {
          "base_uri": "https://localhost:8080/",
          "height": 0
        }
      },
      "source": [
        "label_X_train.head()"
      ],
      "execution_count": 82,
      "outputs": [
        {
          "output_type": "execute_result",
          "data": {
            "text/html": [
              "<div>\n",
              "<style scoped>\n",
              "    .dataframe tbody tr th:only-of-type {\n",
              "        vertical-align: middle;\n",
              "    }\n",
              "\n",
              "    .dataframe tbody tr th {\n",
              "        vertical-align: top;\n",
              "    }\n",
              "\n",
              "    .dataframe thead th {\n",
              "        text-align: right;\n",
              "    }\n",
              "</style>\n",
              "<table border=\"1\" class=\"dataframe\">\n",
              "  <thead>\n",
              "    <tr style=\"text-align: right;\">\n",
              "      <th></th>\n",
              "      <th>key</th>\n",
              "      <th>mode</th>\n",
              "      <th>popularity</th>\n",
              "      <th>acousticness</th>\n",
              "      <th>danceability</th>\n",
              "      <th>duration_ms</th>\n",
              "      <th>energy</th>\n",
              "      <th>instrumentalness</th>\n",
              "      <th>liveness</th>\n",
              "      <th>loudness</th>\n",
              "      <th>speechiness</th>\n",
              "      <th>tempo</th>\n",
              "      <th>valence</th>\n",
              "    </tr>\n",
              "  </thead>\n",
              "  <tbody>\n",
              "    <tr>\n",
              "      <th>101822</th>\n",
              "      <td>1.0</td>\n",
              "      <td>0.0</td>\n",
              "      <td>10</td>\n",
              "      <td>0.87200</td>\n",
              "      <td>0.363</td>\n",
              "      <td>52067</td>\n",
              "      <td>0.135</td>\n",
              "      <td>0.96700</td>\n",
              "      <td>0.4640</td>\n",
              "      <td>-23.681</td>\n",
              "      <td>0.0390</td>\n",
              "      <td>84.979</td>\n",
              "      <td>0.400</td>\n",
              "    </tr>\n",
              "    <tr>\n",
              "      <th>83812</th>\n",
              "      <td>5.0</td>\n",
              "      <td>0.0</td>\n",
              "      <td>28</td>\n",
              "      <td>0.49300</td>\n",
              "      <td>0.803</td>\n",
              "      <td>172067</td>\n",
              "      <td>0.358</td>\n",
              "      <td>0.00474</td>\n",
              "      <td>0.0991</td>\n",
              "      <td>-16.478</td>\n",
              "      <td>0.1690</td>\n",
              "      <td>133.776</td>\n",
              "      <td>0.916</td>\n",
              "    </tr>\n",
              "    <tr>\n",
              "      <th>2556</th>\n",
              "      <td>4.0</td>\n",
              "      <td>0.0</td>\n",
              "      <td>44</td>\n",
              "      <td>0.73400</td>\n",
              "      <td>0.352</td>\n",
              "      <td>667745</td>\n",
              "      <td>0.357</td>\n",
              "      <td>0.86400</td>\n",
              "      <td>0.1360</td>\n",
              "      <td>-10.013</td>\n",
              "      <td>0.0334</td>\n",
              "      <td>130.184</td>\n",
              "      <td>0.213</td>\n",
              "    </tr>\n",
              "    <tr>\n",
              "      <th>174265</th>\n",
              "      <td>11.0</td>\n",
              "      <td>1.0</td>\n",
              "      <td>48</td>\n",
              "      <td>0.21200</td>\n",
              "      <td>0.631</td>\n",
              "      <td>266667</td>\n",
              "      <td>0.793</td>\n",
              "      <td>0.00000</td>\n",
              "      <td>0.0441</td>\n",
              "      <td>-7.551</td>\n",
              "      <td>0.2510</td>\n",
              "      <td>175.814</td>\n",
              "      <td>0.826</td>\n",
              "    </tr>\n",
              "    <tr>\n",
              "      <th>136222</th>\n",
              "      <td>9.0</td>\n",
              "      <td>1.0</td>\n",
              "      <td>68</td>\n",
              "      <td>0.00163</td>\n",
              "      <td>0.504</td>\n",
              "      <td>214520</td>\n",
              "      <td>0.891</td>\n",
              "      <td>0.00199</td>\n",
              "      <td>0.1480</td>\n",
              "      <td>-5.632</td>\n",
              "      <td>0.1370</td>\n",
              "      <td>153.988</td>\n",
              "      <td>0.628</td>\n",
              "    </tr>\n",
              "  </tbody>\n",
              "</table>\n",
              "</div>"
            ],
            "text/plain": [
              "         key  mode  popularity  ...  speechiness    tempo  valence\n",
              "101822   1.0   0.0          10  ...       0.0390   84.979    0.400\n",
              "83812    5.0   0.0          28  ...       0.1690  133.776    0.916\n",
              "2556     4.0   0.0          44  ...       0.0334  130.184    0.213\n",
              "174265  11.0   1.0          48  ...       0.2510  175.814    0.826\n",
              "136222   9.0   1.0          68  ...       0.1370  153.988    0.628\n",
              "\n",
              "[5 rows x 13 columns]"
            ]
          },
          "metadata": {},
          "execution_count": 82
        }
      ]
    },
    {
      "cell_type": "code",
      "metadata": {
        "id": "4I5Epf016rBR",
        "outputId": "cc7e61c5-edca-4fea-91dc-9efa4b18de4e",
        "colab": {
          "base_uri": "https://localhost:8080/",
          "height": 0
        }
      },
      "source": [
        "X_train.head()"
      ],
      "execution_count": 83,
      "outputs": [
        {
          "output_type": "execute_result",
          "data": {
            "text/html": [
              "<div>\n",
              "<style scoped>\n",
              "    .dataframe tbody tr th:only-of-type {\n",
              "        vertical-align: middle;\n",
              "    }\n",
              "\n",
              "    .dataframe tbody tr th {\n",
              "        vertical-align: top;\n",
              "    }\n",
              "\n",
              "    .dataframe thead th {\n",
              "        text-align: right;\n",
              "    }\n",
              "</style>\n",
              "<table border=\"1\" class=\"dataframe\">\n",
              "  <thead>\n",
              "    <tr style=\"text-align: right;\">\n",
              "      <th></th>\n",
              "      <th>key</th>\n",
              "      <th>mode</th>\n",
              "      <th>popularity</th>\n",
              "      <th>acousticness</th>\n",
              "      <th>danceability</th>\n",
              "      <th>duration_ms</th>\n",
              "      <th>energy</th>\n",
              "      <th>instrumentalness</th>\n",
              "      <th>liveness</th>\n",
              "      <th>loudness</th>\n",
              "      <th>speechiness</th>\n",
              "      <th>tempo</th>\n",
              "      <th>valence</th>\n",
              "    </tr>\n",
              "  </thead>\n",
              "  <tbody>\n",
              "    <tr>\n",
              "      <th>101822</th>\n",
              "      <td>A#</td>\n",
              "      <td>Major</td>\n",
              "      <td>10</td>\n",
              "      <td>0.87200</td>\n",
              "      <td>0.363</td>\n",
              "      <td>52067</td>\n",
              "      <td>0.135</td>\n",
              "      <td>0.96700</td>\n",
              "      <td>0.4640</td>\n",
              "      <td>-23.681</td>\n",
              "      <td>0.0390</td>\n",
              "      <td>84.979</td>\n",
              "      <td>0.400</td>\n",
              "    </tr>\n",
              "    <tr>\n",
              "      <th>83812</th>\n",
              "      <td>D</td>\n",
              "      <td>Major</td>\n",
              "      <td>28</td>\n",
              "      <td>0.49300</td>\n",
              "      <td>0.803</td>\n",
              "      <td>172067</td>\n",
              "      <td>0.358</td>\n",
              "      <td>0.00474</td>\n",
              "      <td>0.0991</td>\n",
              "      <td>-16.478</td>\n",
              "      <td>0.1690</td>\n",
              "      <td>133.776</td>\n",
              "      <td>0.916</td>\n",
              "    </tr>\n",
              "    <tr>\n",
              "      <th>2556</th>\n",
              "      <td>C#</td>\n",
              "      <td>Major</td>\n",
              "      <td>44</td>\n",
              "      <td>0.73400</td>\n",
              "      <td>0.352</td>\n",
              "      <td>667745</td>\n",
              "      <td>0.357</td>\n",
              "      <td>0.86400</td>\n",
              "      <td>0.1360</td>\n",
              "      <td>-10.013</td>\n",
              "      <td>0.0334</td>\n",
              "      <td>130.184</td>\n",
              "      <td>0.213</td>\n",
              "    </tr>\n",
              "    <tr>\n",
              "      <th>174265</th>\n",
              "      <td>G#</td>\n",
              "      <td>Minor</td>\n",
              "      <td>48</td>\n",
              "      <td>0.21200</td>\n",
              "      <td>0.631</td>\n",
              "      <td>266667</td>\n",
              "      <td>0.793</td>\n",
              "      <td>0.00000</td>\n",
              "      <td>0.0441</td>\n",
              "      <td>-7.551</td>\n",
              "      <td>0.2510</td>\n",
              "      <td>175.814</td>\n",
              "      <td>0.826</td>\n",
              "    </tr>\n",
              "    <tr>\n",
              "      <th>136222</th>\n",
              "      <td>F#</td>\n",
              "      <td>Minor</td>\n",
              "      <td>68</td>\n",
              "      <td>0.00163</td>\n",
              "      <td>0.504</td>\n",
              "      <td>214520</td>\n",
              "      <td>0.891</td>\n",
              "      <td>0.00199</td>\n",
              "      <td>0.1480</td>\n",
              "      <td>-5.632</td>\n",
              "      <td>0.1370</td>\n",
              "      <td>153.988</td>\n",
              "      <td>0.628</td>\n",
              "    </tr>\n",
              "  </tbody>\n",
              "</table>\n",
              "</div>"
            ],
            "text/plain": [
              "       key   mode  popularity  ...  speechiness    tempo  valence\n",
              "101822  A#  Major          10  ...       0.0390   84.979    0.400\n",
              "83812    D  Major          28  ...       0.1690  133.776    0.916\n",
              "2556    C#  Major          44  ...       0.0334  130.184    0.213\n",
              "174265  G#  Minor          48  ...       0.2510  175.814    0.826\n",
              "136222  F#  Minor          68  ...       0.1370  153.988    0.628\n",
              "\n",
              "[5 rows x 13 columns]"
            ]
          },
          "metadata": {},
          "execution_count": 83
        }
      ]
    },
    {
      "cell_type": "markdown",
      "metadata": {
        "id": "Nwv_79ISqTi2"
      },
      "source": [
        "# Probando modelos"
      ]
    },
    {
      "cell_type": "markdown",
      "metadata": {
        "id": "i3o-ZW4u8lOD"
      },
      "source": [
        "\n",
        "###  Regresion Logistica\n",
        "\n",
        "\n",
        "\n",
        "\n",
        "\n",
        "\n",
        "\n",
        "\n",
        "\n",
        "\n",
        "\n",
        "\n"
      ]
    },
    {
      "cell_type": "code",
      "metadata": {
        "colab": {
          "base_uri": "https://localhost:8080/"
        },
        "id": "po37coMsh2-R",
        "outputId": "987138c0-375e-4095-a595-57c5053309b3"
      },
      "source": [
        "from sklearn.linear_model import LogisticRegression\n",
        "\n",
        "model = LogisticRegression(multi_class = 'multinomial', solver='lbfgs', max_iter=200)\n",
        "\n",
        "model.fit(label_X_train, y_train)"
      ],
      "execution_count": 84,
      "outputs": [
        {
          "output_type": "execute_result",
          "data": {
            "text/plain": [
              "LogisticRegression(C=1.0, class_weight=None, dual=False, fit_intercept=True,\n",
              "                   intercept_scaling=1, l1_ratio=None, max_iter=200,\n",
              "                   multi_class='multinomial', n_jobs=None, penalty='l2',\n",
              "                   random_state=None, solver='lbfgs', tol=0.0001, verbose=0,\n",
              "                   warm_start=False)"
            ]
          },
          "metadata": {},
          "execution_count": 84
        }
      ]
    },
    {
      "cell_type": "code",
      "metadata": {
        "id": "62zUeddGhUNW"
      },
      "source": [
        "y_pred = model.predict(label_X_valid)"
      ],
      "execution_count": 102,
      "outputs": []
    },
    {
      "cell_type": "code",
      "metadata": {
        "id": "Udj_R7Wka1Xz",
        "colab": {
          "base_uri": "https://localhost:8080/"
        },
        "outputId": "5e5510d3-0980-432e-fc18-ad5499319625"
      },
      "source": [
        "from sklearn.metrics import classification_report, accuracy_score\n",
        "print(accuracy_score(y_valid, y_pred))"
      ],
      "execution_count": 103,
      "outputs": [
        {
          "output_type": "stream",
          "name": "stdout",
          "text": [
            "0.11549837750911754\n"
          ]
        }
      ]
    },
    {
      "cell_type": "markdown",
      "metadata": {
        "id": "bKuFdy8u9ZcB"
      },
      "source": [
        "### Random Forest"
      ]
    },
    {
      "cell_type": "code",
      "metadata": {
        "colab": {
          "base_uri": "https://localhost:8080/"
        },
        "id": "8uiimEzhQhrE",
        "outputId": "2fa2751b-8b87-49b6-a029-2221da4dad4f"
      },
      "source": [
        "from sklearn.ensemble import RandomForestClassifier\n",
        "\n",
        "rfc = RandomForestClassifier(n_estimators=30, random_state=42)\n",
        "rfc.fit(label_X_train, y_train)"
      ],
      "execution_count": 104,
      "outputs": [
        {
          "output_type": "execute_result",
          "data": {
            "text/plain": [
              "RandomForestClassifier(bootstrap=True, ccp_alpha=0.0, class_weight=None,\n",
              "                       criterion='gini', max_depth=None, max_features='auto',\n",
              "                       max_leaf_nodes=None, max_samples=None,\n",
              "                       min_impurity_decrease=0.0, min_impurity_split=None,\n",
              "                       min_samples_leaf=1, min_samples_split=2,\n",
              "                       min_weight_fraction_leaf=0.0, n_estimators=30,\n",
              "                       n_jobs=None, oob_score=False, random_state=42, verbose=0,\n",
              "                       warm_start=False)"
            ]
          },
          "metadata": {},
          "execution_count": 104
        }
      ]
    },
    {
      "cell_type": "code",
      "metadata": {
        "colab": {
          "base_uri": "https://localhost:8080/"
        },
        "id": "Zk1I58QoPVd8",
        "outputId": "d96523de-d826-41c7-9590-1b6ad47ff904"
      },
      "source": [
        "predict = rfc.predict(label_X_valid)\n",
        "print(accuracy_score(y_valid, predict))\n"
      ],
      "execution_count": 105,
      "outputs": [
        {
          "output_type": "stream",
          "name": "stdout",
          "text": [
            "0.33348648881486376\n"
          ]
        }
      ]
    },
    {
      "cell_type": "markdown",
      "metadata": {
        "id": "kSqfDPABO5eR"
      },
      "source": [
        "### GridSerchCv en RandonForest"
      ]
    },
    {
      "cell_type": "code",
      "metadata": {
        "id": "57i5jGJ_O9I6"
      },
      "source": [
        "# Numero de arboles\n",
        "n_estimators = [int(x) for x in np.linspace(start = 10, stop = 80, num = 10)]\n",
        "# Numero de features considerado al dividir\n",
        "max_features = ['auto', 'sqrt']\n",
        "# numero maximo de niveles\n",
        "max_depth = [2,4]\n",
        "# Numero minimo de niveles por nodo\n",
        "min_samples_split = [2, 5]\n",
        "# Numero minimo de niveles por hoja\n",
        "min_samples_leaf = [1, 2]\n",
        "# metodo de seleccion por arbol \n",
        "bootstrap = [True, False]"
      ],
      "execution_count": 89,
      "outputs": []
    },
    {
      "cell_type": "code",
      "metadata": {
        "id": "YfjcG6JpPdtI"
      },
      "source": [
        "# Grilla\n",
        "param_grid = {'n_estimators': n_estimators,\n",
        "               'max_features': max_features,\n",
        "               'max_depth': max_depth,\n",
        "               'min_samples_split': min_samples_split,\n",
        "               'min_samples_leaf': min_samples_leaf,\n",
        "               'bootstrap': bootstrap}\n"
      ],
      "execution_count": 90,
      "outputs": []
    },
    {
      "cell_type": "code",
      "metadata": {
        "id": "1FSHvEXfPkd_"
      },
      "source": [
        "from sklearn.model_selection import GridSearchCV\n",
        "rfc_Grid = GridSearchCV(estimator = rfc, param_grid = param_grid, cv = 3, verbose=2, n_jobs = 4)"
      ],
      "execution_count": 91,
      "outputs": []
    },
    {
      "cell_type": "code",
      "metadata": {
        "id": "GJRgdz_2Ppvs"
      },
      "source": [
        "#rfc_Grid.fit(label_X_train, y_train)\n"
      ],
      "execution_count": 92,
      "outputs": []
    },
    {
      "cell_type": "code",
      "metadata": {
        "id": "Qu7Jnnxhrhnj"
      },
      "source": [
        "#rfc_Grid.best_params_"
      ],
      "execution_count": 93,
      "outputs": []
    },
    {
      "cell_type": "code",
      "metadata": {
        "id": "b6jOoVtILlg5"
      },
      "source": [
        ""
      ],
      "execution_count": 93,
      "outputs": []
    },
    {
      "cell_type": "code",
      "metadata": {
        "id": "HUfV_Th5LfVH"
      },
      "source": [
        "\n",
        "#clf  = RandomForestClassifier(n_estimators=80, random_state=42,bootstrap=True,max_depth= 4, max_features='auto',min_samples_leaf=1,min_samples_split=2)\n",
        "#clf.fit(label_X_train, y_train)\n",
        "#y_clf = clf.predict(label_X_valid)\n"
      ],
      "execution_count": 94,
      "outputs": []
    },
    {
      "cell_type": "code",
      "metadata": {
        "id": "Y6J88LulMt0c"
      },
      "source": [
        "#print(accuracy_score(y_valid, y_clf))\n"
      ],
      "execution_count": 95,
      "outputs": []
    },
    {
      "cell_type": "code",
      "metadata": {
        "id": "ce0nRMDPtRIg"
      },
      "source": [
        "#from sklearn.externals import joblib\n",
        "#joblib.dump(rfc_Grid,'modelo_entrenado.pkl')"
      ],
      "execution_count": 96,
      "outputs": []
    }
  ]
}